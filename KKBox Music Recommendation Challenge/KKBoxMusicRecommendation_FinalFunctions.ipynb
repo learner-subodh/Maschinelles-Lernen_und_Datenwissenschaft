{
  "nbformat": 4,
  "nbformat_minor": 0,
  "metadata": {
    "colab": {
      "name": "KKBoxMusicRecommendation_FinalFunctions.ipynb",
      "provenance": [],
      "collapsed_sections": [],
      "toc_visible": true
    },
    "kernelspec": {
      "display_name": "Python 3",
      "language": "python",
      "name": "python3"
    },
    "language_info": {
      "codemirror_mode": {
        "name": "ipython",
        "version": 3
      },
      "file_extension": ".py",
      "mimetype": "text/x-python",
      "name": "python",
      "nbconvert_exporter": "python",
      "pygments_lexer": "ipython3",
      "version": "3.7.8"
    }
  },
  "cells": [
    {
      "cell_type": "markdown",
      "metadata": {
        "id": "9IC09pskcF2w"
      },
      "source": [
        "# KKBox Music Recommendation Challenge"
      ]
    },
    {
      "cell_type": "markdown",
      "metadata": {
        "id": "OdUqXmNjcVSO"
      },
      "source": [
        "**Final Functions**"
      ]
    },
    {
      "cell_type": "markdown",
      "metadata": {
        "id": "xebuoNjyckLt"
      },
      "source": [
        "Importing necessary libraries"
      ]
    },
    {
      "cell_type": "code",
      "metadata": {
        "id": "TS7BhxRTcTRv"
      },
      "source": [
        "import numpy as np\n",
        "import pandas as pd \n",
        "import seaborn as sns \n",
        "import matplotlib.pyplot as plt\n",
        "import missingno as msno\n",
        "from sklearn.preprocessing import StandardScaler\n",
        "from sklearn.preprocessing import LabelEncoder\n",
        "from sklearn.preprocessing import MinMaxScaler\n",
        "from sklearn.linear_model import SGDClassifier\n",
        "import lightgbm as lgb\n",
        "from sklearn import tree\n",
        "from sklearn.metrics import roc_auc_score\n",
        "import joblib\n",
        "from sklearn.metrics import precision_recall_fscore_support"
      ],
      "execution_count": null,
      "outputs": []
    },
    {
      "cell_type": "markdown",
      "metadata": {
        "id": "z45IefFAiTYo"
      },
      "source": [
        "Loading sample test data..."
      ]
    },
    {
      "cell_type": "code",
      "metadata": {
        "id": "ID0U22-o73ja"
      },
      "source": [
        "test = pd.read_csv('testing_data.csv')\n",
        "test_y = pd.read_csv('testing_data_y.csv')"
      ],
      "execution_count": null,
      "outputs": []
    },
    {
      "cell_type": "code",
      "metadata": {
        "id": "uaHzxPHS73ja"
      },
      "source": [
        "test_point = test.iloc[[1]]\n",
        "true_label = test_y.iloc[[1]]"
      ],
      "execution_count": null,
      "outputs": []
    },
    {
      "cell_type": "markdown",
      "metadata": {
        "id": "xQfd_Z4273jb"
      },
      "source": [
        "Loading the best model..."
      ]
    },
    {
      "cell_type": "code",
      "metadata": {
        "id": "jSJBZe_riu0X"
      },
      "source": [
        "gbm = joblib.load('gbm.pkl')"
      ],
      "execution_count": null,
      "outputs": []
    },
    {
      "cell_type": "markdown",
      "metadata": {
        "id": "LtH5gfme73jd"
      },
      "source": [
        "Function to Plot Classification Report"
      ]
    },
    {
      "cell_type": "code",
      "metadata": {
        "id": "zcuLcpY673je"
      },
      "source": [
        "# https://stackoverflow.com/questions/28200786/how-to-plot-scikit-learn-classification-report\n",
        "\n",
        "def plot_classification_report(y_true, y_pred, figsize=(10, 10), ax=None):\n",
        "\n",
        "    plt.figure(figsize=figsize)\n",
        "\n",
        "    xticks = ['precision', 'recall', 'f1-score', 'support']\n",
        "    yticks = list(np.unique(y_true))\n",
        "    yticks += ['avg']\n",
        "\n",
        "    rep = np.array(precision_recall_fscore_support(y_true, y_pred)).T\n",
        "    avg = np.mean(rep, axis=0)\n",
        "    avg[-1] = np.sum(rep[:, -1])\n",
        "    rep = np.insert(rep, rep.shape[0], avg, axis=0)\n",
        "\n",
        "    sns.heatmap(rep, annot=True, cbar=False, xticklabels=xticks,\n",
        "                yticklabels=yticks, ax=ax)"
      ],
      "execution_count": null,
      "outputs": []
    },
    {
      "cell_type": "markdown",
      "metadata": {
        "id": "j6VHpifxdQHw"
      },
      "source": [
        "***Function 1***"
      ]
    },
    {
      "cell_type": "code",
      "metadata": {
        "id": "J3kg635scEzg"
      },
      "source": [
        "def function_1(test_point, best_model):\n",
        "    '''This function will take a data point and predict the label using the best model'''\n",
        "\n",
        "    predicted_label = best_model.predict(test_point).round()\n",
        "    print(\"Label is: \", predicted_label)\n",
        "    if predicted_label == 1:\n",
        "        print(\"User might like to listen to this song, will be a Good Recommendation!\")\n",
        "    else:\n",
        "        print(\"User might not like to listen to this song, won't be a good recommendation.\")"
      ],
      "execution_count": null,
      "outputs": []
    },
    {
      "cell_type": "markdown",
      "metadata": {
        "id": "7rvqBPbVdpfq"
      },
      "source": [
        "***Function 2***"
      ]
    },
    {
      "cell_type": "code",
      "metadata": {
        "id": "1TKBLDy6dr7k"
      },
      "source": [
        "def function_2(testing_data, true_labels, best_model):\n",
        "    '''This function will calculate metric for the given input data point'''\n",
        "    \n",
        "    predicted_labels = best_model.predict(testing_data)\n",
        "    auc = roc_auc_score(true_labels, predicted_labels)\n",
        "    print('Area Under ROC Curve: ', auc)\n",
        "    \n",
        "    labels = pd.DataFrame({'target': predicted_labels})\n",
        "    labels.to_csv('lgb_predicted_labels.csv', index=False)\n",
        "    \n",
        "    print(\"\\nClassification Report: \")\n",
        "    plot_classification_report(true_labels, predicted_labels.round())"
      ],
      "execution_count": null,
      "outputs": []
    },
    {
      "cell_type": "markdown",
      "metadata": {
        "id": "UuvFsuA573ji"
      },
      "source": [
        "**Calling these functions...**"
      ]
    },
    {
      "cell_type": "code",
      "metadata": {
        "scrolled": false,
        "id": "DzrgNRA973ji",
        "outputId": "5e21cf77-34e9-4d29-ec72-a96d29f1eb16"
      },
      "source": [
        "function_1(test_point, gbm)"
      ],
      "execution_count": null,
      "outputs": [
        {
          "output_type": "stream",
          "text": [
            "Label is:  [1.]\n",
            "User might like to listen to this song, will be a Good Recommendation!\n"
          ],
          "name": "stdout"
        }
      ]
    },
    {
      "cell_type": "code",
      "metadata": {
        "scrolled": true,
        "id": "fQBB5gTn73jk",
        "outputId": "808a8bbb-ccdb-41f1-80ee-dac82a31f21f"
      },
      "source": [
        "function_2(test, test_y, gbm)"
      ],
      "execution_count": null,
      "outputs": [
        {
          "output_type": "stream",
          "text": [
            "Area Under ROC Curve:  0.8864512616602949\n",
            "\n",
            "Classification Report: \n"
          ],
          "name": "stdout"
        },
        {
          "output_type": "display_data",
          "data": {
            "image/png": "[encoded data removed]",
            "text/plain": [
              "<Figure size 1080x720 with 1 Axes>"
            ]
          },
          "metadata": {
            "tags": [],
            "needs_background": "light"
          }
        }
      ]
    },
    {
      "cell_type": "markdown",
      "metadata": {
        "id": "YiBGTiDY8Jft"
      },
      "source": [
        "## Summary & Observations"
      ]
    },
    {
      "cell_type": "markdown",
      "metadata": {
        "id": "WRD7fQcv8QHW"
      },
      "source": [
        "1. We are building a recommendation system, thus, our main objective is to make good quality recommendations.\r\n",
        "2. We shouldn't recommend a song that user won't like. In other words we have to reduce False Positives. Thus, False Positives matter a lot in this scenario. \r\n",
        "3. We need to focus more on precision & have as high precison as possible. Its kind of ok to miss a good song & not recommend it, it wont cost much; but classifying some bad song as good ones & the recommending them to user(s) may dent users' confidence in our system & may lead to loss of customers. Thus, It is important to focus more on FPs or Precision. As we can see in the classification report above, we have good precision for both target values.\r\n",
        "4. Primary metric being used is ROC-AUC Score. Secondary metric can be used in terms of False Positives or Precision, as discussed above.\r\n",
        "5. If we consider Accuracy as a metric, there are two downsides of using it:\r\n",
        "\r\n",
        "    a. It may be baised towards the majority class if in case we have an imbalanced dataset. \r\n",
        "\r\n",
        "    b. It doesn't explicity tell us about the False Positives, which is quite important in our case.\r\n",
        "6. If we consider F1-score, following points might go against us in this case:\r\n",
        "\r\n",
        "    a. As per the definition, F1-score, gives equal weightage to both Precision & Recall. But here, along with TPs, FPs are more important for us than FNs. We need to focus more on precision & have as high precison as possible. Its kind of ok to miss a good song & not recommend it, it wont cost much; but classifying some bad song as good ones & the recommending them to user(s) may dent users' confidence in our system & may lead to loss of customers. Thus, It is important to focus more on FPs or Precision.\r\n",
        "\r\n",
        "    b. It does't consider TPR and FPR simultaneosly at different thresholds, which ROC curve is capable of, & which is vital in our case.\r\n",
        "7. Thus, looking at the above points, ROC-AUC seems the best metric in this scenario as it:\r\n",
        "\r\n",
        "    a. Focusses more on TPs & FPs which are important here.\r\n",
        "\r\n",
        "    b. Is unaffected by imbalance in the datset.\r\n",
        "\r\n",
        "    c. Plots TPR & FPR at different threshold settings.\r\n",
        "\r\n",
        "    d. Can directly help us identify how much better/worse our model is performing than a random model.\r\n",
        "\r\n",
        "    e. Slope of the ROC curve is directly proportional to the quality of classification being made and a straight vertical line along the y-axis determines perfect classification.\r\n",
        "    \r\n",
        "    f. More intuitive & easy to understand/analyse. \r\n",
        "Thus, ROC-AUC score is the best metric here.\r\n",
        "8. A brief overview of Exploratory Data Analysis can be found at https://share.streamlit.io/learner-subodh/streamlit-example/kkbox.py\r\n",
        "9. Out of the models tried, it was found that LightGBM performed the best.\r\n",
        "10. Secured a place in Top 1% on Kaggle Leaderboard for this Case Study. \r\n"
      ]
    }
  ]
}