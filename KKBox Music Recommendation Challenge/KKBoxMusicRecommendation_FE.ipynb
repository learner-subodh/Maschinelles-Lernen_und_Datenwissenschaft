{
  "nbformat": 4,
  "nbformat_minor": 0,
  "metadata": {
    "colab": {
      "name": "KKBoxMusicRecommendation_FE.ipynb",
      "provenance": [],
      "collapsed_sections": [],
      "machine_shape": "hm"
    },
    "kernelspec": {
      "name": "python3",
      "display_name": "Python 3"
    },
    "accelerator": "GPU"
  },
  "cells": [
    {
      "cell_type": "markdown",
      "metadata": {
        "id": "_AW1plCWGtJ5"
      },
      "source": [
        "# KKBox Music Recommendation Challenge"
      ]
    },
    {
      "cell_type": "code",
      "metadata": {
        "id": "sq3VAuLDIvjI"
      },
      "source": [
        "# Import required libraries\r\n",
        "import numpy as np\r\n",
        "import pandas as pd\r\n",
        "import matplotlib.pyplot as plt\r\n",
        "import seaborn as sns\r\n",
        "import matplotlib as mpl\r\n",
        "import missingno as msno    #https://github.com/ResidentMario/missingno\r\n",
        "#from summary_fn import *"
      ],
      "execution_count": null,
      "outputs": []
    },
    {
      "cell_type": "markdown",
      "metadata": {
        "id": "qKEFh_mAIIBn"
      },
      "source": [
        "## 4. Feature Engineering & Handling Missing Values"
      ]
    },
    {
      "cell_type": "markdown",
      "metadata": {
        "id": "eSYbJpFHkAgx"
      },
      "source": [
        "### 4. 1. First Cut Approach to Feature Engineering & Handling Missing Values"
      ]
    },
    {
      "cell_type": "code",
      "metadata": {
        "colab": {
          "base_uri": "https://localhost:8080/"
        },
        "id": "yFLw_F5QvPj4",
        "outputId": "6ba9c4e1-86dc-409a-ea4f-31e3a300c60c"
      },
      "source": [
        "from google.colab import drive\n",
        "drive.mount('/content/gdrive')"
      ],
      "execution_count": null,
      "outputs": [
        {
          "output_type": "stream",
          "text": [
            "Mounted at /content/gdrive\n"
          ],
          "name": "stdout"
        }
      ]
    },
    {
      "cell_type": "code",
      "metadata": {
        "colab": {
          "base_uri": "https://localhost:8080/"
        },
        "id": "YC6azCgSvPj4",
        "outputId": "1fb45399-a667-4668-c3fb-3475f5bcc3fd"
      },
      "source": [
        "%cd /content/gdrive/My Drive/Kaggle_KKBoxMusic"
      ],
      "execution_count": null,
      "outputs": [
        {
          "output_type": "stream",
          "text": [
            "/content/gdrive/My Drive/Kaggle_KKBoxMusic\n"
          ],
          "name": "stdout"
        }
      ]
    },
    {
      "cell_type": "code",
      "metadata": {
        "colab": {
          "base_uri": "https://localhost:8080/"
        },
        "id": "0HWczvzuvPj4",
        "outputId": "1573adf0-d058-46e8-99ad-c3040bc5d52f"
      },
      "source": [
        "!pwd"
      ],
      "execution_count": null,
      "outputs": [
        {
          "output_type": "stream",
          "text": [
            "/content/gdrive/My Drive/Kaggle_KKBoxMusic\n"
          ],
          "name": "stdout"
        }
      ]
    },
    {
      "cell_type": "code",
      "metadata": {
        "colab": {
          "base_uri": "https://localhost:8080/",
          "height": 35
        },
        "id": "o5hZEQsPvPj5",
        "outputId": "96c24d96-63f5-4f6e-9510-1deec2266746"
      },
      "source": [
        "import os\n",
        "os.getcwd()"
      ],
      "execution_count": null,
      "outputs": [
        {
          "output_type": "execute_result",
          "data": {
            "application/vnd.google.colaboratory.intrinsic+json": {
              "type": "string"
            },
            "text/plain": [
              "'/content/gdrive/My Drive/Kaggle_KKBoxMusic'"
            ]
          },
          "metadata": {
            "tags": []
          },
          "execution_count": 4
        }
      ]
    },
    {
      "cell_type": "code",
      "metadata": {
        "colab": {
          "base_uri": "https://localhost:8080/"
        },
        "id": "z_A-02hyvPj5",
        "outputId": "75deada8-4342-4f98-c28d-32871a25dca1"
      },
      "source": [
        "!ls"
      ],
      "execution_count": null,
      "outputs": [
        {
          "output_type": "stream",
          "text": [
            "kaggle.json  sample_submission.csv.7z  songs.csv  train.csv\n",
            "members.csv  song_extra_info.csv       test.csv   train_data_merged.csv\n"
          ],
          "name": "stdout"
        }
      ]
    },
    {
      "cell_type": "code",
      "metadata": {
        "id": "09zr6WRwvPj6"
      },
      "source": [
        "train_split = pd.read_csv('train_split.csv')\r\n",
        "val_split = pd.read_csv('val_split.csv')"
      ],
      "execution_count": null,
      "outputs": []
    },
    {
      "cell_type": "code",
      "metadata": {
        "id": "G66lOYnFQwpT"
      },
      "source": [
        "#https://www.kaggle.com/asmitavikas/feature-engineered-0-68310\n",
        "\n",
        "def convert_and_extract_date_features(df):\n",
        "    '''Function to convert into date format extract features like day, month, year from dates.'''\n",
        "\n",
        "    # convert into date format\n",
        "    df['registration_init_time'] = pd.to_datetime(df['registration_init_time'])\n",
        "    df['expiration_date'] = pd.to_datetime(df['expiration_date'])\n",
        "\n",
        "    # get membership period from registration and expiration dates\n",
        "    df['membership_days_left'] = df['expiration_date'].subtract(df['registration_init_time']).dt.days.astype(int)\n",
        "\n",
        "    # extract year, month and day from dates\n",
        "    df['registration_year'] = df['registration_init_time'].dt.year\n",
        "    df['registration_month'] = df['registration_init_time'].dt.month\n",
        "    df['registration_day'] = df['registration_init_time'].dt.day\n",
        "\n",
        "    df['expiration_year'] = df['expiration_date'].dt.year\n",
        "    df['expiration_month'] = df['expiration_date'].dt.month\n",
        "    df['expiration_day'] = df['expiration_date'].dt.day\n",
        "\n",
        "    return df"
      ],
      "execution_count": null,
      "outputs": []
    },
    {
      "cell_type": "code",
      "metadata": {
        "id": "QCer7Oq6SW_u",
        "colab": {
          "base_uri": "https://localhost:8080/"
        },
        "outputId": "d550daef-2377-434b-c575-9a331ab15954"
      },
      "source": [
        "train_split = convert_and_extract_date_features(train_split)\n",
        "val_split = convert_and_extract_date_features(val_split)"
      ],
      "execution_count": null,
      "outputs": [
        {
          "output_type": "stream",
          "text": [
            "/usr/local/lib/python3.6/dist-packages/ipykernel_launcher.py:7: SettingWithCopyWarning: \n",
            "A value is trying to be set on a copy of a slice from a DataFrame.\n",
            "Try using .loc[row_indexer,col_indexer] = value instead\n",
            "\n",
            "See the caveats in the documentation: https://pandas.pydata.org/pandas-docs/stable/user_guide/indexing.html#returning-a-view-versus-a-copy\n",
            "  import sys\n",
            "/usr/local/lib/python3.6/dist-packages/ipykernel_launcher.py:8: SettingWithCopyWarning: \n",
            "A value is trying to be set on a copy of a slice from a DataFrame.\n",
            "Try using .loc[row_indexer,col_indexer] = value instead\n",
            "\n",
            "See the caveats in the documentation: https://pandas.pydata.org/pandas-docs/stable/user_guide/indexing.html#returning-a-view-versus-a-copy\n",
            "  \n",
            "/usr/local/lib/python3.6/dist-packages/ipykernel_launcher.py:11: SettingWithCopyWarning: \n",
            "A value is trying to be set on a copy of a slice from a DataFrame.\n",
            "Try using .loc[row_indexer,col_indexer] = value instead\n",
            "\n",
            "See the caveats in the documentation: https://pandas.pydata.org/pandas-docs/stable/user_guide/indexing.html#returning-a-view-versus-a-copy\n",
            "  # This is added back by InteractiveShellApp.init_path()\n",
            "/usr/local/lib/python3.6/dist-packages/ipykernel_launcher.py:14: SettingWithCopyWarning: \n",
            "A value is trying to be set on a copy of a slice from a DataFrame.\n",
            "Try using .loc[row_indexer,col_indexer] = value instead\n",
            "\n",
            "See the caveats in the documentation: https://pandas.pydata.org/pandas-docs/stable/user_guide/indexing.html#returning-a-view-versus-a-copy\n",
            "  \n",
            "/usr/local/lib/python3.6/dist-packages/ipykernel_launcher.py:15: SettingWithCopyWarning: \n",
            "A value is trying to be set on a copy of a slice from a DataFrame.\n",
            "Try using .loc[row_indexer,col_indexer] = value instead\n",
            "\n",
            "See the caveats in the documentation: https://pandas.pydata.org/pandas-docs/stable/user_guide/indexing.html#returning-a-view-versus-a-copy\n",
            "  from ipykernel import kernelapp as app\n",
            "/usr/local/lib/python3.6/dist-packages/ipykernel_launcher.py:16: SettingWithCopyWarning: \n",
            "A value is trying to be set on a copy of a slice from a DataFrame.\n",
            "Try using .loc[row_indexer,col_indexer] = value instead\n",
            "\n",
            "See the caveats in the documentation: https://pandas.pydata.org/pandas-docs/stable/user_guide/indexing.html#returning-a-view-versus-a-copy\n",
            "  app.launch_new_instance()\n",
            "/usr/local/lib/python3.6/dist-packages/ipykernel_launcher.py:18: SettingWithCopyWarning: \n",
            "A value is trying to be set on a copy of a slice from a DataFrame.\n",
            "Try using .loc[row_indexer,col_indexer] = value instead\n",
            "\n",
            "See the caveats in the documentation: https://pandas.pydata.org/pandas-docs/stable/user_guide/indexing.html#returning-a-view-versus-a-copy\n",
            "/usr/local/lib/python3.6/dist-packages/ipykernel_launcher.py:19: SettingWithCopyWarning: \n",
            "A value is trying to be set on a copy of a slice from a DataFrame.\n",
            "Try using .loc[row_indexer,col_indexer] = value instead\n",
            "\n",
            "See the caveats in the documentation: https://pandas.pydata.org/pandas-docs/stable/user_guide/indexing.html#returning-a-view-versus-a-copy\n",
            "/usr/local/lib/python3.6/dist-packages/ipykernel_launcher.py:20: SettingWithCopyWarning: \n",
            "A value is trying to be set on a copy of a slice from a DataFrame.\n",
            "Try using .loc[row_indexer,col_indexer] = value instead\n",
            "\n",
            "See the caveats in the documentation: https://pandas.pydata.org/pandas-docs/stable/user_guide/indexing.html#returning-a-view-versus-a-copy\n"
          ],
          "name": "stderr"
        }
      ]
    },
    {
      "cell_type": "code",
      "metadata": {
        "colab": {
          "base_uri": "https://localhost:8080/",
          "height": 496
        },
        "id": "Sk3y6VfPlmD3",
        "outputId": "ff87996a-580a-48a0-e9d2-99eeb9c41f54"
      },
      "source": [
        "train_split.head()"
      ],
      "execution_count": null,
      "outputs": [
        {
          "output_type": "execute_result",
          "data": {
            "text/html": [
              "<div>\n",
              "<style scoped>\n",
              "    .dataframe tbody tr th:only-of-type {\n",
              "        vertical-align: middle;\n",
              "    }\n",
              "\n",
              "    .dataframe tbody tr th {\n",
              "        vertical-align: top;\n",
              "    }\n",
              "\n",
              "    .dataframe thead th {\n",
              "        text-align: right;\n",
              "    }\n",
              "</style>\n",
              "<table border=\"1\" class=\"dataframe\">\n",
              "  <thead>\n",
              "    <tr style=\"text-align: right;\">\n",
              "      <th></th>\n",
              "      <th>msno</th>\n",
              "      <th>song_id</th>\n",
              "      <th>source_system_tab</th>\n",
              "      <th>source_screen_name</th>\n",
              "      <th>source_type</th>\n",
              "      <th>target</th>\n",
              "      <th>city</th>\n",
              "      <th>bd</th>\n",
              "      <th>gender</th>\n",
              "      <th>registered_via</th>\n",
              "      <th>registration_init_time</th>\n",
              "      <th>expiration_date</th>\n",
              "      <th>song_length</th>\n",
              "      <th>genre_ids</th>\n",
              "      <th>artist_name</th>\n",
              "      <th>composer</th>\n",
              "      <th>lyricist</th>\n",
              "      <th>language</th>\n",
              "      <th>name</th>\n",
              "      <th>isrc</th>\n",
              "      <th>song_duration_minutes</th>\n",
              "      <th>membership_days_left</th>\n",
              "      <th>registration_year</th>\n",
              "      <th>registration_month</th>\n",
              "      <th>registration_day</th>\n",
              "      <th>expiration_year</th>\n",
              "      <th>expiration_month</th>\n",
              "      <th>expiration_day</th>\n",
              "    </tr>\n",
              "  </thead>\n",
              "  <tbody>\n",
              "    <tr>\n",
              "      <th>0</th>\n",
              "      <td>FGtllVqz18RPiwJj/edr2gV78zirAiY/9SmYvia+kCg=</td>\n",
              "      <td>BBzumQNXUHKdEBOB7mAJuzok+IJA1c2Ryg/yzTF6tik=</td>\n",
              "      <td>explore</td>\n",
              "      <td>Explore</td>\n",
              "      <td>online-playlist</td>\n",
              "      <td>1</td>\n",
              "      <td>1</td>\n",
              "      <td>0</td>\n",
              "      <td>NaN</td>\n",
              "      <td>7</td>\n",
              "      <td>2012-01-02</td>\n",
              "      <td>2017-10-05</td>\n",
              "      <td>206471.0</td>\n",
              "      <td>359</td>\n",
              "      <td>Bastille</td>\n",
              "      <td>Dan Smith| Mark Crew</td>\n",
              "      <td>NaN</td>\n",
              "      <td>52.0</td>\n",
              "      <td>Good Grief</td>\n",
              "      <td>GBUM71602854</td>\n",
              "      <td>3</td>\n",
              "      <td>2103</td>\n",
              "      <td>2012</td>\n",
              "      <td>1</td>\n",
              "      <td>2</td>\n",
              "      <td>2017</td>\n",
              "      <td>10</td>\n",
              "      <td>5</td>\n",
              "    </tr>\n",
              "    <tr>\n",
              "      <th>1</th>\n",
              "      <td>Xumu+NIjS6QYVxDS4/t3SawvJ7viT9hPKXmf0RtLNx8=</td>\n",
              "      <td>bhp/MpSNoqoxOIB+/l8WPqu6jldth4DIpCm3ayXnJqM=</td>\n",
              "      <td>my library</td>\n",
              "      <td>Local playlist more</td>\n",
              "      <td>local-playlist</td>\n",
              "      <td>1</td>\n",
              "      <td>13</td>\n",
              "      <td>24</td>\n",
              "      <td>female</td>\n",
              "      <td>9</td>\n",
              "      <td>2011-05-25</td>\n",
              "      <td>2017-09-11</td>\n",
              "      <td>284584.0</td>\n",
              "      <td>1259</td>\n",
              "      <td>Various Artists</td>\n",
              "      <td>NaN</td>\n",
              "      <td>NaN</td>\n",
              "      <td>52.0</td>\n",
              "      <td>Lords of Cardboard</td>\n",
              "      <td>US3C69910183</td>\n",
              "      <td>5</td>\n",
              "      <td>2301</td>\n",
              "      <td>2011</td>\n",
              "      <td>5</td>\n",
              "      <td>25</td>\n",
              "      <td>2017</td>\n",
              "      <td>9</td>\n",
              "      <td>11</td>\n",
              "    </tr>\n",
              "    <tr>\n",
              "      <th>2</th>\n",
              "      <td>Xumu+NIjS6QYVxDS4/t3SawvJ7viT9hPKXmf0RtLNx8=</td>\n",
              "      <td>JNWfrrC7zNN7BdMpsISKa4Mw+xVJYNnxXh3/Epw7QgY=</td>\n",
              "      <td>my library</td>\n",
              "      <td>Local playlist more</td>\n",
              "      <td>local-playlist</td>\n",
              "      <td>1</td>\n",
              "      <td>13</td>\n",
              "      <td>24</td>\n",
              "      <td>female</td>\n",
              "      <td>9</td>\n",
              "      <td>2011-05-25</td>\n",
              "      <td>2017-09-11</td>\n",
              "      <td>225396.0</td>\n",
              "      <td>1259</td>\n",
              "      <td>Nas</td>\n",
              "      <td>N. Jones、W. Adams、J. Lordan、D. Ingle</td>\n",
              "      <td>NaN</td>\n",
              "      <td>52.0</td>\n",
              "      <td>Hip Hop Is Dead(Album Version (Edited))</td>\n",
              "      <td>USUM70618761</td>\n",
              "      <td>4</td>\n",
              "      <td>2301</td>\n",
              "      <td>2011</td>\n",
              "      <td>5</td>\n",
              "      <td>25</td>\n",
              "      <td>2017</td>\n",
              "      <td>9</td>\n",
              "      <td>11</td>\n",
              "    </tr>\n",
              "    <tr>\n",
              "      <th>3</th>\n",
              "      <td>Xumu+NIjS6QYVxDS4/t3SawvJ7viT9hPKXmf0RtLNx8=</td>\n",
              "      <td>2A87tzfnJTSWqD7gIZHisolhe4DMdzkbd6LzO1KHjNs=</td>\n",
              "      <td>my library</td>\n",
              "      <td>Local playlist more</td>\n",
              "      <td>local-playlist</td>\n",
              "      <td>1</td>\n",
              "      <td>13</td>\n",
              "      <td>24</td>\n",
              "      <td>female</td>\n",
              "      <td>9</td>\n",
              "      <td>2011-05-25</td>\n",
              "      <td>2017-09-11</td>\n",
              "      <td>255512.0</td>\n",
              "      <td>1019</td>\n",
              "      <td>Soundway</td>\n",
              "      <td>Kwadwo Donkoh</td>\n",
              "      <td>NaN</td>\n",
              "      <td>-1.0</td>\n",
              "      <td>Disco Africa</td>\n",
              "      <td>GBUQH1000063</td>\n",
              "      <td>4</td>\n",
              "      <td>2301</td>\n",
              "      <td>2011</td>\n",
              "      <td>5</td>\n",
              "      <td>25</td>\n",
              "      <td>2017</td>\n",
              "      <td>9</td>\n",
              "      <td>11</td>\n",
              "    </tr>\n",
              "    <tr>\n",
              "      <th>4</th>\n",
              "      <td>FGtllVqz18RPiwJj/edr2gV78zirAiY/9SmYvia+kCg=</td>\n",
              "      <td>3qm6XTZ6MOCU11x8FIVbAGH5l5uMkT3/ZalWG1oo2Gc=</td>\n",
              "      <td>explore</td>\n",
              "      <td>Explore</td>\n",
              "      <td>online-playlist</td>\n",
              "      <td>1</td>\n",
              "      <td>1</td>\n",
              "      <td>0</td>\n",
              "      <td>NaN</td>\n",
              "      <td>7</td>\n",
              "      <td>2012-01-02</td>\n",
              "      <td>2017-10-05</td>\n",
              "      <td>187802.0</td>\n",
              "      <td>1011</td>\n",
              "      <td>Brett Young</td>\n",
              "      <td>Brett Young| Kelly Archer| Justin Ebach</td>\n",
              "      <td>NaN</td>\n",
              "      <td>52.0</td>\n",
              "      <td>Sleep Without You</td>\n",
              "      <td>QM3E21606003</td>\n",
              "      <td>3</td>\n",
              "      <td>2103</td>\n",
              "      <td>2012</td>\n",
              "      <td>1</td>\n",
              "      <td>2</td>\n",
              "      <td>2017</td>\n",
              "      <td>10</td>\n",
              "      <td>5</td>\n",
              "    </tr>\n",
              "  </tbody>\n",
              "</table>\n",
              "</div>"
            ],
            "text/plain": [
              "                                           msno  ... expiration_day\n",
              "0  FGtllVqz18RPiwJj/edr2gV78zirAiY/9SmYvia+kCg=  ...              5\n",
              "1  Xumu+NIjS6QYVxDS4/t3SawvJ7viT9hPKXmf0RtLNx8=  ...             11\n",
              "2  Xumu+NIjS6QYVxDS4/t3SawvJ7viT9hPKXmf0RtLNx8=  ...             11\n",
              "3  Xumu+NIjS6QYVxDS4/t3SawvJ7viT9hPKXmf0RtLNx8=  ...             11\n",
              "4  FGtllVqz18RPiwJj/edr2gV78zirAiY/9SmYvia+kCg=  ...              5\n",
              "\n",
              "[5 rows x 28 columns]"
            ]
          },
          "metadata": {
            "tags": []
          },
          "execution_count": 30
        }
      ]
    },
    {
      "cell_type": "code",
      "metadata": {
        "colab": {
          "base_uri": "https://localhost:8080/"
        },
        "id": "WZzA_UbwSi1X",
        "outputId": "b41c0c51-53e7-4684-bbf2-2b73126d6622"
      },
      "source": [
        "train_split.isnull().any()"
      ],
      "execution_count": null,
      "outputs": [
        {
          "output_type": "execute_result",
          "data": {
            "text/plain": [
              "msno                      False\n",
              "song_id                   False\n",
              "source_system_tab          True\n",
              "source_screen_name         True\n",
              "source_type                True\n",
              "target                    False\n",
              "city                      False\n",
              "bd                        False\n",
              "gender                     True\n",
              "registered_via            False\n",
              "registration_init_time    False\n",
              "expiration_date           False\n",
              "song_length               False\n",
              "genre_ids                  True\n",
              "artist_name                True\n",
              "composer                   True\n",
              "lyricist                   True\n",
              "language                   True\n",
              "name                       True\n",
              "isrc                       True\n",
              "song_duration_minutes     False\n",
              "membership_days_left      False\n",
              "registration_year         False\n",
              "registration_month        False\n",
              "registration_day          False\n",
              "expiration_year           False\n",
              "expiration_month          False\n",
              "expiration_day            False\n",
              "dtype: bool"
            ]
          },
          "metadata": {
            "tags": []
          },
          "execution_count": 31
        }
      ]
    },
    {
      "cell_type": "code",
      "metadata": {
        "colab": {
          "base_uri": "https://localhost:8080/"
        },
        "id": "f_vk_dVhS4Fe",
        "outputId": "b7c4cd81-d422-4d7d-ef2a-5a4f97c10bf6"
      },
      "source": [
        "train_split.isnull().sum()"
      ],
      "execution_count": null,
      "outputs": [
        {
          "output_type": "execute_result",
          "data": {
            "text/plain": [
              "msno                            0\n",
              "song_id                         0\n",
              "source_system_tab           20018\n",
              "source_screen_name         322244\n",
              "source_type                 16775\n",
              "target                          0\n",
              "city                            0\n",
              "bd                              0\n",
              "gender                    2346748\n",
              "registered_via                  0\n",
              "registration_init_time          0\n",
              "expiration_date                 0\n",
              "song_length                     0\n",
              "genre_ids                   92876\n",
              "artist_name                  1021\n",
              "composer                  1336518\n",
              "lyricist                  2529187\n",
              "language                     1049\n",
              "name                         1023\n",
              "isrc                       460218\n",
              "song_duration_minutes           0\n",
              "membership_days_left            0\n",
              "registration_year               0\n",
              "registration_month              0\n",
              "registration_day                0\n",
              "expiration_year                 0\n",
              "expiration_month                0\n",
              "expiration_day                  0\n",
              "dtype: int64"
            ]
          },
          "metadata": {
            "tags": []
          },
          "execution_count": 32
        }
      ]
    },
    {
      "cell_type": "code",
      "metadata": {
        "colab": {
          "base_uri": "https://localhost:8080/"
        },
        "id": "8iGu3U2wTAQK",
        "outputId": "789fe934-08f2-48b6-df7e-091c986c5bb0"
      },
      "source": [
        "check_for_missing_values(train_split)"
      ],
      "execution_count": null,
      "outputs": [
        {
          "output_type": "stream",
          "text": [
            "msno has 0 out of total 5901934 values missing, that is, 0.0000% missing values\n",
            "song_id has 0 out of total 5901934 values missing, that is, 0.0000% missing values\n",
            "source_system_tab has 20018 out of total 5901934 values missing, that is, 0.3392% missing values\n",
            "source_screen_name has 322244 out of total 5901934 values missing, that is, 5.4600% missing values\n",
            "source_type has 16775 out of total 5901934 values missing, that is, 0.2842% missing values\n",
            "target has 0 out of total 5901934 values missing, that is, 0.0000% missing values\n",
            "city has 0 out of total 5901934 values missing, that is, 0.0000% missing values\n",
            "bd has 0 out of total 5901934 values missing, that is, 0.0000% missing values\n",
            "gender has 2346748 out of total 5901934 values missing, that is, 39.7624% missing values\n",
            "registered_via has 0 out of total 5901934 values missing, that is, 0.0000% missing values\n",
            "registration_init_time has 0 out of total 5901934 values missing, that is, 0.0000% missing values\n",
            "expiration_date has 0 out of total 5901934 values missing, that is, 0.0000% missing values\n",
            "song_length has 0 out of total 5901934 values missing, that is, 0.0000% missing values\n",
            "genre_ids has 92876 out of total 5901934 values missing, that is, 1.5737% missing values\n",
            "artist_name has 1021 out of total 5901934 values missing, that is, 0.0173% missing values\n",
            "composer has 1336518 out of total 5901934 values missing, that is, 22.6454% missing values\n",
            "lyricist has 2529187 out of total 5901934 values missing, that is, 42.8535% missing values\n",
            "language has 1049 out of total 5901934 values missing, that is, 0.0178% missing values\n",
            "name has 1023 out of total 5901934 values missing, that is, 0.0173% missing values\n",
            "isrc has 460218 out of total 5901934 values missing, that is, 7.7977% missing values\n",
            "song_duration_minutes has 0 out of total 5901934 values missing, that is, 0.0000% missing values\n",
            "membership_days_left has 0 out of total 5901934 values missing, that is, 0.0000% missing values\n",
            "registration_year has 0 out of total 5901934 values missing, that is, 0.0000% missing values\n",
            "registration_month has 0 out of total 5901934 values missing, that is, 0.0000% missing values\n",
            "registration_day has 0 out of total 5901934 values missing, that is, 0.0000% missing values\n",
            "expiration_year has 0 out of total 5901934 values missing, that is, 0.0000% missing values\n",
            "expiration_month has 0 out of total 5901934 values missing, that is, 0.0000% missing values\n",
            "expiration_day has 0 out of total 5901934 values missing, that is, 0.0000% missing values\n"
          ],
          "name": "stdout"
        }
      ]
    },
    {
      "cell_type": "code",
      "metadata": {
        "colab": {
          "base_uri": "https://localhost:8080/"
        },
        "id": "SeE4sdgBSjez",
        "outputId": "d6b6e839-de43-40e4-d366-13309d1099c2"
      },
      "source": [
        "train_split.info()"
      ],
      "execution_count": null,
      "outputs": [
        {
          "output_type": "stream",
          "text": [
            "<class 'pandas.core.frame.DataFrame'>\n",
            "Int64Index: 5901934 entries, 0 to 5901933\n",
            "Data columns (total 28 columns):\n",
            " #   Column                  Dtype         \n",
            "---  ------                  -----         \n",
            " 0   msno                    object        \n",
            " 1   song_id                 object        \n",
            " 2   source_system_tab       object        \n",
            " 3   source_screen_name      object        \n",
            " 4   source_type             object        \n",
            " 5   target                  int64         \n",
            " 6   city                    int64         \n",
            " 7   bd                      int64         \n",
            " 8   gender                  object        \n",
            " 9   registered_via          int64         \n",
            " 10  registration_init_time  datetime64[ns]\n",
            " 11  expiration_date         datetime64[ns]\n",
            " 12  song_length             float64       \n",
            " 13  genre_ids               object        \n",
            " 14  artist_name             object        \n",
            " 15  composer                object        \n",
            " 16  lyricist                object        \n",
            " 17  language                float64       \n",
            " 18  name                    object        \n",
            " 19  isrc                    object        \n",
            " 20  song_duration_minutes   int64         \n",
            " 21  membership_days_left    int64         \n",
            " 22  registration_year       int64         \n",
            " 23  registration_month      int64         \n",
            " 24  registration_day        int64         \n",
            " 25  expiration_year         int64         \n",
            " 26  expiration_month        int64         \n",
            " 27  expiration_day          int64         \n",
            "dtypes: datetime64[ns](2), float64(2), int64(12), object(12)\n",
            "memory usage: 1.3+ GB\n"
          ],
          "name": "stdout"
        }
      ]
    },
    {
      "cell_type": "code",
      "metadata": {
        "colab": {
          "base_uri": "https://localhost:8080/",
          "height": 496
        },
        "id": "Al_4ZVbGa96L",
        "outputId": "419dae71-31ee-4260-e91c-2d4148b6f886"
      },
      "source": [
        "train_split.head()"
      ],
      "execution_count": null,
      "outputs": [
        {
          "output_type": "execute_result",
          "data": {
            "text/html": [
              "<div>\n",
              "<style scoped>\n",
              "    .dataframe tbody tr th:only-of-type {\n",
              "        vertical-align: middle;\n",
              "    }\n",
              "\n",
              "    .dataframe tbody tr th {\n",
              "        vertical-align: top;\n",
              "    }\n",
              "\n",
              "    .dataframe thead th {\n",
              "        text-align: right;\n",
              "    }\n",
              "</style>\n",
              "<table border=\"1\" class=\"dataframe\">\n",
              "  <thead>\n",
              "    <tr style=\"text-align: right;\">\n",
              "      <th></th>\n",
              "      <th>msno</th>\n",
              "      <th>song_id</th>\n",
              "      <th>source_system_tab</th>\n",
              "      <th>source_screen_name</th>\n",
              "      <th>source_type</th>\n",
              "      <th>target</th>\n",
              "      <th>city</th>\n",
              "      <th>bd</th>\n",
              "      <th>gender</th>\n",
              "      <th>registered_via</th>\n",
              "      <th>registration_init_time</th>\n",
              "      <th>expiration_date</th>\n",
              "      <th>song_length</th>\n",
              "      <th>genre_ids</th>\n",
              "      <th>artist_name</th>\n",
              "      <th>composer</th>\n",
              "      <th>lyricist</th>\n",
              "      <th>language</th>\n",
              "      <th>name</th>\n",
              "      <th>isrc</th>\n",
              "      <th>song_duration_minutes</th>\n",
              "      <th>membership_days_left</th>\n",
              "      <th>registration_year</th>\n",
              "      <th>registration_month</th>\n",
              "      <th>registration_day</th>\n",
              "      <th>expiration_year</th>\n",
              "      <th>expiration_month</th>\n",
              "      <th>expiration_day</th>\n",
              "    </tr>\n",
              "  </thead>\n",
              "  <tbody>\n",
              "    <tr>\n",
              "      <th>0</th>\n",
              "      <td>FGtllVqz18RPiwJj/edr2gV78zirAiY/9SmYvia+kCg=</td>\n",
              "      <td>BBzumQNXUHKdEBOB7mAJuzok+IJA1c2Ryg/yzTF6tik=</td>\n",
              "      <td>explore</td>\n",
              "      <td>Explore</td>\n",
              "      <td>online-playlist</td>\n",
              "      <td>1</td>\n",
              "      <td>1</td>\n",
              "      <td>0</td>\n",
              "      <td>NaN</td>\n",
              "      <td>7</td>\n",
              "      <td>2012-01-02</td>\n",
              "      <td>2017-10-05</td>\n",
              "      <td>206471.0</td>\n",
              "      <td>359</td>\n",
              "      <td>Bastille</td>\n",
              "      <td>Dan Smith| Mark Crew</td>\n",
              "      <td>NaN</td>\n",
              "      <td>52.0</td>\n",
              "      <td>Good Grief</td>\n",
              "      <td>GBUM71602854</td>\n",
              "      <td>3</td>\n",
              "      <td>2103</td>\n",
              "      <td>2012</td>\n",
              "      <td>1</td>\n",
              "      <td>2</td>\n",
              "      <td>2017</td>\n",
              "      <td>10</td>\n",
              "      <td>5</td>\n",
              "    </tr>\n",
              "    <tr>\n",
              "      <th>1</th>\n",
              "      <td>Xumu+NIjS6QYVxDS4/t3SawvJ7viT9hPKXmf0RtLNx8=</td>\n",
              "      <td>bhp/MpSNoqoxOIB+/l8WPqu6jldth4DIpCm3ayXnJqM=</td>\n",
              "      <td>my library</td>\n",
              "      <td>Local playlist more</td>\n",
              "      <td>local-playlist</td>\n",
              "      <td>1</td>\n",
              "      <td>13</td>\n",
              "      <td>24</td>\n",
              "      <td>female</td>\n",
              "      <td>9</td>\n",
              "      <td>2011-05-25</td>\n",
              "      <td>2017-09-11</td>\n",
              "      <td>284584.0</td>\n",
              "      <td>1259</td>\n",
              "      <td>Various Artists</td>\n",
              "      <td>NaN</td>\n",
              "      <td>NaN</td>\n",
              "      <td>52.0</td>\n",
              "      <td>Lords of Cardboard</td>\n",
              "      <td>US3C69910183</td>\n",
              "      <td>5</td>\n",
              "      <td>2301</td>\n",
              "      <td>2011</td>\n",
              "      <td>5</td>\n",
              "      <td>25</td>\n",
              "      <td>2017</td>\n",
              "      <td>9</td>\n",
              "      <td>11</td>\n",
              "    </tr>\n",
              "    <tr>\n",
              "      <th>2</th>\n",
              "      <td>Xumu+NIjS6QYVxDS4/t3SawvJ7viT9hPKXmf0RtLNx8=</td>\n",
              "      <td>JNWfrrC7zNN7BdMpsISKa4Mw+xVJYNnxXh3/Epw7QgY=</td>\n",
              "      <td>my library</td>\n",
              "      <td>Local playlist more</td>\n",
              "      <td>local-playlist</td>\n",
              "      <td>1</td>\n",
              "      <td>13</td>\n",
              "      <td>24</td>\n",
              "      <td>female</td>\n",
              "      <td>9</td>\n",
              "      <td>2011-05-25</td>\n",
              "      <td>2017-09-11</td>\n",
              "      <td>225396.0</td>\n",
              "      <td>1259</td>\n",
              "      <td>Nas</td>\n",
              "      <td>N. Jones、W. Adams、J. Lordan、D. Ingle</td>\n",
              "      <td>NaN</td>\n",
              "      <td>52.0</td>\n",
              "      <td>Hip Hop Is Dead(Album Version (Edited))</td>\n",
              "      <td>USUM70618761</td>\n",
              "      <td>4</td>\n",
              "      <td>2301</td>\n",
              "      <td>2011</td>\n",
              "      <td>5</td>\n",
              "      <td>25</td>\n",
              "      <td>2017</td>\n",
              "      <td>9</td>\n",
              "      <td>11</td>\n",
              "    </tr>\n",
              "    <tr>\n",
              "      <th>3</th>\n",
              "      <td>Xumu+NIjS6QYVxDS4/t3SawvJ7viT9hPKXmf0RtLNx8=</td>\n",
              "      <td>2A87tzfnJTSWqD7gIZHisolhe4DMdzkbd6LzO1KHjNs=</td>\n",
              "      <td>my library</td>\n",
              "      <td>Local playlist more</td>\n",
              "      <td>local-playlist</td>\n",
              "      <td>1</td>\n",
              "      <td>13</td>\n",
              "      <td>24</td>\n",
              "      <td>female</td>\n",
              "      <td>9</td>\n",
              "      <td>2011-05-25</td>\n",
              "      <td>2017-09-11</td>\n",
              "      <td>255512.0</td>\n",
              "      <td>1019</td>\n",
              "      <td>Soundway</td>\n",
              "      <td>Kwadwo Donkoh</td>\n",
              "      <td>NaN</td>\n",
              "      <td>-1.0</td>\n",
              "      <td>Disco Africa</td>\n",
              "      <td>GBUQH1000063</td>\n",
              "      <td>4</td>\n",
              "      <td>2301</td>\n",
              "      <td>2011</td>\n",
              "      <td>5</td>\n",
              "      <td>25</td>\n",
              "      <td>2017</td>\n",
              "      <td>9</td>\n",
              "      <td>11</td>\n",
              "    </tr>\n",
              "    <tr>\n",
              "      <th>4</th>\n",
              "      <td>FGtllVqz18RPiwJj/edr2gV78zirAiY/9SmYvia+kCg=</td>\n",
              "      <td>3qm6XTZ6MOCU11x8FIVbAGH5l5uMkT3/ZalWG1oo2Gc=</td>\n",
              "      <td>explore</td>\n",
              "      <td>Explore</td>\n",
              "      <td>online-playlist</td>\n",
              "      <td>1</td>\n",
              "      <td>1</td>\n",
              "      <td>0</td>\n",
              "      <td>NaN</td>\n",
              "      <td>7</td>\n",
              "      <td>2012-01-02</td>\n",
              "      <td>2017-10-05</td>\n",
              "      <td>187802.0</td>\n",
              "      <td>1011</td>\n",
              "      <td>Brett Young</td>\n",
              "      <td>Brett Young| Kelly Archer| Justin Ebach</td>\n",
              "      <td>NaN</td>\n",
              "      <td>52.0</td>\n",
              "      <td>Sleep Without You</td>\n",
              "      <td>QM3E21606003</td>\n",
              "      <td>3</td>\n",
              "      <td>2103</td>\n",
              "      <td>2012</td>\n",
              "      <td>1</td>\n",
              "      <td>2</td>\n",
              "      <td>2017</td>\n",
              "      <td>10</td>\n",
              "      <td>5</td>\n",
              "    </tr>\n",
              "  </tbody>\n",
              "</table>\n",
              "</div>"
            ],
            "text/plain": [
              "                                           msno  ... expiration_day\n",
              "0  FGtllVqz18RPiwJj/edr2gV78zirAiY/9SmYvia+kCg=  ...              5\n",
              "1  Xumu+NIjS6QYVxDS4/t3SawvJ7viT9hPKXmf0RtLNx8=  ...             11\n",
              "2  Xumu+NIjS6QYVxDS4/t3SawvJ7viT9hPKXmf0RtLNx8=  ...             11\n",
              "3  Xumu+NIjS6QYVxDS4/t3SawvJ7viT9hPKXmf0RtLNx8=  ...             11\n",
              "4  FGtllVqz18RPiwJj/edr2gV78zirAiY/9SmYvia+kCg=  ...              5\n",
              "\n",
              "[5 rows x 28 columns]"
            ]
          },
          "metadata": {
            "tags": []
          },
          "execution_count": 35
        }
      ]
    },
    {
      "cell_type": "code",
      "metadata": {
        "colab": {
          "base_uri": "https://localhost:8080/"
        },
        "id": "pTVKtEybyb3C",
        "outputId": "18753322-2ec4-4620-e553-aa79846465dd"
      },
      "source": [
        "print(train_split['song_length'].mean())\n",
        "print(train_split['song_length'].median())"
      ],
      "execution_count": null,
      "outputs": [
        {
          "output_type": "stream",
          "text": [
            "245430.56131376576\n",
            "242230.0\n"
          ],
          "name": "stdout"
        }
      ]
    },
    {
      "cell_type": "code",
      "metadata": {
        "id": "FUOt8y45ygFa",
        "colab": {
          "base_uri": "https://localhost:8080/"
        },
        "outputId": "fed86463-27c1-4c2f-e49c-525abf7b6f8f"
      },
      "source": [
        "train_split[\"song_length\"] = train_split[\"song_length\"].replace(0, train_split['song_length'].median())\n",
        "train_split[\"song_length\"] = train_split[\"song_length\"].replace(np.nan, train_split['song_length'].median())\n",
        "\n",
        "val_split[\"song_length\"] = val_split[\"song_length\"].replace(0, val_split['song_length'].median())\n",
        "val_split[\"song_length\"] = val_split[\"song_length\"].replace(np.nan, val_split['song_length'].median())"
      ],
      "execution_count": null,
      "outputs": [
        {
          "output_type": "stream",
          "text": [
            "/usr/local/lib/python3.6/dist-packages/ipykernel_launcher.py:1: SettingWithCopyWarning: \n",
            "A value is trying to be set on a copy of a slice from a DataFrame.\n",
            "Try using .loc[row_indexer,col_indexer] = value instead\n",
            "\n",
            "See the caveats in the documentation: https://pandas.pydata.org/pandas-docs/stable/user_guide/indexing.html#returning-a-view-versus-a-copy\n",
            "  \"\"\"Entry point for launching an IPython kernel.\n",
            "/usr/local/lib/python3.6/dist-packages/ipykernel_launcher.py:2: SettingWithCopyWarning: \n",
            "A value is trying to be set on a copy of a slice from a DataFrame.\n",
            "Try using .loc[row_indexer,col_indexer] = value instead\n",
            "\n",
            "See the caveats in the documentation: https://pandas.pydata.org/pandas-docs/stable/user_guide/indexing.html#returning-a-view-versus-a-copy\n",
            "  \n",
            "/usr/local/lib/python3.6/dist-packages/ipykernel_launcher.py:4: SettingWithCopyWarning: \n",
            "A value is trying to be set on a copy of a slice from a DataFrame.\n",
            "Try using .loc[row_indexer,col_indexer] = value instead\n",
            "\n",
            "See the caveats in the documentation: https://pandas.pydata.org/pandas-docs/stable/user_guide/indexing.html#returning-a-view-versus-a-copy\n",
            "  after removing the cwd from sys.path.\n",
            "/usr/local/lib/python3.6/dist-packages/ipykernel_launcher.py:5: SettingWithCopyWarning: \n",
            "A value is trying to be set on a copy of a slice from a DataFrame.\n",
            "Try using .loc[row_indexer,col_indexer] = value instead\n",
            "\n",
            "See the caveats in the documentation: https://pandas.pydata.org/pandas-docs/stable/user_guide/indexing.html#returning-a-view-versus-a-copy\n",
            "  \"\"\"\n"
          ],
          "name": "stderr"
        }
      ]
    },
    {
      "cell_type": "code",
      "metadata": {
        "colab": {
          "base_uri": "https://localhost:8080/"
        },
        "id": "6V8qfYDbzc1y",
        "outputId": "5f39e66a-ee87-4e6c-faf1-6914521e590c"
      },
      "source": [
        "train_split.isnull().sum()"
      ],
      "execution_count": null,
      "outputs": [
        {
          "output_type": "execute_result",
          "data": {
            "text/plain": [
              "msno                            0\n",
              "song_id                         0\n",
              "source_system_tab           20018\n",
              "source_screen_name         322244\n",
              "source_type                 16775\n",
              "target                          0\n",
              "city                            0\n",
              "bd                              0\n",
              "gender                    2346748\n",
              "registered_via                  0\n",
              "registration_init_time          0\n",
              "expiration_date                 0\n",
              "song_length                     0\n",
              "genre_ids                   92876\n",
              "artist_name                  1021\n",
              "composer                  1336518\n",
              "lyricist                  2529187\n",
              "language                     1049\n",
              "name                         1023\n",
              "isrc                       460218\n",
              "song_duration_minutes           0\n",
              "membership_days_left            0\n",
              "registration_year               0\n",
              "registration_month              0\n",
              "registration_day                0\n",
              "expiration_year                 0\n",
              "expiration_month                0\n",
              "expiration_day                  0\n",
              "dtype: int64"
            ]
          },
          "metadata": {
            "tags": []
          },
          "execution_count": 38
        }
      ]
    },
    {
      "cell_type": "code",
      "metadata": {
        "id": "kHmXS1zpcYla"
      },
      "source": [
        "def convert_song_duration_to_minutes(df):\n",
        "    '''function to convert song duration from milliseconds to minutes'''\n",
        "    \n",
        "    duration=[]\n",
        "    for i in (df[\"song_length\"]):\n",
        "        #minutes = int((i / 1000) / 60)\n",
        "        minutes = ((i/(1000*60))%60)\n",
        "        minutes = round(minutes)\n",
        "        duration.append(minutes)\n",
        "    #adding new column to df\n",
        "    df[\"song_duration_minutes\"] = duration\n",
        "    return df"
      ],
      "execution_count": null,
      "outputs": []
    },
    {
      "cell_type": "code",
      "metadata": {
        "id": "ds2Q2BlFdWmp",
        "colab": {
          "base_uri": "https://localhost:8080/"
        },
        "outputId": "a998e3b2-574e-4320-8746-962bdd1b848b"
      },
      "source": [
        "train_split = convert_song_duration_to_minutes(train_split)\n",
        "val_split = convert_song_duration_to_minutes(val_split)"
      ],
      "execution_count": null,
      "outputs": [
        {
          "output_type": "stream",
          "text": [
            "/usr/local/lib/python3.6/dist-packages/ipykernel_launcher.py:11: SettingWithCopyWarning: \n",
            "A value is trying to be set on a copy of a slice from a DataFrame.\n",
            "Try using .loc[row_indexer,col_indexer] = value instead\n",
            "\n",
            "See the caveats in the documentation: https://pandas.pydata.org/pandas-docs/stable/user_guide/indexing.html#returning-a-view-versus-a-copy\n",
            "  # This is added back by InteractiveShellApp.init_path()\n"
          ],
          "name": "stderr"
        }
      ]
    },
    {
      "cell_type": "code",
      "metadata": {
        "colab": {
          "base_uri": "https://localhost:8080/",
          "height": 496
        },
        "id": "uydK42Wld9gV",
        "outputId": "d0b9527a-114d-45a4-99e4-59301b440c75"
      },
      "source": [
        "train_split.head()"
      ],
      "execution_count": null,
      "outputs": [
        {
          "output_type": "execute_result",
          "data": {
            "text/html": [
              "<div>\n",
              "<style scoped>\n",
              "    .dataframe tbody tr th:only-of-type {\n",
              "        vertical-align: middle;\n",
              "    }\n",
              "\n",
              "    .dataframe tbody tr th {\n",
              "        vertical-align: top;\n",
              "    }\n",
              "\n",
              "    .dataframe thead th {\n",
              "        text-align: right;\n",
              "    }\n",
              "</style>\n",
              "<table border=\"1\" class=\"dataframe\">\n",
              "  <thead>\n",
              "    <tr style=\"text-align: right;\">\n",
              "      <th></th>\n",
              "      <th>msno</th>\n",
              "      <th>song_id</th>\n",
              "      <th>source_system_tab</th>\n",
              "      <th>source_screen_name</th>\n",
              "      <th>source_type</th>\n",
              "      <th>target</th>\n",
              "      <th>city</th>\n",
              "      <th>bd</th>\n",
              "      <th>gender</th>\n",
              "      <th>registered_via</th>\n",
              "      <th>registration_init_time</th>\n",
              "      <th>expiration_date</th>\n",
              "      <th>song_length</th>\n",
              "      <th>genre_ids</th>\n",
              "      <th>artist_name</th>\n",
              "      <th>composer</th>\n",
              "      <th>lyricist</th>\n",
              "      <th>language</th>\n",
              "      <th>name</th>\n",
              "      <th>isrc</th>\n",
              "      <th>song_duration_minutes</th>\n",
              "      <th>membership_days_left</th>\n",
              "      <th>registration_year</th>\n",
              "      <th>registration_month</th>\n",
              "      <th>registration_day</th>\n",
              "      <th>expiration_year</th>\n",
              "      <th>expiration_month</th>\n",
              "      <th>expiration_day</th>\n",
              "    </tr>\n",
              "  </thead>\n",
              "  <tbody>\n",
              "    <tr>\n",
              "      <th>0</th>\n",
              "      <td>FGtllVqz18RPiwJj/edr2gV78zirAiY/9SmYvia+kCg=</td>\n",
              "      <td>BBzumQNXUHKdEBOB7mAJuzok+IJA1c2Ryg/yzTF6tik=</td>\n",
              "      <td>explore</td>\n",
              "      <td>Explore</td>\n",
              "      <td>online-playlist</td>\n",
              "      <td>1</td>\n",
              "      <td>1</td>\n",
              "      <td>0</td>\n",
              "      <td>NaN</td>\n",
              "      <td>7</td>\n",
              "      <td>2012-01-02</td>\n",
              "      <td>2017-10-05</td>\n",
              "      <td>206471.0</td>\n",
              "      <td>359</td>\n",
              "      <td>Bastille</td>\n",
              "      <td>Dan Smith| Mark Crew</td>\n",
              "      <td>NaN</td>\n",
              "      <td>52.0</td>\n",
              "      <td>Good Grief</td>\n",
              "      <td>GBUM71602854</td>\n",
              "      <td>3</td>\n",
              "      <td>2103</td>\n",
              "      <td>2012</td>\n",
              "      <td>1</td>\n",
              "      <td>2</td>\n",
              "      <td>2017</td>\n",
              "      <td>10</td>\n",
              "      <td>5</td>\n",
              "    </tr>\n",
              "    <tr>\n",
              "      <th>1</th>\n",
              "      <td>Xumu+NIjS6QYVxDS4/t3SawvJ7viT9hPKXmf0RtLNx8=</td>\n",
              "      <td>bhp/MpSNoqoxOIB+/l8WPqu6jldth4DIpCm3ayXnJqM=</td>\n",
              "      <td>my library</td>\n",
              "      <td>Local playlist more</td>\n",
              "      <td>local-playlist</td>\n",
              "      <td>1</td>\n",
              "      <td>13</td>\n",
              "      <td>24</td>\n",
              "      <td>female</td>\n",
              "      <td>9</td>\n",
              "      <td>2011-05-25</td>\n",
              "      <td>2017-09-11</td>\n",
              "      <td>284584.0</td>\n",
              "      <td>1259</td>\n",
              "      <td>Various Artists</td>\n",
              "      <td>NaN</td>\n",
              "      <td>NaN</td>\n",
              "      <td>52.0</td>\n",
              "      <td>Lords of Cardboard</td>\n",
              "      <td>US3C69910183</td>\n",
              "      <td>5</td>\n",
              "      <td>2301</td>\n",
              "      <td>2011</td>\n",
              "      <td>5</td>\n",
              "      <td>25</td>\n",
              "      <td>2017</td>\n",
              "      <td>9</td>\n",
              "      <td>11</td>\n",
              "    </tr>\n",
              "    <tr>\n",
              "      <th>2</th>\n",
              "      <td>Xumu+NIjS6QYVxDS4/t3SawvJ7viT9hPKXmf0RtLNx8=</td>\n",
              "      <td>JNWfrrC7zNN7BdMpsISKa4Mw+xVJYNnxXh3/Epw7QgY=</td>\n",
              "      <td>my library</td>\n",
              "      <td>Local playlist more</td>\n",
              "      <td>local-playlist</td>\n",
              "      <td>1</td>\n",
              "      <td>13</td>\n",
              "      <td>24</td>\n",
              "      <td>female</td>\n",
              "      <td>9</td>\n",
              "      <td>2011-05-25</td>\n",
              "      <td>2017-09-11</td>\n",
              "      <td>225396.0</td>\n",
              "      <td>1259</td>\n",
              "      <td>Nas</td>\n",
              "      <td>N. Jones、W. Adams、J. Lordan、D. Ingle</td>\n",
              "      <td>NaN</td>\n",
              "      <td>52.0</td>\n",
              "      <td>Hip Hop Is Dead(Album Version (Edited))</td>\n",
              "      <td>USUM70618761</td>\n",
              "      <td>4</td>\n",
              "      <td>2301</td>\n",
              "      <td>2011</td>\n",
              "      <td>5</td>\n",
              "      <td>25</td>\n",
              "      <td>2017</td>\n",
              "      <td>9</td>\n",
              "      <td>11</td>\n",
              "    </tr>\n",
              "    <tr>\n",
              "      <th>3</th>\n",
              "      <td>Xumu+NIjS6QYVxDS4/t3SawvJ7viT9hPKXmf0RtLNx8=</td>\n",
              "      <td>2A87tzfnJTSWqD7gIZHisolhe4DMdzkbd6LzO1KHjNs=</td>\n",
              "      <td>my library</td>\n",
              "      <td>Local playlist more</td>\n",
              "      <td>local-playlist</td>\n",
              "      <td>1</td>\n",
              "      <td>13</td>\n",
              "      <td>24</td>\n",
              "      <td>female</td>\n",
              "      <td>9</td>\n",
              "      <td>2011-05-25</td>\n",
              "      <td>2017-09-11</td>\n",
              "      <td>255512.0</td>\n",
              "      <td>1019</td>\n",
              "      <td>Soundway</td>\n",
              "      <td>Kwadwo Donkoh</td>\n",
              "      <td>NaN</td>\n",
              "      <td>-1.0</td>\n",
              "      <td>Disco Africa</td>\n",
              "      <td>GBUQH1000063</td>\n",
              "      <td>4</td>\n",
              "      <td>2301</td>\n",
              "      <td>2011</td>\n",
              "      <td>5</td>\n",
              "      <td>25</td>\n",
              "      <td>2017</td>\n",
              "      <td>9</td>\n",
              "      <td>11</td>\n",
              "    </tr>\n",
              "    <tr>\n",
              "      <th>4</th>\n",
              "      <td>FGtllVqz18RPiwJj/edr2gV78zirAiY/9SmYvia+kCg=</td>\n",
              "      <td>3qm6XTZ6MOCU11x8FIVbAGH5l5uMkT3/ZalWG1oo2Gc=</td>\n",
              "      <td>explore</td>\n",
              "      <td>Explore</td>\n",
              "      <td>online-playlist</td>\n",
              "      <td>1</td>\n",
              "      <td>1</td>\n",
              "      <td>0</td>\n",
              "      <td>NaN</td>\n",
              "      <td>7</td>\n",
              "      <td>2012-01-02</td>\n",
              "      <td>2017-10-05</td>\n",
              "      <td>187802.0</td>\n",
              "      <td>1011</td>\n",
              "      <td>Brett Young</td>\n",
              "      <td>Brett Young| Kelly Archer| Justin Ebach</td>\n",
              "      <td>NaN</td>\n",
              "      <td>52.0</td>\n",
              "      <td>Sleep Without You</td>\n",
              "      <td>QM3E21606003</td>\n",
              "      <td>3</td>\n",
              "      <td>2103</td>\n",
              "      <td>2012</td>\n",
              "      <td>1</td>\n",
              "      <td>2</td>\n",
              "      <td>2017</td>\n",
              "      <td>10</td>\n",
              "      <td>5</td>\n",
              "    </tr>\n",
              "  </tbody>\n",
              "</table>\n",
              "</div>"
            ],
            "text/plain": [
              "                                           msno  ... expiration_day\n",
              "0  FGtllVqz18RPiwJj/edr2gV78zirAiY/9SmYvia+kCg=  ...              5\n",
              "1  Xumu+NIjS6QYVxDS4/t3SawvJ7viT9hPKXmf0RtLNx8=  ...             11\n",
              "2  Xumu+NIjS6QYVxDS4/t3SawvJ7viT9hPKXmf0RtLNx8=  ...             11\n",
              "3  Xumu+NIjS6QYVxDS4/t3SawvJ7viT9hPKXmf0RtLNx8=  ...             11\n",
              "4  FGtllVqz18RPiwJj/edr2gV78zirAiY/9SmYvia+kCg=  ...              5\n",
              "\n",
              "[5 rows x 28 columns]"
            ]
          },
          "metadata": {
            "tags": []
          },
          "execution_count": 41
        }
      ]
    },
    {
      "cell_type": "code",
      "metadata": {
        "colab": {
          "base_uri": "https://localhost:8080/",
          "height": 564
        },
        "id": "4Jk7SudW11Xu",
        "outputId": "9ac21f29-a19b-458f-9472-5a646e583514"
      },
      "source": [
        "val_split.head()"
      ],
      "execution_count": null,
      "outputs": [
        {
          "output_type": "execute_result",
          "data": {
            "text/html": [
              "<div>\n",
              "<style scoped>\n",
              "    .dataframe tbody tr th:only-of-type {\n",
              "        vertical-align: middle;\n",
              "    }\n",
              "\n",
              "    .dataframe tbody tr th {\n",
              "        vertical-align: top;\n",
              "    }\n",
              "\n",
              "    .dataframe thead th {\n",
              "        text-align: right;\n",
              "    }\n",
              "</style>\n",
              "<table border=\"1\" class=\"dataframe\">\n",
              "  <thead>\n",
              "    <tr style=\"text-align: right;\">\n",
              "      <th></th>\n",
              "      <th>msno</th>\n",
              "      <th>song_id</th>\n",
              "      <th>source_system_tab</th>\n",
              "      <th>source_screen_name</th>\n",
              "      <th>source_type</th>\n",
              "      <th>target</th>\n",
              "      <th>city</th>\n",
              "      <th>bd</th>\n",
              "      <th>gender</th>\n",
              "      <th>registered_via</th>\n",
              "      <th>registration_init_time</th>\n",
              "      <th>expiration_date</th>\n",
              "      <th>song_length</th>\n",
              "      <th>genre_ids</th>\n",
              "      <th>artist_name</th>\n",
              "      <th>composer</th>\n",
              "      <th>lyricist</th>\n",
              "      <th>language</th>\n",
              "      <th>name</th>\n",
              "      <th>isrc</th>\n",
              "      <th>song_duration_minutes</th>\n",
              "      <th>membership_days_left</th>\n",
              "      <th>registration_year</th>\n",
              "      <th>registration_month</th>\n",
              "      <th>registration_day</th>\n",
              "      <th>expiration_year</th>\n",
              "      <th>expiration_month</th>\n",
              "      <th>expiration_day</th>\n",
              "    </tr>\n",
              "  </thead>\n",
              "  <tbody>\n",
              "    <tr>\n",
              "      <th>5901934</th>\n",
              "      <td>+fzJ5Uou/rxl1pXlebOEBHFKC4LBwDfgnc2R7287CVs=</td>\n",
              "      <td>JTVy3aCLoTFkqPK4pkGBy0YTlH0zpkubCoKMh07WYfM=</td>\n",
              "      <td>my library</td>\n",
              "      <td>Local playlist more</td>\n",
              "      <td>local-library</td>\n",
              "      <td>1</td>\n",
              "      <td>1</td>\n",
              "      <td>18</td>\n",
              "      <td>female</td>\n",
              "      <td>3</td>\n",
              "      <td>2015-03-21</td>\n",
              "      <td>2017-10-05</td>\n",
              "      <td>259553.0</td>\n",
              "      <td>465</td>\n",
              "      <td>楊韻禾 (Melody Yeung)</td>\n",
              "      <td>楊韻禾Mel Yeung / 陳熙Josh Chen</td>\n",
              "      <td>崔惟楷Luke”skywalker”Tsui</td>\n",
              "      <td>3.0</td>\n",
              "      <td>你不知道</td>\n",
              "      <td>TWJ970700301</td>\n",
              "      <td>4</td>\n",
              "      <td>929</td>\n",
              "      <td>2015</td>\n",
              "      <td>3</td>\n",
              "      <td>21</td>\n",
              "      <td>2017</td>\n",
              "      <td>10</td>\n",
              "      <td>5</td>\n",
              "    </tr>\n",
              "    <tr>\n",
              "      <th>5901935</th>\n",
              "      <td>+fzJ5Uou/rxl1pXlebOEBHFKC4LBwDfgnc2R7287CVs=</td>\n",
              "      <td>2TR1fCpa5/ac/xe+hdOe52nBZ6afSU49gsGQbhTQVzk=</td>\n",
              "      <td>my library</td>\n",
              "      <td>Local playlist more</td>\n",
              "      <td>local-library</td>\n",
              "      <td>0</td>\n",
              "      <td>1</td>\n",
              "      <td>18</td>\n",
              "      <td>female</td>\n",
              "      <td>3</td>\n",
              "      <td>2015-03-21</td>\n",
              "      <td>2017-10-05</td>\n",
              "      <td>191738.0</td>\n",
              "      <td>465</td>\n",
              "      <td>倪安東 (Anthony Neely)</td>\n",
              "      <td>Skot Suyama 陶山| 倪安東</td>\n",
              "      <td>倪安東</td>\n",
              "      <td>3.0</td>\n",
              "      <td>Wake up</td>\n",
              "      <td>TWD951244101</td>\n",
              "      <td>3</td>\n",
              "      <td>929</td>\n",
              "      <td>2015</td>\n",
              "      <td>3</td>\n",
              "      <td>21</td>\n",
              "      <td>2017</td>\n",
              "      <td>10</td>\n",
              "      <td>5</td>\n",
              "    </tr>\n",
              "    <tr>\n",
              "      <th>5901936</th>\n",
              "      <td>+fzJ5Uou/rxl1pXlebOEBHFKC4LBwDfgnc2R7287CVs=</td>\n",
              "      <td>wev1Fi6KYkCSFAstQfhxJPZv7wkn8wGepys+KDmeBy4=</td>\n",
              "      <td>my library</td>\n",
              "      <td>Local playlist more</td>\n",
              "      <td>local-library</td>\n",
              "      <td>1</td>\n",
              "      <td>1</td>\n",
              "      <td>18</td>\n",
              "      <td>female</td>\n",
              "      <td>3</td>\n",
              "      <td>2015-03-21</td>\n",
              "      <td>2017-10-05</td>\n",
              "      <td>204521.0</td>\n",
              "      <td>359</td>\n",
              "      <td>Various Artists</td>\n",
              "      <td>Noah Feldshuh| Casey Harris| Sam Harris| A. Gr...</td>\n",
              "      <td>NaN</td>\n",
              "      <td>52.0</td>\n",
              "      <td>Unsteady</td>\n",
              "      <td>USUM71603401</td>\n",
              "      <td>3</td>\n",
              "      <td>929</td>\n",
              "      <td>2015</td>\n",
              "      <td>3</td>\n",
              "      <td>21</td>\n",
              "      <td>2017</td>\n",
              "      <td>10</td>\n",
              "      <td>5</td>\n",
              "    </tr>\n",
              "    <tr>\n",
              "      <th>5901937</th>\n",
              "      <td>v04FgzXSdai5doJPrcwbrQTMbnETwLB5Li0t36X6kSQ=</td>\n",
              "      <td>NhQfOVnptpW5z5qsP/sN+hVS8TM2iYvdy/ZGVe7K+kM=</td>\n",
              "      <td>my library</td>\n",
              "      <td>Local playlist more</td>\n",
              "      <td>local-library</td>\n",
              "      <td>1</td>\n",
              "      <td>1</td>\n",
              "      <td>0</td>\n",
              "      <td>NaN</td>\n",
              "      <td>4</td>\n",
              "      <td>2017-01-09</td>\n",
              "      <td>2017-08-02</td>\n",
              "      <td>291828.0</td>\n",
              "      <td>1259</td>\n",
              "      <td>Rae Sremmurd</td>\n",
              "      <td>A.Brown| Radric Davis| Michael L. Williams II|...</td>\n",
              "      <td>NaN</td>\n",
              "      <td>52.0</td>\n",
              "      <td>Black Beatles</td>\n",
              "      <td>USUM71603293</td>\n",
              "      <td>5</td>\n",
              "      <td>205</td>\n",
              "      <td>2017</td>\n",
              "      <td>1</td>\n",
              "      <td>9</td>\n",
              "      <td>2017</td>\n",
              "      <td>8</td>\n",
              "      <td>2</td>\n",
              "    </tr>\n",
              "    <tr>\n",
              "      <th>5901938</th>\n",
              "      <td>Rw5fS0aEzNBUaVMFQLpD2oW11xH2Jv107h49EUVXiTM=</td>\n",
              "      <td>OakhL7CLirelAGEP9sYyP6fmTa8HV1mD/qVdpM6o5uE=</td>\n",
              "      <td>discover</td>\n",
              "      <td>Online playlist more</td>\n",
              "      <td>online-playlist</td>\n",
              "      <td>1</td>\n",
              "      <td>4</td>\n",
              "      <td>29</td>\n",
              "      <td>female</td>\n",
              "      <td>9</td>\n",
              "      <td>2005-11-05</td>\n",
              "      <td>2017-10-06</td>\n",
              "      <td>258821.0</td>\n",
              "      <td>NaN</td>\n",
              "      <td>G.E.M.鄧紫棋</td>\n",
              "      <td>NaN</td>\n",
              "      <td>NaN</td>\n",
              "      <td>3.0</td>\n",
              "      <td>泡沫</td>\n",
              "      <td>HKI111200214</td>\n",
              "      <td>4</td>\n",
              "      <td>4353</td>\n",
              "      <td>2005</td>\n",
              "      <td>11</td>\n",
              "      <td>5</td>\n",
              "      <td>2017</td>\n",
              "      <td>10</td>\n",
              "      <td>6</td>\n",
              "    </tr>\n",
              "  </tbody>\n",
              "</table>\n",
              "</div>"
            ],
            "text/plain": [
              "                                                 msno  ... expiration_day\n",
              "5901934  +fzJ5Uou/rxl1pXlebOEBHFKC4LBwDfgnc2R7287CVs=  ...              5\n",
              "5901935  +fzJ5Uou/rxl1pXlebOEBHFKC4LBwDfgnc2R7287CVs=  ...              5\n",
              "5901936  +fzJ5Uou/rxl1pXlebOEBHFKC4LBwDfgnc2R7287CVs=  ...              5\n",
              "5901937  v04FgzXSdai5doJPrcwbrQTMbnETwLB5Li0t36X6kSQ=  ...              2\n",
              "5901938  Rw5fS0aEzNBUaVMFQLpD2oW11xH2Jv107h49EUVXiTM=  ...              6\n",
              "\n",
              "[5 rows x 28 columns]"
            ]
          },
          "metadata": {
            "tags": []
          },
          "execution_count": 42
        }
      ]
    },
    {
      "cell_type": "code",
      "metadata": {
        "colab": {
          "base_uri": "https://localhost:8080/"
        },
        "id": "HEYr8IeCw6a4",
        "outputId": "d5812987-22c6-4308-db0f-55d785b128a2"
      },
      "source": [
        "print(train_split['song_duration_minutes'].mean())\r\n",
        "print(train_split['song_duration_minutes'].median())"
      ],
      "execution_count": null,
      "outputs": [
        {
          "output_type": "stream",
          "text": [
            "4.091806855176626\n",
            "4.0\n"
          ],
          "name": "stdout"
        }
      ]
    },
    {
      "cell_type": "code",
      "metadata": {
        "colab": {
          "base_uri": "https://localhost:8080/"
        },
        "id": "_FruzcbpnLRX",
        "outputId": "2a6b547e-7c8f-433d-fe41-f4e670b28d13"
      },
      "source": [
        "train_split.shape"
      ],
      "execution_count": null,
      "outputs": [
        {
          "output_type": "execute_result",
          "data": {
            "text/plain": [
              "(5901934, 28)"
            ]
          },
          "metadata": {
            "tags": []
          },
          "execution_count": 44
        }
      ]
    },
    {
      "cell_type": "code",
      "metadata": {
        "colab": {
          "base_uri": "https://localhost:8080/"
        },
        "id": "hsc-iV0O3rg5",
        "outputId": "34964484-f787-4869-d6d2-8aea02e49617"
      },
      "source": [
        "train_split.columns"
      ],
      "execution_count": null,
      "outputs": [
        {
          "output_type": "execute_result",
          "data": {
            "text/plain": [
              "Index(['msno', 'song_id', 'source_system_tab', 'source_screen_name',\n",
              "       'source_type', 'target', 'city', 'bd', 'gender', 'registered_via',\n",
              "       'registration_init_time', 'expiration_date', 'song_length', 'genre_ids',\n",
              "       'artist_name', 'composer', 'lyricist', 'language', 'name', 'isrc',\n",
              "       'song_duration_minutes', 'membership_days_left', 'registration_year',\n",
              "       'registration_month', 'registration_day', 'expiration_year',\n",
              "       'expiration_month', 'expiration_day'],\n",
              "      dtype='object')"
            ]
          },
          "metadata": {
            "tags": []
          },
          "execution_count": 45
        }
      ]
    },
    {
      "cell_type": "code",
      "metadata": {
        "id": "VMjrO84NBSJV"
      },
      "source": [
        "def extract_isrc_info(df):\n",
        "    '''Function to extract useful information from isrc code'''\n",
        "    #https://isrc.ifpi.org/en/isrc-standard/code-syntax\n",
        "    #https://en.wikipedia.org/wiki/International_Standard_Recording_Code\n",
        "\n",
        "    isrc = df['isrc']\n",
        "    df['country_code'] = isrc.str.slice(0, 2)\n",
        "    df['registration_code'] = isrc.str.slice(2, 5)\n",
        "    df['song_year'] = isrc.str.slice(5, 7).astype(float)\n",
        "    df['song_year'] = df['song_year'].apply(lambda x: 2000+x if x < 18 else 1900+x)\n",
        "    df['isrc_missing'] = (df['country_code'] == 0) * 1.0\n",
        "    \n",
        "    return df"
      ],
      "execution_count": null,
      "outputs": []
    },
    {
      "cell_type": "code",
      "metadata": {
        "id": "zSUzi_vXDL_C",
        "colab": {
          "base_uri": "https://localhost:8080/"
        },
        "outputId": "e7645301-142b-4b79-ce86-cd80926fb276"
      },
      "source": [
        "train_split = extract_isrc_info(train_split)\n",
        "val_split = extract_isrc_info(val_split)"
      ],
      "execution_count": null,
      "outputs": [
        {
          "output_type": "stream",
          "text": [
            "/usr/local/lib/python3.6/dist-packages/ipykernel_launcher.py:7: SettingWithCopyWarning: \n",
            "A value is trying to be set on a copy of a slice from a DataFrame.\n",
            "Try using .loc[row_indexer,col_indexer] = value instead\n",
            "\n",
            "See the caveats in the documentation: https://pandas.pydata.org/pandas-docs/stable/user_guide/indexing.html#returning-a-view-versus-a-copy\n",
            "  import sys\n",
            "/usr/local/lib/python3.6/dist-packages/ipykernel_launcher.py:8: SettingWithCopyWarning: \n",
            "A value is trying to be set on a copy of a slice from a DataFrame.\n",
            "Try using .loc[row_indexer,col_indexer] = value instead\n",
            "\n",
            "See the caveats in the documentation: https://pandas.pydata.org/pandas-docs/stable/user_guide/indexing.html#returning-a-view-versus-a-copy\n",
            "  \n",
            "/usr/local/lib/python3.6/dist-packages/ipykernel_launcher.py:9: SettingWithCopyWarning: \n",
            "A value is trying to be set on a copy of a slice from a DataFrame.\n",
            "Try using .loc[row_indexer,col_indexer] = value instead\n",
            "\n",
            "See the caveats in the documentation: https://pandas.pydata.org/pandas-docs/stable/user_guide/indexing.html#returning-a-view-versus-a-copy\n",
            "  if __name__ == '__main__':\n",
            "/usr/local/lib/python3.6/dist-packages/ipykernel_launcher.py:10: SettingWithCopyWarning: \n",
            "A value is trying to be set on a copy of a slice from a DataFrame.\n",
            "Try using .loc[row_indexer,col_indexer] = value instead\n",
            "\n",
            "See the caveats in the documentation: https://pandas.pydata.org/pandas-docs/stable/user_guide/indexing.html#returning-a-view-versus-a-copy\n",
            "  # Remove the CWD from sys.path while we load stuff.\n",
            "/usr/local/lib/python3.6/dist-packages/ipykernel_launcher.py:11: SettingWithCopyWarning: \n",
            "A value is trying to be set on a copy of a slice from a DataFrame.\n",
            "Try using .loc[row_indexer,col_indexer] = value instead\n",
            "\n",
            "See the caveats in the documentation: https://pandas.pydata.org/pandas-docs/stable/user_guide/indexing.html#returning-a-view-versus-a-copy\n",
            "  # This is added back by InteractiveShellApp.init_path()\n"
          ],
          "name": "stderr"
        }
      ]
    },
    {
      "cell_type": "code",
      "metadata": {
        "id": "scTkyyrYHsYN"
      },
      "source": [
        "#final_train.drop(columns=['country_code', 'registration_code', 'song_year'])\n",
        "#final_val.drop(columns=['country_code', 'registration_code', 'song_year'])"
      ],
      "execution_count": null,
      "outputs": []
    },
    {
      "cell_type": "code",
      "metadata": {
        "colab": {
          "base_uri": "https://localhost:8080/",
          "height": 496
        },
        "id": "4xynErqVFTZG",
        "outputId": "7bd0f239-e69b-4109-9e97-e9f708589d5e"
      },
      "source": [
        "train_split.head()"
      ],
      "execution_count": null,
      "outputs": [
        {
          "output_type": "execute_result",
          "data": {
            "text/html": [
              "<div>\n",
              "<style scoped>\n",
              "    .dataframe tbody tr th:only-of-type {\n",
              "        vertical-align: middle;\n",
              "    }\n",
              "\n",
              "    .dataframe tbody tr th {\n",
              "        vertical-align: top;\n",
              "    }\n",
              "\n",
              "    .dataframe thead th {\n",
              "        text-align: right;\n",
              "    }\n",
              "</style>\n",
              "<table border=\"1\" class=\"dataframe\">\n",
              "  <thead>\n",
              "    <tr style=\"text-align: right;\">\n",
              "      <th></th>\n",
              "      <th>msno</th>\n",
              "      <th>song_id</th>\n",
              "      <th>source_system_tab</th>\n",
              "      <th>source_screen_name</th>\n",
              "      <th>source_type</th>\n",
              "      <th>target</th>\n",
              "      <th>city</th>\n",
              "      <th>bd</th>\n",
              "      <th>gender</th>\n",
              "      <th>registered_via</th>\n",
              "      <th>registration_init_time</th>\n",
              "      <th>expiration_date</th>\n",
              "      <th>song_length</th>\n",
              "      <th>genre_ids</th>\n",
              "      <th>artist_name</th>\n",
              "      <th>composer</th>\n",
              "      <th>lyricist</th>\n",
              "      <th>language</th>\n",
              "      <th>name</th>\n",
              "      <th>isrc</th>\n",
              "      <th>song_duration_minutes</th>\n",
              "      <th>membership_days_left</th>\n",
              "      <th>registration_year</th>\n",
              "      <th>registration_month</th>\n",
              "      <th>registration_day</th>\n",
              "      <th>expiration_year</th>\n",
              "      <th>expiration_month</th>\n",
              "      <th>expiration_day</th>\n",
              "      <th>country_code</th>\n",
              "      <th>registration_code</th>\n",
              "      <th>song_year</th>\n",
              "      <th>isrc_missing</th>\n",
              "    </tr>\n",
              "  </thead>\n",
              "  <tbody>\n",
              "    <tr>\n",
              "      <th>0</th>\n",
              "      <td>FGtllVqz18RPiwJj/edr2gV78zirAiY/9SmYvia+kCg=</td>\n",
              "      <td>BBzumQNXUHKdEBOB7mAJuzok+IJA1c2Ryg/yzTF6tik=</td>\n",
              "      <td>explore</td>\n",
              "      <td>Explore</td>\n",
              "      <td>online-playlist</td>\n",
              "      <td>1</td>\n",
              "      <td>1</td>\n",
              "      <td>0</td>\n",
              "      <td>NaN</td>\n",
              "      <td>7</td>\n",
              "      <td>2012-01-02</td>\n",
              "      <td>2017-10-05</td>\n",
              "      <td>206471.0</td>\n",
              "      <td>359</td>\n",
              "      <td>Bastille</td>\n",
              "      <td>Dan Smith| Mark Crew</td>\n",
              "      <td>NaN</td>\n",
              "      <td>52.0</td>\n",
              "      <td>Good Grief</td>\n",
              "      <td>GBUM71602854</td>\n",
              "      <td>3</td>\n",
              "      <td>2103</td>\n",
              "      <td>2012</td>\n",
              "      <td>1</td>\n",
              "      <td>2</td>\n",
              "      <td>2017</td>\n",
              "      <td>10</td>\n",
              "      <td>5</td>\n",
              "      <td>GB</td>\n",
              "      <td>UM7</td>\n",
              "      <td>2016.0</td>\n",
              "      <td>0.0</td>\n",
              "    </tr>\n",
              "    <tr>\n",
              "      <th>1</th>\n",
              "      <td>Xumu+NIjS6QYVxDS4/t3SawvJ7viT9hPKXmf0RtLNx8=</td>\n",
              "      <td>bhp/MpSNoqoxOIB+/l8WPqu6jldth4DIpCm3ayXnJqM=</td>\n",
              "      <td>my library</td>\n",
              "      <td>Local playlist more</td>\n",
              "      <td>local-playlist</td>\n",
              "      <td>1</td>\n",
              "      <td>13</td>\n",
              "      <td>24</td>\n",
              "      <td>female</td>\n",
              "      <td>9</td>\n",
              "      <td>2011-05-25</td>\n",
              "      <td>2017-09-11</td>\n",
              "      <td>284584.0</td>\n",
              "      <td>1259</td>\n",
              "      <td>Various Artists</td>\n",
              "      <td>NaN</td>\n",
              "      <td>NaN</td>\n",
              "      <td>52.0</td>\n",
              "      <td>Lords of Cardboard</td>\n",
              "      <td>US3C69910183</td>\n",
              "      <td>5</td>\n",
              "      <td>2301</td>\n",
              "      <td>2011</td>\n",
              "      <td>5</td>\n",
              "      <td>25</td>\n",
              "      <td>2017</td>\n",
              "      <td>9</td>\n",
              "      <td>11</td>\n",
              "      <td>US</td>\n",
              "      <td>3C6</td>\n",
              "      <td>1999.0</td>\n",
              "      <td>0.0</td>\n",
              "    </tr>\n",
              "    <tr>\n",
              "      <th>2</th>\n",
              "      <td>Xumu+NIjS6QYVxDS4/t3SawvJ7viT9hPKXmf0RtLNx8=</td>\n",
              "      <td>JNWfrrC7zNN7BdMpsISKa4Mw+xVJYNnxXh3/Epw7QgY=</td>\n",
              "      <td>my library</td>\n",
              "      <td>Local playlist more</td>\n",
              "      <td>local-playlist</td>\n",
              "      <td>1</td>\n",
              "      <td>13</td>\n",
              "      <td>24</td>\n",
              "      <td>female</td>\n",
              "      <td>9</td>\n",
              "      <td>2011-05-25</td>\n",
              "      <td>2017-09-11</td>\n",
              "      <td>225396.0</td>\n",
              "      <td>1259</td>\n",
              "      <td>Nas</td>\n",
              "      <td>N. Jones、W. Adams、J. Lordan、D. Ingle</td>\n",
              "      <td>NaN</td>\n",
              "      <td>52.0</td>\n",
              "      <td>Hip Hop Is Dead(Album Version (Edited))</td>\n",
              "      <td>USUM70618761</td>\n",
              "      <td>4</td>\n",
              "      <td>2301</td>\n",
              "      <td>2011</td>\n",
              "      <td>5</td>\n",
              "      <td>25</td>\n",
              "      <td>2017</td>\n",
              "      <td>9</td>\n",
              "      <td>11</td>\n",
              "      <td>US</td>\n",
              "      <td>UM7</td>\n",
              "      <td>2006.0</td>\n",
              "      <td>0.0</td>\n",
              "    </tr>\n",
              "    <tr>\n",
              "      <th>3</th>\n",
              "      <td>Xumu+NIjS6QYVxDS4/t3SawvJ7viT9hPKXmf0RtLNx8=</td>\n",
              "      <td>2A87tzfnJTSWqD7gIZHisolhe4DMdzkbd6LzO1KHjNs=</td>\n",
              "      <td>my library</td>\n",
              "      <td>Local playlist more</td>\n",
              "      <td>local-playlist</td>\n",
              "      <td>1</td>\n",
              "      <td>13</td>\n",
              "      <td>24</td>\n",
              "      <td>female</td>\n",
              "      <td>9</td>\n",
              "      <td>2011-05-25</td>\n",
              "      <td>2017-09-11</td>\n",
              "      <td>255512.0</td>\n",
              "      <td>1019</td>\n",
              "      <td>Soundway</td>\n",
              "      <td>Kwadwo Donkoh</td>\n",
              "      <td>NaN</td>\n",
              "      <td>-1.0</td>\n",
              "      <td>Disco Africa</td>\n",
              "      <td>GBUQH1000063</td>\n",
              "      <td>4</td>\n",
              "      <td>2301</td>\n",
              "      <td>2011</td>\n",
              "      <td>5</td>\n",
              "      <td>25</td>\n",
              "      <td>2017</td>\n",
              "      <td>9</td>\n",
              "      <td>11</td>\n",
              "      <td>GB</td>\n",
              "      <td>UQH</td>\n",
              "      <td>2010.0</td>\n",
              "      <td>0.0</td>\n",
              "    </tr>\n",
              "    <tr>\n",
              "      <th>4</th>\n",
              "      <td>FGtllVqz18RPiwJj/edr2gV78zirAiY/9SmYvia+kCg=</td>\n",
              "      <td>3qm6XTZ6MOCU11x8FIVbAGH5l5uMkT3/ZalWG1oo2Gc=</td>\n",
              "      <td>explore</td>\n",
              "      <td>Explore</td>\n",
              "      <td>online-playlist</td>\n",
              "      <td>1</td>\n",
              "      <td>1</td>\n",
              "      <td>0</td>\n",
              "      <td>NaN</td>\n",
              "      <td>7</td>\n",
              "      <td>2012-01-02</td>\n",
              "      <td>2017-10-05</td>\n",
              "      <td>187802.0</td>\n",
              "      <td>1011</td>\n",
              "      <td>Brett Young</td>\n",
              "      <td>Brett Young| Kelly Archer| Justin Ebach</td>\n",
              "      <td>NaN</td>\n",
              "      <td>52.0</td>\n",
              "      <td>Sleep Without You</td>\n",
              "      <td>QM3E21606003</td>\n",
              "      <td>3</td>\n",
              "      <td>2103</td>\n",
              "      <td>2012</td>\n",
              "      <td>1</td>\n",
              "      <td>2</td>\n",
              "      <td>2017</td>\n",
              "      <td>10</td>\n",
              "      <td>5</td>\n",
              "      <td>QM</td>\n",
              "      <td>3E2</td>\n",
              "      <td>2016.0</td>\n",
              "      <td>0.0</td>\n",
              "    </tr>\n",
              "  </tbody>\n",
              "</table>\n",
              "</div>"
            ],
            "text/plain": [
              "                                           msno  ... isrc_missing\n",
              "0  FGtllVqz18RPiwJj/edr2gV78zirAiY/9SmYvia+kCg=  ...          0.0\n",
              "1  Xumu+NIjS6QYVxDS4/t3SawvJ7viT9hPKXmf0RtLNx8=  ...          0.0\n",
              "2  Xumu+NIjS6QYVxDS4/t3SawvJ7viT9hPKXmf0RtLNx8=  ...          0.0\n",
              "3  Xumu+NIjS6QYVxDS4/t3SawvJ7viT9hPKXmf0RtLNx8=  ...          0.0\n",
              "4  FGtllVqz18RPiwJj/edr2gV78zirAiY/9SmYvia+kCg=  ...          0.0\n",
              "\n",
              "[5 rows x 32 columns]"
            ]
          },
          "metadata": {
            "tags": []
          },
          "execution_count": 48
        }
      ]
    },
    {
      "cell_type": "code",
      "metadata": {
        "id": "i91dx0qAVc8V"
      },
      "source": [
        "#Handling missing values\n",
        "#https://pandas.pydata.org/pandas-docs/stable/user_guide/missing_data.html\n",
        "#https://www.geeksforgeeks.org/working-with-missing-data-in-pandas/\n",
        "\n",
        "def handle_missing_values(df):\n",
        "    '''Function to Handle Missing Values'''\n",
        "\n",
        "    df['source_system_tab'].fillna('system_tab_missing', inplace=True)  #done\n",
        "    df['source_screen_name'].fillna('screen_name_missing', inplace=True)    #done\n",
        "    df['source_type'].fillna('source_type_missing', inplace=True)   #done\n",
        "    df['bd'].fillna(df[\"bd\"].mean(), inplace=True)  #done\n",
        "    df['bd']=df[\"bd\"].mask(df[\"bd\"]==0).fillna(df[\"bd\"].mean()) #done\n",
        "    df['gender'].fillna('gender_missing', inplace=True) #done\n",
        "    df['song_length'].replace(np.nan, df['song_length'].median())  #done\n",
        "    df['song_length'].replace(0, df['song_length'].median())   #done\n",
        "    df['genre_ids'].fillna(0, inplace=True) #done\n",
        "    #df.drop(['composer', 'lyricist'], axis=1)   #done\n",
        "    df['lyricist'].fillna('lyricist_missing', inplace=True) #done\n",
        "    df['artist_name'].fillna('artist_name_missing', inplace=True)   #done\n",
        "    df['composer'].fillna('composer_missing', inplace=True) #done\n",
        "    df['language'].replace(np.nan, df['language'].median()) #done\n",
        "    df['name'].fillna('name_missing', inplace=True) #done\n",
        "    df['isrc'].fillna('isrc_missing', inplace=True) #done\n",
        "    df['country_code'].fillna('country_code_missing', inplace=True) #done\n",
        "    df['registration_code'].fillna('registration_code_missing', inplace=True)   #done\n",
        "    df['song_year'].fillna('song_year_missing', inplace=True)    #done\n",
        "\n",
        "    return df"
      ],
      "execution_count": null,
      "outputs": []
    },
    {
      "cell_type": "code",
      "metadata": {
        "id": "tHlbtxtG767w",
        "colab": {
          "base_uri": "https://localhost:8080/"
        },
        "outputId": "fadf9116-50de-4244-e9cc-b609ba1e0eff"
      },
      "source": [
        "train_split = handle_missing_values(train_split)\n",
        "val_split = handle_missing_values(val_split)"
      ],
      "execution_count": null,
      "outputs": [
        {
          "output_type": "stream",
          "text": [
            "/usr/local/lib/python3.6/dist-packages/pandas/core/series.py:4536: SettingWithCopyWarning: \n",
            "A value is trying to be set on a copy of a slice from a DataFrame\n",
            "\n",
            "See the caveats in the documentation: https://pandas.pydata.org/pandas-docs/stable/user_guide/indexing.html#returning-a-view-versus-a-copy\n",
            "  downcast=downcast,\n",
            "/usr/local/lib/python3.6/dist-packages/ipykernel_launcher.py:12: SettingWithCopyWarning: \n",
            "A value is trying to be set on a copy of a slice from a DataFrame.\n",
            "Try using .loc[row_indexer,col_indexer] = value instead\n",
            "\n",
            "See the caveats in the documentation: https://pandas.pydata.org/pandas-docs/stable/user_guide/indexing.html#returning-a-view-versus-a-copy\n",
            "  if sys.path[0] == '':\n",
            "/usr/local/lib/python3.6/dist-packages/pandas/core/series.py:4536: SettingWithCopyWarning: \n",
            "A value is trying to be set on a copy of a slice from a DataFrame\n",
            "\n",
            "See the caveats in the documentation: https://pandas.pydata.org/pandas-docs/stable/user_guide/indexing.html#returning-a-view-versus-a-copy\n",
            "  downcast=downcast,\n",
            "/usr/local/lib/python3.6/dist-packages/ipykernel_launcher.py:12: SettingWithCopyWarning: \n",
            "A value is trying to be set on a copy of a slice from a DataFrame.\n",
            "Try using .loc[row_indexer,col_indexer] = value instead\n",
            "\n",
            "See the caveats in the documentation: https://pandas.pydata.org/pandas-docs/stable/user_guide/indexing.html#returning-a-view-versus-a-copy\n",
            "  if sys.path[0] == '':\n",
            "/usr/local/lib/python3.6/dist-packages/pandas/core/series.py:4536: SettingWithCopyWarning: \n",
            "A value is trying to be set on a copy of a slice from a DataFrame\n",
            "\n",
            "See the caveats in the documentation: https://pandas.pydata.org/pandas-docs/stable/user_guide/indexing.html#returning-a-view-versus-a-copy\n",
            "  downcast=downcast,\n"
          ],
          "name": "stderr"
        }
      ]
    },
    {
      "cell_type": "code",
      "metadata": {
        "id": "S9hOeKv97rx9"
      },
      "source": [
        "def generate_genre_ids(df):\n",
        "    '''Function to sepearate each genre_id and count total number of genre_ids'''\n",
        "\n",
        "    genre_ids_matrix = np.zeros((df.shape[0], 4))\n",
        "\n",
        "    for i in range(df.shape[0]):\n",
        "        ids = str(df['genre_ids'].values[i]).split('|')\n",
        "        if len(ids) > 2:\n",
        "            genre_ids_matrix[i, 0] = (ids[0])\n",
        "            genre_ids_matrix[i, 1] = (ids[1])\n",
        "            genre_ids_matrix[i, 2] = (ids[2])\n",
        "        elif len(ids) > 1:\n",
        "            genre_ids_matrix[i, 0] = (ids[0])\n",
        "            genre_ids_matrix[i, 1] = (ids[1])\n",
        "        elif len(ids) == 1:\n",
        "            genre_ids_matrix[i, 0] = (ids[0])\n",
        "        genre_ids_matrix[i, 3] = len(ids)\n",
        "\n",
        "    df['first_genre_id'] = genre_ids_matrix[:, 0] # keeps first genre_id\n",
        "    df['second_genre_id'] = genre_ids_matrix[:, 1] # keeps second genre_id\n",
        "    df['third_genre_id'] = genre_ids_matrix[:, 2] # keeps third genre_id\n",
        "    df['genre_ids_count'] = genre_ids_matrix[:, 3] # keeps count of genre_ids\n",
        "\n",
        "    return df"
      ],
      "execution_count": null,
      "outputs": []
    },
    {
      "cell_type": "code",
      "metadata": {
        "id": "J7UcDCi373RX",
        "colab": {
          "base_uri": "https://localhost:8080/"
        },
        "outputId": "ec3a8ffe-d448-4fb6-ebaa-e0cd09513af0"
      },
      "source": [
        "train_split = generate_genre_ids(train_split)\n",
        "val_split = generate_genre_ids(val_split)"
      ],
      "execution_count": null,
      "outputs": [
        {
          "output_type": "stream",
          "text": [
            "/usr/local/lib/python3.6/dist-packages/ipykernel_launcher.py:20: SettingWithCopyWarning: \n",
            "A value is trying to be set on a copy of a slice from a DataFrame.\n",
            "Try using .loc[row_indexer,col_indexer] = value instead\n",
            "\n",
            "See the caveats in the documentation: https://pandas.pydata.org/pandas-docs/stable/user_guide/indexing.html#returning-a-view-versus-a-copy\n",
            "/usr/local/lib/python3.6/dist-packages/ipykernel_launcher.py:21: SettingWithCopyWarning: \n",
            "A value is trying to be set on a copy of a slice from a DataFrame.\n",
            "Try using .loc[row_indexer,col_indexer] = value instead\n",
            "\n",
            "See the caveats in the documentation: https://pandas.pydata.org/pandas-docs/stable/user_guide/indexing.html#returning-a-view-versus-a-copy\n",
            "/usr/local/lib/python3.6/dist-packages/ipykernel_launcher.py:22: SettingWithCopyWarning: \n",
            "A value is trying to be set on a copy of a slice from a DataFrame.\n",
            "Try using .loc[row_indexer,col_indexer] = value instead\n",
            "\n",
            "See the caveats in the documentation: https://pandas.pydata.org/pandas-docs/stable/user_guide/indexing.html#returning-a-view-versus-a-copy\n",
            "/usr/local/lib/python3.6/dist-packages/ipykernel_launcher.py:23: SettingWithCopyWarning: \n",
            "A value is trying to be set on a copy of a slice from a DataFrame.\n",
            "Try using .loc[row_indexer,col_indexer] = value instead\n",
            "\n",
            "See the caveats in the documentation: https://pandas.pydata.org/pandas-docs/stable/user_guide/indexing.html#returning-a-view-versus-a-copy\n"
          ],
          "name": "stderr"
        }
      ]
    },
    {
      "cell_type": "code",
      "metadata": {
        "colab": {
          "base_uri": "https://localhost:8080/",
          "height": 343
        },
        "id": "s3r5BtgAjOr5",
        "outputId": "fcac9587-908c-49a2-c313-15e0d3b0ebe4"
      },
      "source": [
        "train_split.head()"
      ],
      "execution_count": null,
      "outputs": [
        {
          "output_type": "execute_result",
          "data": {
            "text/html": [
              "<div>\n",
              "<style scoped>\n",
              "    .dataframe tbody tr th:only-of-type {\n",
              "        vertical-align: middle;\n",
              "    }\n",
              "\n",
              "    .dataframe tbody tr th {\n",
              "        vertical-align: top;\n",
              "    }\n",
              "\n",
              "    .dataframe thead th {\n",
              "        text-align: right;\n",
              "    }\n",
              "</style>\n",
              "<table border=\"1\" class=\"dataframe\">\n",
              "  <thead>\n",
              "    <tr style=\"text-align: right;\">\n",
              "      <th></th>\n",
              "      <th>msno</th>\n",
              "      <th>song_id</th>\n",
              "      <th>source_system_tab</th>\n",
              "      <th>source_screen_name</th>\n",
              "      <th>source_type</th>\n",
              "      <th>target</th>\n",
              "      <th>city</th>\n",
              "      <th>bd</th>\n",
              "      <th>gender</th>\n",
              "      <th>registered_via</th>\n",
              "      <th>registration_init_time</th>\n",
              "      <th>expiration_date</th>\n",
              "      <th>song_length</th>\n",
              "      <th>genre_ids</th>\n",
              "      <th>artist_name</th>\n",
              "      <th>composer</th>\n",
              "      <th>lyricist</th>\n",
              "      <th>language</th>\n",
              "      <th>name</th>\n",
              "      <th>isrc</th>\n",
              "      <th>song_duration_minutes</th>\n",
              "      <th>membership_days_left</th>\n",
              "      <th>registration_year</th>\n",
              "      <th>registration_month</th>\n",
              "      <th>registration_day</th>\n",
              "      <th>expiration_year</th>\n",
              "      <th>expiration_month</th>\n",
              "      <th>expiration_day</th>\n",
              "      <th>country_code</th>\n",
              "      <th>registration_code</th>\n",
              "      <th>song_year</th>\n",
              "      <th>isrc_missing</th>\n",
              "      <th>first_genre_id</th>\n",
              "      <th>second_genre_id</th>\n",
              "      <th>third_genre_id</th>\n",
              "      <th>genre_ids_count</th>\n",
              "    </tr>\n",
              "  </thead>\n",
              "  <tbody>\n",
              "    <tr>\n",
              "      <th>0</th>\n",
              "      <td>FGtllVqz18RPiwJj/edr2gV78zirAiY/9SmYvia+kCg=</td>\n",
              "      <td>BBzumQNXUHKdEBOB7mAJuzok+IJA1c2Ryg/yzTF6tik=</td>\n",
              "      <td>explore</td>\n",
              "      <td>Explore</td>\n",
              "      <td>online-playlist</td>\n",
              "      <td>1</td>\n",
              "      <td>1</td>\n",
              "      <td>17.602686</td>\n",
              "      <td>gender_missing</td>\n",
              "      <td>7</td>\n",
              "      <td>2012-01-02</td>\n",
              "      <td>2017-10-05</td>\n",
              "      <td>206471.0</td>\n",
              "      <td>359</td>\n",
              "      <td>Bastille</td>\n",
              "      <td>Dan Smith| Mark Crew</td>\n",
              "      <td>lyricist_missing</td>\n",
              "      <td>52.0</td>\n",
              "      <td>Good Grief</td>\n",
              "      <td>GBUM71602854</td>\n",
              "      <td>3</td>\n",
              "      <td>2103</td>\n",
              "      <td>2012</td>\n",
              "      <td>1</td>\n",
              "      <td>2</td>\n",
              "      <td>2017</td>\n",
              "      <td>10</td>\n",
              "      <td>5</td>\n",
              "      <td>GB</td>\n",
              "      <td>UM7</td>\n",
              "      <td>2016</td>\n",
              "      <td>0.0</td>\n",
              "      <td>359.0</td>\n",
              "      <td>0.0</td>\n",
              "      <td>0.0</td>\n",
              "      <td>1.0</td>\n",
              "    </tr>\n",
              "    <tr>\n",
              "      <th>1</th>\n",
              "      <td>Xumu+NIjS6QYVxDS4/t3SawvJ7viT9hPKXmf0RtLNx8=</td>\n",
              "      <td>bhp/MpSNoqoxOIB+/l8WPqu6jldth4DIpCm3ayXnJqM=</td>\n",
              "      <td>my library</td>\n",
              "      <td>Local playlist more</td>\n",
              "      <td>local-playlist</td>\n",
              "      <td>1</td>\n",
              "      <td>13</td>\n",
              "      <td>24.000000</td>\n",
              "      <td>female</td>\n",
              "      <td>9</td>\n",
              "      <td>2011-05-25</td>\n",
              "      <td>2017-09-11</td>\n",
              "      <td>284584.0</td>\n",
              "      <td>1259</td>\n",
              "      <td>Various Artists</td>\n",
              "      <td>composer_missing</td>\n",
              "      <td>lyricist_missing</td>\n",
              "      <td>52.0</td>\n",
              "      <td>Lords of Cardboard</td>\n",
              "      <td>US3C69910183</td>\n",
              "      <td>5</td>\n",
              "      <td>2301</td>\n",
              "      <td>2011</td>\n",
              "      <td>5</td>\n",
              "      <td>25</td>\n",
              "      <td>2017</td>\n",
              "      <td>9</td>\n",
              "      <td>11</td>\n",
              "      <td>US</td>\n",
              "      <td>3C6</td>\n",
              "      <td>1999</td>\n",
              "      <td>0.0</td>\n",
              "      <td>1259.0</td>\n",
              "      <td>0.0</td>\n",
              "      <td>0.0</td>\n",
              "      <td>1.0</td>\n",
              "    </tr>\n",
              "    <tr>\n",
              "      <th>2</th>\n",
              "      <td>Xumu+NIjS6QYVxDS4/t3SawvJ7viT9hPKXmf0RtLNx8=</td>\n",
              "      <td>JNWfrrC7zNN7BdMpsISKa4Mw+xVJYNnxXh3/Epw7QgY=</td>\n",
              "      <td>my library</td>\n",
              "      <td>Local playlist more</td>\n",
              "      <td>local-playlist</td>\n",
              "      <td>1</td>\n",
              "      <td>13</td>\n",
              "      <td>24.000000</td>\n",
              "      <td>female</td>\n",
              "      <td>9</td>\n",
              "      <td>2011-05-25</td>\n",
              "      <td>2017-09-11</td>\n",
              "      <td>225396.0</td>\n",
              "      <td>1259</td>\n",
              "      <td>Nas</td>\n",
              "      <td>N. Jones、W. Adams、J. Lordan、D. Ingle</td>\n",
              "      <td>lyricist_missing</td>\n",
              "      <td>52.0</td>\n",
              "      <td>Hip Hop Is Dead(Album Version (Edited))</td>\n",
              "      <td>USUM70618761</td>\n",
              "      <td>4</td>\n",
              "      <td>2301</td>\n",
              "      <td>2011</td>\n",
              "      <td>5</td>\n",
              "      <td>25</td>\n",
              "      <td>2017</td>\n",
              "      <td>9</td>\n",
              "      <td>11</td>\n",
              "      <td>US</td>\n",
              "      <td>UM7</td>\n",
              "      <td>2006</td>\n",
              "      <td>0.0</td>\n",
              "      <td>1259.0</td>\n",
              "      <td>0.0</td>\n",
              "      <td>0.0</td>\n",
              "      <td>1.0</td>\n",
              "    </tr>\n",
              "    <tr>\n",
              "      <th>3</th>\n",
              "      <td>Xumu+NIjS6QYVxDS4/t3SawvJ7viT9hPKXmf0RtLNx8=</td>\n",
              "      <td>2A87tzfnJTSWqD7gIZHisolhe4DMdzkbd6LzO1KHjNs=</td>\n",
              "      <td>my library</td>\n",
              "      <td>Local playlist more</td>\n",
              "      <td>local-playlist</td>\n",
              "      <td>1</td>\n",
              "      <td>13</td>\n",
              "      <td>24.000000</td>\n",
              "      <td>female</td>\n",
              "      <td>9</td>\n",
              "      <td>2011-05-25</td>\n",
              "      <td>2017-09-11</td>\n",
              "      <td>255512.0</td>\n",
              "      <td>1019</td>\n",
              "      <td>Soundway</td>\n",
              "      <td>Kwadwo Donkoh</td>\n",
              "      <td>lyricist_missing</td>\n",
              "      <td>-1.0</td>\n",
              "      <td>Disco Africa</td>\n",
              "      <td>GBUQH1000063</td>\n",
              "      <td>4</td>\n",
              "      <td>2301</td>\n",
              "      <td>2011</td>\n",
              "      <td>5</td>\n",
              "      <td>25</td>\n",
              "      <td>2017</td>\n",
              "      <td>9</td>\n",
              "      <td>11</td>\n",
              "      <td>GB</td>\n",
              "      <td>UQH</td>\n",
              "      <td>2010</td>\n",
              "      <td>0.0</td>\n",
              "      <td>1019.0</td>\n",
              "      <td>0.0</td>\n",
              "      <td>0.0</td>\n",
              "      <td>1.0</td>\n",
              "    </tr>\n",
              "    <tr>\n",
              "      <th>4</th>\n",
              "      <td>FGtllVqz18RPiwJj/edr2gV78zirAiY/9SmYvia+kCg=</td>\n",
              "      <td>3qm6XTZ6MOCU11x8FIVbAGH5l5uMkT3/ZalWG1oo2Gc=</td>\n",
              "      <td>explore</td>\n",
              "      <td>Explore</td>\n",
              "      <td>online-playlist</td>\n",
              "      <td>1</td>\n",
              "      <td>1</td>\n",
              "      <td>17.602686</td>\n",
              "      <td>gender_missing</td>\n",
              "      <td>7</td>\n",
              "      <td>2012-01-02</td>\n",
              "      <td>2017-10-05</td>\n",
              "      <td>187802.0</td>\n",
              "      <td>1011</td>\n",
              "      <td>Brett Young</td>\n",
              "      <td>Brett Young| Kelly Archer| Justin Ebach</td>\n",
              "      <td>lyricist_missing</td>\n",
              "      <td>52.0</td>\n",
              "      <td>Sleep Without You</td>\n",
              "      <td>QM3E21606003</td>\n",
              "      <td>3</td>\n",
              "      <td>2103</td>\n",
              "      <td>2012</td>\n",
              "      <td>1</td>\n",
              "      <td>2</td>\n",
              "      <td>2017</td>\n",
              "      <td>10</td>\n",
              "      <td>5</td>\n",
              "      <td>QM</td>\n",
              "      <td>3E2</td>\n",
              "      <td>2016</td>\n",
              "      <td>0.0</td>\n",
              "      <td>1011.0</td>\n",
              "      <td>0.0</td>\n",
              "      <td>0.0</td>\n",
              "      <td>1.0</td>\n",
              "    </tr>\n",
              "  </tbody>\n",
              "</table>\n",
              "</div>"
            ],
            "text/plain": [
              "                                           msno  ... genre_ids_count\n",
              "0  FGtllVqz18RPiwJj/edr2gV78zirAiY/9SmYvia+kCg=  ...             1.0\n",
              "1  Xumu+NIjS6QYVxDS4/t3SawvJ7viT9hPKXmf0RtLNx8=  ...             1.0\n",
              "2  Xumu+NIjS6QYVxDS4/t3SawvJ7viT9hPKXmf0RtLNx8=  ...             1.0\n",
              "3  Xumu+NIjS6QYVxDS4/t3SawvJ7viT9hPKXmf0RtLNx8=  ...             1.0\n",
              "4  FGtllVqz18RPiwJj/edr2gV78zirAiY/9SmYvia+kCg=  ...             1.0\n",
              "\n",
              "[5 rows x 36 columns]"
            ]
          },
          "metadata": {
            "tags": []
          },
          "execution_count": 53
        }
      ]
    },
    {
      "cell_type": "code",
      "metadata": {
        "id": "OQ5eSnrXMhtg"
      },
      "source": [
        "#final_train = final_train.drop(['composer', 'lyricist'], axis=1)\n",
        "#final_val = final_val.drop(['composer', 'lyricist'], axis=1)"
      ],
      "execution_count": null,
      "outputs": []
    },
    {
      "cell_type": "code",
      "metadata": {
        "id": "nWh2n3rG894t"
      },
      "source": [
        "def calculate_is_featured(df):\n",
        "    '''Function to check if 'feat' is present in artist field.'''\n",
        "    \n",
        "    df['is_featured'] = df['artist_name'].apply(lambda x: 1 if ' feat' in str(x) else 0).astype(np.int8)\n",
        "    return df"
      ],
      "execution_count": null,
      "outputs": []
    },
    {
      "cell_type": "code",
      "metadata": {
        "id": "fLT6nXAx9KWL",
        "colab": {
          "base_uri": "https://localhost:8080/"
        },
        "outputId": "a76f3176-714e-40b3-aea3-314009bd1a83"
      },
      "source": [
        "train_split = calculate_is_featured(train_split)\n",
        "val_split = calculate_is_featured(val_split)"
      ],
      "execution_count": null,
      "outputs": [
        {
          "output_type": "stream",
          "text": [
            "/usr/local/lib/python3.6/dist-packages/ipykernel_launcher.py:4: SettingWithCopyWarning: \n",
            "A value is trying to be set on a copy of a slice from a DataFrame.\n",
            "Try using .loc[row_indexer,col_indexer] = value instead\n",
            "\n",
            "See the caveats in the documentation: https://pandas.pydata.org/pandas-docs/stable/user_guide/indexing.html#returning-a-view-versus-a-copy\n",
            "  after removing the cwd from sys.path.\n"
          ],
          "name": "stderr"
        }
      ]
    },
    {
      "cell_type": "code",
      "metadata": {
        "id": "igLfMmSI9TiM"
      },
      "source": [
        "def get_artist_count(x):\n",
        "    '''Function to count total number of artists for each song'''\n",
        "\n",
        "    return x.count('and') + x.count(',') + x.count(' feat') + x.count('&') + 1\n",
        "\n",
        "def get_artist_first_name(x):\n",
        "    '''Function to extract first artist name from more than one artists'''\n",
        "    \n",
        "    if x.count('and') > 0:\n",
        "        x = x.split('and')[0]\n",
        "    if x.count(',') > 0:\n",
        "        x = x.split(',')[0]\n",
        "    if x.count(' feat') > 0:\n",
        "        x = x.split(' feat')[0]\n",
        "    if x.count('&') > 0:\n",
        "        x = x.split('&')[0]\n",
        "    return x.strip()"
      ],
      "execution_count": null,
      "outputs": []
    },
    {
      "cell_type": "code",
      "metadata": {
        "id": "wJyTC3Ue9bG4"
      },
      "source": [
        "def calculate_artist_features(df):\n",
        "    '''Function to execute above both functions'''\n",
        "    \n",
        "    # get artist count \n",
        "    df['artist_count'] = df['artist_name'].apply(get_artist_count).astype(np.int8)\n",
        "    # get first artist name\n",
        "    df['artist_first_name'] = df['artist_name'].apply(get_artist_first_name)\n",
        "    return df"
      ],
      "execution_count": null,
      "outputs": []
    },
    {
      "cell_type": "code",
      "metadata": {
        "id": "NZLvMpmV9j0O",
        "colab": {
          "base_uri": "https://localhost:8080/"
        },
        "outputId": "4f327a27-312c-4408-941f-ace4d8faf906"
      },
      "source": [
        "train_split = calculate_artist_features(train_split)\n",
        "val_split = calculate_artist_features(val_split)"
      ],
      "execution_count": null,
      "outputs": [
        {
          "output_type": "stream",
          "text": [
            "/usr/local/lib/python3.6/dist-packages/ipykernel_launcher.py:5: SettingWithCopyWarning: \n",
            "A value is trying to be set on a copy of a slice from a DataFrame.\n",
            "Try using .loc[row_indexer,col_indexer] = value instead\n",
            "\n",
            "See the caveats in the documentation: https://pandas.pydata.org/pandas-docs/stable/user_guide/indexing.html#returning-a-view-versus-a-copy\n",
            "  \"\"\"\n",
            "/usr/local/lib/python3.6/dist-packages/ipykernel_launcher.py:7: SettingWithCopyWarning: \n",
            "A value is trying to be set on a copy of a slice from a DataFrame.\n",
            "Try using .loc[row_indexer,col_indexer] = value instead\n",
            "\n",
            "See the caveats in the documentation: https://pandas.pydata.org/pandas-docs/stable/user_guide/indexing.html#returning-a-view-versus-a-copy\n",
            "  import sys\n"
          ],
          "name": "stderr"
        }
      ]
    },
    {
      "cell_type": "code",
      "metadata": {
        "colab": {
          "base_uri": "https://localhost:8080/",
          "height": 343
        },
        "id": "7R5XJveZjln4",
        "outputId": "56a3d577-8844-43bf-d761-eba3300e55ea"
      },
      "source": [
        "train_split.head()"
      ],
      "execution_count": null,
      "outputs": [
        {
          "output_type": "execute_result",
          "data": {
            "text/html": [
              "<div>\n",
              "<style scoped>\n",
              "    .dataframe tbody tr th:only-of-type {\n",
              "        vertical-align: middle;\n",
              "    }\n",
              "\n",
              "    .dataframe tbody tr th {\n",
              "        vertical-align: top;\n",
              "    }\n",
              "\n",
              "    .dataframe thead th {\n",
              "        text-align: right;\n",
              "    }\n",
              "</style>\n",
              "<table border=\"1\" class=\"dataframe\">\n",
              "  <thead>\n",
              "    <tr style=\"text-align: right;\">\n",
              "      <th></th>\n",
              "      <th>msno</th>\n",
              "      <th>song_id</th>\n",
              "      <th>source_system_tab</th>\n",
              "      <th>source_screen_name</th>\n",
              "      <th>source_type</th>\n",
              "      <th>target</th>\n",
              "      <th>city</th>\n",
              "      <th>bd</th>\n",
              "      <th>gender</th>\n",
              "      <th>registered_via</th>\n",
              "      <th>registration_init_time</th>\n",
              "      <th>expiration_date</th>\n",
              "      <th>song_length</th>\n",
              "      <th>genre_ids</th>\n",
              "      <th>artist_name</th>\n",
              "      <th>composer</th>\n",
              "      <th>lyricist</th>\n",
              "      <th>language</th>\n",
              "      <th>name</th>\n",
              "      <th>isrc</th>\n",
              "      <th>song_duration_minutes</th>\n",
              "      <th>membership_days_left</th>\n",
              "      <th>registration_year</th>\n",
              "      <th>registration_month</th>\n",
              "      <th>registration_day</th>\n",
              "      <th>expiration_year</th>\n",
              "      <th>expiration_month</th>\n",
              "      <th>expiration_day</th>\n",
              "      <th>country_code</th>\n",
              "      <th>registration_code</th>\n",
              "      <th>song_year</th>\n",
              "      <th>isrc_missing</th>\n",
              "      <th>first_genre_id</th>\n",
              "      <th>second_genre_id</th>\n",
              "      <th>third_genre_id</th>\n",
              "      <th>genre_ids_count</th>\n",
              "      <th>is_featured</th>\n",
              "      <th>artist_count</th>\n",
              "      <th>artist_first_name</th>\n",
              "    </tr>\n",
              "  </thead>\n",
              "  <tbody>\n",
              "    <tr>\n",
              "      <th>0</th>\n",
              "      <td>FGtllVqz18RPiwJj/edr2gV78zirAiY/9SmYvia+kCg=</td>\n",
              "      <td>BBzumQNXUHKdEBOB7mAJuzok+IJA1c2Ryg/yzTF6tik=</td>\n",
              "      <td>explore</td>\n",
              "      <td>Explore</td>\n",
              "      <td>online-playlist</td>\n",
              "      <td>1</td>\n",
              "      <td>1</td>\n",
              "      <td>17.602686</td>\n",
              "      <td>gender_missing</td>\n",
              "      <td>7</td>\n",
              "      <td>2012-01-02</td>\n",
              "      <td>2017-10-05</td>\n",
              "      <td>206471.0</td>\n",
              "      <td>359</td>\n",
              "      <td>Bastille</td>\n",
              "      <td>Dan Smith| Mark Crew</td>\n",
              "      <td>lyricist_missing</td>\n",
              "      <td>52.0</td>\n",
              "      <td>Good Grief</td>\n",
              "      <td>GBUM71602854</td>\n",
              "      <td>3</td>\n",
              "      <td>2103</td>\n",
              "      <td>2012</td>\n",
              "      <td>1</td>\n",
              "      <td>2</td>\n",
              "      <td>2017</td>\n",
              "      <td>10</td>\n",
              "      <td>5</td>\n",
              "      <td>GB</td>\n",
              "      <td>UM7</td>\n",
              "      <td>2016</td>\n",
              "      <td>0.0</td>\n",
              "      <td>359.0</td>\n",
              "      <td>0.0</td>\n",
              "      <td>0.0</td>\n",
              "      <td>1.0</td>\n",
              "      <td>0</td>\n",
              "      <td>1</td>\n",
              "      <td>Bastille</td>\n",
              "    </tr>\n",
              "    <tr>\n",
              "      <th>1</th>\n",
              "      <td>Xumu+NIjS6QYVxDS4/t3SawvJ7viT9hPKXmf0RtLNx8=</td>\n",
              "      <td>bhp/MpSNoqoxOIB+/l8WPqu6jldth4DIpCm3ayXnJqM=</td>\n",
              "      <td>my library</td>\n",
              "      <td>Local playlist more</td>\n",
              "      <td>local-playlist</td>\n",
              "      <td>1</td>\n",
              "      <td>13</td>\n",
              "      <td>24.000000</td>\n",
              "      <td>female</td>\n",
              "      <td>9</td>\n",
              "      <td>2011-05-25</td>\n",
              "      <td>2017-09-11</td>\n",
              "      <td>284584.0</td>\n",
              "      <td>1259</td>\n",
              "      <td>Various Artists</td>\n",
              "      <td>composer_missing</td>\n",
              "      <td>lyricist_missing</td>\n",
              "      <td>52.0</td>\n",
              "      <td>Lords of Cardboard</td>\n",
              "      <td>US3C69910183</td>\n",
              "      <td>5</td>\n",
              "      <td>2301</td>\n",
              "      <td>2011</td>\n",
              "      <td>5</td>\n",
              "      <td>25</td>\n",
              "      <td>2017</td>\n",
              "      <td>9</td>\n",
              "      <td>11</td>\n",
              "      <td>US</td>\n",
              "      <td>3C6</td>\n",
              "      <td>1999</td>\n",
              "      <td>0.0</td>\n",
              "      <td>1259.0</td>\n",
              "      <td>0.0</td>\n",
              "      <td>0.0</td>\n",
              "      <td>1.0</td>\n",
              "      <td>0</td>\n",
              "      <td>1</td>\n",
              "      <td>Various Artists</td>\n",
              "    </tr>\n",
              "    <tr>\n",
              "      <th>2</th>\n",
              "      <td>Xumu+NIjS6QYVxDS4/t3SawvJ7viT9hPKXmf0RtLNx8=</td>\n",
              "      <td>JNWfrrC7zNN7BdMpsISKa4Mw+xVJYNnxXh3/Epw7QgY=</td>\n",
              "      <td>my library</td>\n",
              "      <td>Local playlist more</td>\n",
              "      <td>local-playlist</td>\n",
              "      <td>1</td>\n",
              "      <td>13</td>\n",
              "      <td>24.000000</td>\n",
              "      <td>female</td>\n",
              "      <td>9</td>\n",
              "      <td>2011-05-25</td>\n",
              "      <td>2017-09-11</td>\n",
              "      <td>225396.0</td>\n",
              "      <td>1259</td>\n",
              "      <td>Nas</td>\n",
              "      <td>N. Jones、W. Adams、J. Lordan、D. Ingle</td>\n",
              "      <td>lyricist_missing</td>\n",
              "      <td>52.0</td>\n",
              "      <td>Hip Hop Is Dead(Album Version (Edited))</td>\n",
              "      <td>USUM70618761</td>\n",
              "      <td>4</td>\n",
              "      <td>2301</td>\n",
              "      <td>2011</td>\n",
              "      <td>5</td>\n",
              "      <td>25</td>\n",
              "      <td>2017</td>\n",
              "      <td>9</td>\n",
              "      <td>11</td>\n",
              "      <td>US</td>\n",
              "      <td>UM7</td>\n",
              "      <td>2006</td>\n",
              "      <td>0.0</td>\n",
              "      <td>1259.0</td>\n",
              "      <td>0.0</td>\n",
              "      <td>0.0</td>\n",
              "      <td>1.0</td>\n",
              "      <td>0</td>\n",
              "      <td>1</td>\n",
              "      <td>Nas</td>\n",
              "    </tr>\n",
              "    <tr>\n",
              "      <th>3</th>\n",
              "      <td>Xumu+NIjS6QYVxDS4/t3SawvJ7viT9hPKXmf0RtLNx8=</td>\n",
              "      <td>2A87tzfnJTSWqD7gIZHisolhe4DMdzkbd6LzO1KHjNs=</td>\n",
              "      <td>my library</td>\n",
              "      <td>Local playlist more</td>\n",
              "      <td>local-playlist</td>\n",
              "      <td>1</td>\n",
              "      <td>13</td>\n",
              "      <td>24.000000</td>\n",
              "      <td>female</td>\n",
              "      <td>9</td>\n",
              "      <td>2011-05-25</td>\n",
              "      <td>2017-09-11</td>\n",
              "      <td>255512.0</td>\n",
              "      <td>1019</td>\n",
              "      <td>Soundway</td>\n",
              "      <td>Kwadwo Donkoh</td>\n",
              "      <td>lyricist_missing</td>\n",
              "      <td>-1.0</td>\n",
              "      <td>Disco Africa</td>\n",
              "      <td>GBUQH1000063</td>\n",
              "      <td>4</td>\n",
              "      <td>2301</td>\n",
              "      <td>2011</td>\n",
              "      <td>5</td>\n",
              "      <td>25</td>\n",
              "      <td>2017</td>\n",
              "      <td>9</td>\n",
              "      <td>11</td>\n",
              "      <td>GB</td>\n",
              "      <td>UQH</td>\n",
              "      <td>2010</td>\n",
              "      <td>0.0</td>\n",
              "      <td>1019.0</td>\n",
              "      <td>0.0</td>\n",
              "      <td>0.0</td>\n",
              "      <td>1.0</td>\n",
              "      <td>0</td>\n",
              "      <td>1</td>\n",
              "      <td>Soundway</td>\n",
              "    </tr>\n",
              "    <tr>\n",
              "      <th>4</th>\n",
              "      <td>FGtllVqz18RPiwJj/edr2gV78zirAiY/9SmYvia+kCg=</td>\n",
              "      <td>3qm6XTZ6MOCU11x8FIVbAGH5l5uMkT3/ZalWG1oo2Gc=</td>\n",
              "      <td>explore</td>\n",
              "      <td>Explore</td>\n",
              "      <td>online-playlist</td>\n",
              "      <td>1</td>\n",
              "      <td>1</td>\n",
              "      <td>17.602686</td>\n",
              "      <td>gender_missing</td>\n",
              "      <td>7</td>\n",
              "      <td>2012-01-02</td>\n",
              "      <td>2017-10-05</td>\n",
              "      <td>187802.0</td>\n",
              "      <td>1011</td>\n",
              "      <td>Brett Young</td>\n",
              "      <td>Brett Young| Kelly Archer| Justin Ebach</td>\n",
              "      <td>lyricist_missing</td>\n",
              "      <td>52.0</td>\n",
              "      <td>Sleep Without You</td>\n",
              "      <td>QM3E21606003</td>\n",
              "      <td>3</td>\n",
              "      <td>2103</td>\n",
              "      <td>2012</td>\n",
              "      <td>1</td>\n",
              "      <td>2</td>\n",
              "      <td>2017</td>\n",
              "      <td>10</td>\n",
              "      <td>5</td>\n",
              "      <td>QM</td>\n",
              "      <td>3E2</td>\n",
              "      <td>2016</td>\n",
              "      <td>0.0</td>\n",
              "      <td>1011.0</td>\n",
              "      <td>0.0</td>\n",
              "      <td>0.0</td>\n",
              "      <td>1.0</td>\n",
              "      <td>0</td>\n",
              "      <td>1</td>\n",
              "      <td>Brett Young</td>\n",
              "    </tr>\n",
              "  </tbody>\n",
              "</table>\n",
              "</div>"
            ],
            "text/plain": [
              "                                           msno  ... artist_first_name\n",
              "0  FGtllVqz18RPiwJj/edr2gV78zirAiY/9SmYvia+kCg=  ...          Bastille\n",
              "1  Xumu+NIjS6QYVxDS4/t3SawvJ7viT9hPKXmf0RtLNx8=  ...   Various Artists\n",
              "2  Xumu+NIjS6QYVxDS4/t3SawvJ7viT9hPKXmf0RtLNx8=  ...               Nas\n",
              "3  Xumu+NIjS6QYVxDS4/t3SawvJ7viT9hPKXmf0RtLNx8=  ...          Soundway\n",
              "4  FGtllVqz18RPiwJj/edr2gV78zirAiY/9SmYvia+kCg=  ...       Brett Young\n",
              "\n",
              "[5 rows x 39 columns]"
            ]
          },
          "metadata": {
            "tags": []
          },
          "execution_count": 59
        }
      ]
    },
    {
      "cell_type": "code",
      "metadata": {
        "id": "eM3aWb_e9tIn"
      },
      "source": [
        "def get_lyricist_count(x):\n",
        "    '''Function to count the number of lyricists'''\n",
        "\n",
        "    if x == 'no_lyricist':\n",
        "        return 0\n",
        "    else:\n",
        "        return sum(map(x.count, ['|', '/', '\\\\', ';'])) + 1\n",
        "    return sum(map(x.count, ['|', '/', '\\\\', ';']))\n",
        "\n",
        "def get_lyricist_first_name(x):\n",
        "    '''Function to get the first name of a lyricist'''\n",
        "    \n",
        "    try:\n",
        "        if x.count('|') > 0:\n",
        "            x = x.split('|')[0]\n",
        "        if x.count('/') > 0:\n",
        "            x = x.split('/')[0]\n",
        "        if x.count('\\\\') > 0:\n",
        "            x = x.split('\\\\')[0]\n",
        "        if x.count(';') > 0:\n",
        "            x = x.split(';')[0]\n",
        "        return x.strip()\n",
        "    except:\n",
        "        return x"
      ],
      "execution_count": null,
      "outputs": []
    },
    {
      "cell_type": "code",
      "metadata": {
        "id": "J-llpkrL9z9S"
      },
      "source": [
        "def calculate_lyricist_features(df):\n",
        "    '''Function to extract features for lyricist'''\n",
        "    \n",
        "    df['lyricist_count'] = df['lyricist'].apply(get_lyricist_count).astype(np.int8)\n",
        "    df['first_lyricist'] = df['lyricist'].apply(get_lyricist_first_name)\n",
        "    return df"
      ],
      "execution_count": null,
      "outputs": []
    },
    {
      "cell_type": "code",
      "metadata": {
        "id": "4zLz1NHGPZuH",
        "colab": {
          "base_uri": "https://localhost:8080/"
        },
        "outputId": "e3ada780-9cb0-4628-d091-d915bad8d592"
      },
      "source": [
        "train_split = calculate_lyricist_features(train_split)\r\n",
        "val_split = calculate_lyricist_features(val_split)"
      ],
      "execution_count": null,
      "outputs": [
        {
          "output_type": "stream",
          "text": [
            "/usr/local/lib/python3.6/dist-packages/ipykernel_launcher.py:4: SettingWithCopyWarning: \n",
            "A value is trying to be set on a copy of a slice from a DataFrame.\n",
            "Try using .loc[row_indexer,col_indexer] = value instead\n",
            "\n",
            "See the caveats in the documentation: https://pandas.pydata.org/pandas-docs/stable/user_guide/indexing.html#returning-a-view-versus-a-copy\n",
            "  after removing the cwd from sys.path.\n",
            "/usr/local/lib/python3.6/dist-packages/ipykernel_launcher.py:5: SettingWithCopyWarning: \n",
            "A value is trying to be set on a copy of a slice from a DataFrame.\n",
            "Try using .loc[row_indexer,col_indexer] = value instead\n",
            "\n",
            "See the caveats in the documentation: https://pandas.pydata.org/pandas-docs/stable/user_guide/indexing.html#returning-a-view-versus-a-copy\n",
            "  \"\"\"\n"
          ],
          "name": "stderr"
        }
      ]
    },
    {
      "cell_type": "code",
      "metadata": {
        "colab": {
          "base_uri": "https://localhost:8080/",
          "height": 343
        },
        "id": "H5GWnGYzjybV",
        "outputId": "14e08400-b6bb-49cb-b763-d7aff7fc815e"
      },
      "source": [
        "train_split.head()"
      ],
      "execution_count": null,
      "outputs": [
        {
          "output_type": "execute_result",
          "data": {
            "text/html": [
              "<div>\n",
              "<style scoped>\n",
              "    .dataframe tbody tr th:only-of-type {\n",
              "        vertical-align: middle;\n",
              "    }\n",
              "\n",
              "    .dataframe tbody tr th {\n",
              "        vertical-align: top;\n",
              "    }\n",
              "\n",
              "    .dataframe thead th {\n",
              "        text-align: right;\n",
              "    }\n",
              "</style>\n",
              "<table border=\"1\" class=\"dataframe\">\n",
              "  <thead>\n",
              "    <tr style=\"text-align: right;\">\n",
              "      <th></th>\n",
              "      <th>msno</th>\n",
              "      <th>song_id</th>\n",
              "      <th>source_system_tab</th>\n",
              "      <th>source_screen_name</th>\n",
              "      <th>source_type</th>\n",
              "      <th>target</th>\n",
              "      <th>city</th>\n",
              "      <th>bd</th>\n",
              "      <th>gender</th>\n",
              "      <th>registered_via</th>\n",
              "      <th>registration_init_time</th>\n",
              "      <th>expiration_date</th>\n",
              "      <th>song_length</th>\n",
              "      <th>genre_ids</th>\n",
              "      <th>artist_name</th>\n",
              "      <th>composer</th>\n",
              "      <th>lyricist</th>\n",
              "      <th>language</th>\n",
              "      <th>name</th>\n",
              "      <th>isrc</th>\n",
              "      <th>song_duration_minutes</th>\n",
              "      <th>membership_days_left</th>\n",
              "      <th>registration_year</th>\n",
              "      <th>registration_month</th>\n",
              "      <th>registration_day</th>\n",
              "      <th>expiration_year</th>\n",
              "      <th>expiration_month</th>\n",
              "      <th>expiration_day</th>\n",
              "      <th>country_code</th>\n",
              "      <th>registration_code</th>\n",
              "      <th>song_year</th>\n",
              "      <th>isrc_missing</th>\n",
              "      <th>first_genre_id</th>\n",
              "      <th>second_genre_id</th>\n",
              "      <th>third_genre_id</th>\n",
              "      <th>genre_ids_count</th>\n",
              "      <th>is_featured</th>\n",
              "      <th>artist_count</th>\n",
              "      <th>artist_first_name</th>\n",
              "      <th>lyricist_count</th>\n",
              "      <th>first_lyricist</th>\n",
              "    </tr>\n",
              "  </thead>\n",
              "  <tbody>\n",
              "    <tr>\n",
              "      <th>0</th>\n",
              "      <td>FGtllVqz18RPiwJj/edr2gV78zirAiY/9SmYvia+kCg=</td>\n",
              "      <td>BBzumQNXUHKdEBOB7mAJuzok+IJA1c2Ryg/yzTF6tik=</td>\n",
              "      <td>explore</td>\n",
              "      <td>Explore</td>\n",
              "      <td>online-playlist</td>\n",
              "      <td>1</td>\n",
              "      <td>1</td>\n",
              "      <td>17.602686</td>\n",
              "      <td>gender_missing</td>\n",
              "      <td>7</td>\n",
              "      <td>2012-01-02</td>\n",
              "      <td>2017-10-05</td>\n",
              "      <td>206471.0</td>\n",
              "      <td>359</td>\n",
              "      <td>Bastille</td>\n",
              "      <td>Dan Smith| Mark Crew</td>\n",
              "      <td>lyricist_missing</td>\n",
              "      <td>52.0</td>\n",
              "      <td>Good Grief</td>\n",
              "      <td>GBUM71602854</td>\n",
              "      <td>3</td>\n",
              "      <td>2103</td>\n",
              "      <td>2012</td>\n",
              "      <td>1</td>\n",
              "      <td>2</td>\n",
              "      <td>2017</td>\n",
              "      <td>10</td>\n",
              "      <td>5</td>\n",
              "      <td>GB</td>\n",
              "      <td>UM7</td>\n",
              "      <td>2016</td>\n",
              "      <td>0.0</td>\n",
              "      <td>359.0</td>\n",
              "      <td>0.0</td>\n",
              "      <td>0.0</td>\n",
              "      <td>1.0</td>\n",
              "      <td>0</td>\n",
              "      <td>1</td>\n",
              "      <td>Bastille</td>\n",
              "      <td>1</td>\n",
              "      <td>lyricist_missing</td>\n",
              "    </tr>\n",
              "    <tr>\n",
              "      <th>1</th>\n",
              "      <td>Xumu+NIjS6QYVxDS4/t3SawvJ7viT9hPKXmf0RtLNx8=</td>\n",
              "      <td>bhp/MpSNoqoxOIB+/l8WPqu6jldth4DIpCm3ayXnJqM=</td>\n",
              "      <td>my library</td>\n",
              "      <td>Local playlist more</td>\n",
              "      <td>local-playlist</td>\n",
              "      <td>1</td>\n",
              "      <td>13</td>\n",
              "      <td>24.000000</td>\n",
              "      <td>female</td>\n",
              "      <td>9</td>\n",
              "      <td>2011-05-25</td>\n",
              "      <td>2017-09-11</td>\n",
              "      <td>284584.0</td>\n",
              "      <td>1259</td>\n",
              "      <td>Various Artists</td>\n",
              "      <td>composer_missing</td>\n",
              "      <td>lyricist_missing</td>\n",
              "      <td>52.0</td>\n",
              "      <td>Lords of Cardboard</td>\n",
              "      <td>US3C69910183</td>\n",
              "      <td>5</td>\n",
              "      <td>2301</td>\n",
              "      <td>2011</td>\n",
              "      <td>5</td>\n",
              "      <td>25</td>\n",
              "      <td>2017</td>\n",
              "      <td>9</td>\n",
              "      <td>11</td>\n",
              "      <td>US</td>\n",
              "      <td>3C6</td>\n",
              "      <td>1999</td>\n",
              "      <td>0.0</td>\n",
              "      <td>1259.0</td>\n",
              "      <td>0.0</td>\n",
              "      <td>0.0</td>\n",
              "      <td>1.0</td>\n",
              "      <td>0</td>\n",
              "      <td>1</td>\n",
              "      <td>Various Artists</td>\n",
              "      <td>1</td>\n",
              "      <td>lyricist_missing</td>\n",
              "    </tr>\n",
              "    <tr>\n",
              "      <th>2</th>\n",
              "      <td>Xumu+NIjS6QYVxDS4/t3SawvJ7viT9hPKXmf0RtLNx8=</td>\n",
              "      <td>JNWfrrC7zNN7BdMpsISKa4Mw+xVJYNnxXh3/Epw7QgY=</td>\n",
              "      <td>my library</td>\n",
              "      <td>Local playlist more</td>\n",
              "      <td>local-playlist</td>\n",
              "      <td>1</td>\n",
              "      <td>13</td>\n",
              "      <td>24.000000</td>\n",
              "      <td>female</td>\n",
              "      <td>9</td>\n",
              "      <td>2011-05-25</td>\n",
              "      <td>2017-09-11</td>\n",
              "      <td>225396.0</td>\n",
              "      <td>1259</td>\n",
              "      <td>Nas</td>\n",
              "      <td>N. Jones、W. Adams、J. Lordan、D. Ingle</td>\n",
              "      <td>lyricist_missing</td>\n",
              "      <td>52.0</td>\n",
              "      <td>Hip Hop Is Dead(Album Version (Edited))</td>\n",
              "      <td>USUM70618761</td>\n",
              "      <td>4</td>\n",
              "      <td>2301</td>\n",
              "      <td>2011</td>\n",
              "      <td>5</td>\n",
              "      <td>25</td>\n",
              "      <td>2017</td>\n",
              "      <td>9</td>\n",
              "      <td>11</td>\n",
              "      <td>US</td>\n",
              "      <td>UM7</td>\n",
              "      <td>2006</td>\n",
              "      <td>0.0</td>\n",
              "      <td>1259.0</td>\n",
              "      <td>0.0</td>\n",
              "      <td>0.0</td>\n",
              "      <td>1.0</td>\n",
              "      <td>0</td>\n",
              "      <td>1</td>\n",
              "      <td>Nas</td>\n",
              "      <td>1</td>\n",
              "      <td>lyricist_missing</td>\n",
              "    </tr>\n",
              "    <tr>\n",
              "      <th>3</th>\n",
              "      <td>Xumu+NIjS6QYVxDS4/t3SawvJ7viT9hPKXmf0RtLNx8=</td>\n",
              "      <td>2A87tzfnJTSWqD7gIZHisolhe4DMdzkbd6LzO1KHjNs=</td>\n",
              "      <td>my library</td>\n",
              "      <td>Local playlist more</td>\n",
              "      <td>local-playlist</td>\n",
              "      <td>1</td>\n",
              "      <td>13</td>\n",
              "      <td>24.000000</td>\n",
              "      <td>female</td>\n",
              "      <td>9</td>\n",
              "      <td>2011-05-25</td>\n",
              "      <td>2017-09-11</td>\n",
              "      <td>255512.0</td>\n",
              "      <td>1019</td>\n",
              "      <td>Soundway</td>\n",
              "      <td>Kwadwo Donkoh</td>\n",
              "      <td>lyricist_missing</td>\n",
              "      <td>-1.0</td>\n",
              "      <td>Disco Africa</td>\n",
              "      <td>GBUQH1000063</td>\n",
              "      <td>4</td>\n",
              "      <td>2301</td>\n",
              "      <td>2011</td>\n",
              "      <td>5</td>\n",
              "      <td>25</td>\n",
              "      <td>2017</td>\n",
              "      <td>9</td>\n",
              "      <td>11</td>\n",
              "      <td>GB</td>\n",
              "      <td>UQH</td>\n",
              "      <td>2010</td>\n",
              "      <td>0.0</td>\n",
              "      <td>1019.0</td>\n",
              "      <td>0.0</td>\n",
              "      <td>0.0</td>\n",
              "      <td>1.0</td>\n",
              "      <td>0</td>\n",
              "      <td>1</td>\n",
              "      <td>Soundway</td>\n",
              "      <td>1</td>\n",
              "      <td>lyricist_missing</td>\n",
              "    </tr>\n",
              "    <tr>\n",
              "      <th>4</th>\n",
              "      <td>FGtllVqz18RPiwJj/edr2gV78zirAiY/9SmYvia+kCg=</td>\n",
              "      <td>3qm6XTZ6MOCU11x8FIVbAGH5l5uMkT3/ZalWG1oo2Gc=</td>\n",
              "      <td>explore</td>\n",
              "      <td>Explore</td>\n",
              "      <td>online-playlist</td>\n",
              "      <td>1</td>\n",
              "      <td>1</td>\n",
              "      <td>17.602686</td>\n",
              "      <td>gender_missing</td>\n",
              "      <td>7</td>\n",
              "      <td>2012-01-02</td>\n",
              "      <td>2017-10-05</td>\n",
              "      <td>187802.0</td>\n",
              "      <td>1011</td>\n",
              "      <td>Brett Young</td>\n",
              "      <td>Brett Young| Kelly Archer| Justin Ebach</td>\n",
              "      <td>lyricist_missing</td>\n",
              "      <td>52.0</td>\n",
              "      <td>Sleep Without You</td>\n",
              "      <td>QM3E21606003</td>\n",
              "      <td>3</td>\n",
              "      <td>2103</td>\n",
              "      <td>2012</td>\n",
              "      <td>1</td>\n",
              "      <td>2</td>\n",
              "      <td>2017</td>\n",
              "      <td>10</td>\n",
              "      <td>5</td>\n",
              "      <td>QM</td>\n",
              "      <td>3E2</td>\n",
              "      <td>2016</td>\n",
              "      <td>0.0</td>\n",
              "      <td>1011.0</td>\n",
              "      <td>0.0</td>\n",
              "      <td>0.0</td>\n",
              "      <td>1.0</td>\n",
              "      <td>0</td>\n",
              "      <td>1</td>\n",
              "      <td>Brett Young</td>\n",
              "      <td>1</td>\n",
              "      <td>lyricist_missing</td>\n",
              "    </tr>\n",
              "  </tbody>\n",
              "</table>\n",
              "</div>"
            ],
            "text/plain": [
              "                                           msno  ...    first_lyricist\n",
              "0  FGtllVqz18RPiwJj/edr2gV78zirAiY/9SmYvia+kCg=  ...  lyricist_missing\n",
              "1  Xumu+NIjS6QYVxDS4/t3SawvJ7viT9hPKXmf0RtLNx8=  ...  lyricist_missing\n",
              "2  Xumu+NIjS6QYVxDS4/t3SawvJ7viT9hPKXmf0RtLNx8=  ...  lyricist_missing\n",
              "3  Xumu+NIjS6QYVxDS4/t3SawvJ7viT9hPKXmf0RtLNx8=  ...  lyricist_missing\n",
              "4  FGtllVqz18RPiwJj/edr2gV78zirAiY/9SmYvia+kCg=  ...  lyricist_missing\n",
              "\n",
              "[5 rows x 41 columns]"
            ]
          },
          "metadata": {
            "tags": []
          },
          "execution_count": 63
        }
      ]
    },
    {
      "cell_type": "code",
      "metadata": {
        "id": "IbBJzQHNk6K1"
      },
      "source": [
        "def composer_count(x):\r\n",
        "    '''Function to get the count of number of composers'''\r\n",
        "\r\n",
        "    if x == 'no_composer':\r\n",
        "        return 0\r\n",
        "    else:\r\n",
        "        return sum(map(x.count, ['|', '/', '\\\\', ';'])) + 1\r\n",
        "\r\n",
        "def get_first_composer(x):\r\n",
        "    '''Function to get the first name of a composer'''\r\n",
        "    \r\n",
        "    try:\r\n",
        "        if x.count('|') > 0:\r\n",
        "            x = x.split('|')[0]\r\n",
        "        if x.count('/') > 0:\r\n",
        "            x = x.split('/')[0]\r\n",
        "        if x.count('\\\\') > 0:\r\n",
        "            x = x.split('\\\\')[0]\r\n",
        "        if x.count(';') > 0:\r\n",
        "            x = x.split(';')[0]\r\n",
        "        return x.strip()\r\n",
        "    except:\r\n",
        "        return x"
      ],
      "execution_count": null,
      "outputs": []
    },
    {
      "cell_type": "code",
      "metadata": {
        "id": "vO2xeuLmlNU9"
      },
      "source": [
        "def calculate_composer_features(df):\r\n",
        "    '''Function to extrract composer features'''\r\n",
        "    \r\n",
        "    df['composer_count'] = df['composer'].apply(composer_count).astype(np.int8)\r\n",
        "    df['first_composer'] = df['composer'].apply(get_first_composer)\r\n",
        "    return df"
      ],
      "execution_count": null,
      "outputs": []
    },
    {
      "cell_type": "code",
      "metadata": {
        "id": "GE46IHJ5lZXj",
        "colab": {
          "base_uri": "https://localhost:8080/"
        },
        "outputId": "bbfda875-721e-4034-a3ed-0b8ea5bc8445"
      },
      "source": [
        "train_split = calculate_composer_features(train_split)\r\n",
        "val_split = calculate_composer_features(val_split)"
      ],
      "execution_count": null,
      "outputs": [
        {
          "output_type": "stream",
          "text": [
            "/usr/local/lib/python3.6/dist-packages/ipykernel_launcher.py:4: SettingWithCopyWarning: \n",
            "A value is trying to be set on a copy of a slice from a DataFrame.\n",
            "Try using .loc[row_indexer,col_indexer] = value instead\n",
            "\n",
            "See the caveats in the documentation: https://pandas.pydata.org/pandas-docs/stable/user_guide/indexing.html#returning-a-view-versus-a-copy\n",
            "  after removing the cwd from sys.path.\n",
            "/usr/local/lib/python3.6/dist-packages/ipykernel_launcher.py:5: SettingWithCopyWarning: \n",
            "A value is trying to be set on a copy of a slice from a DataFrame.\n",
            "Try using .loc[row_indexer,col_indexer] = value instead\n",
            "\n",
            "See the caveats in the documentation: https://pandas.pydata.org/pandas-docs/stable/user_guide/indexing.html#returning-a-view-versus-a-copy\n",
            "  \"\"\"\n"
          ],
          "name": "stderr"
        }
      ]
    },
    {
      "cell_type": "code",
      "metadata": {
        "colab": {
          "base_uri": "https://localhost:8080/",
          "height": 343
        },
        "id": "aIc5pJQsleZA",
        "outputId": "cf80a3ea-f886-45ae-c717-27595daf705e"
      },
      "source": [
        "train_split.head()"
      ],
      "execution_count": null,
      "outputs": [
        {
          "output_type": "execute_result",
          "data": {
            "text/html": [
              "<div>\n",
              "<style scoped>\n",
              "    .dataframe tbody tr th:only-of-type {\n",
              "        vertical-align: middle;\n",
              "    }\n",
              "\n",
              "    .dataframe tbody tr th {\n",
              "        vertical-align: top;\n",
              "    }\n",
              "\n",
              "    .dataframe thead th {\n",
              "        text-align: right;\n",
              "    }\n",
              "</style>\n",
              "<table border=\"1\" class=\"dataframe\">\n",
              "  <thead>\n",
              "    <tr style=\"text-align: right;\">\n",
              "      <th></th>\n",
              "      <th>msno</th>\n",
              "      <th>song_id</th>\n",
              "      <th>source_system_tab</th>\n",
              "      <th>source_screen_name</th>\n",
              "      <th>source_type</th>\n",
              "      <th>target</th>\n",
              "      <th>city</th>\n",
              "      <th>bd</th>\n",
              "      <th>gender</th>\n",
              "      <th>registered_via</th>\n",
              "      <th>registration_init_time</th>\n",
              "      <th>expiration_date</th>\n",
              "      <th>song_length</th>\n",
              "      <th>genre_ids</th>\n",
              "      <th>artist_name</th>\n",
              "      <th>composer</th>\n",
              "      <th>lyricist</th>\n",
              "      <th>language</th>\n",
              "      <th>name</th>\n",
              "      <th>isrc</th>\n",
              "      <th>song_duration_minutes</th>\n",
              "      <th>membership_days_left</th>\n",
              "      <th>registration_year</th>\n",
              "      <th>registration_month</th>\n",
              "      <th>registration_day</th>\n",
              "      <th>expiration_year</th>\n",
              "      <th>expiration_month</th>\n",
              "      <th>expiration_day</th>\n",
              "      <th>country_code</th>\n",
              "      <th>registration_code</th>\n",
              "      <th>song_year</th>\n",
              "      <th>isrc_missing</th>\n",
              "      <th>first_genre_id</th>\n",
              "      <th>second_genre_id</th>\n",
              "      <th>third_genre_id</th>\n",
              "      <th>genre_ids_count</th>\n",
              "      <th>is_featured</th>\n",
              "      <th>artist_count</th>\n",
              "      <th>artist_first_name</th>\n",
              "      <th>lyricist_count</th>\n",
              "      <th>first_lyricist</th>\n",
              "      <th>composer_count</th>\n",
              "      <th>first_composer</th>\n",
              "    </tr>\n",
              "  </thead>\n",
              "  <tbody>\n",
              "    <tr>\n",
              "      <th>0</th>\n",
              "      <td>FGtllVqz18RPiwJj/edr2gV78zirAiY/9SmYvia+kCg=</td>\n",
              "      <td>BBzumQNXUHKdEBOB7mAJuzok+IJA1c2Ryg/yzTF6tik=</td>\n",
              "      <td>explore</td>\n",
              "      <td>Explore</td>\n",
              "      <td>online-playlist</td>\n",
              "      <td>1</td>\n",
              "      <td>1</td>\n",
              "      <td>17.602686</td>\n",
              "      <td>gender_missing</td>\n",
              "      <td>7</td>\n",
              "      <td>2012-01-02</td>\n",
              "      <td>2017-10-05</td>\n",
              "      <td>206471.0</td>\n",
              "      <td>359</td>\n",
              "      <td>Bastille</td>\n",
              "      <td>Dan Smith| Mark Crew</td>\n",
              "      <td>lyricist_missing</td>\n",
              "      <td>52.0</td>\n",
              "      <td>Good Grief</td>\n",
              "      <td>GBUM71602854</td>\n",
              "      <td>3</td>\n",
              "      <td>2103</td>\n",
              "      <td>2012</td>\n",
              "      <td>1</td>\n",
              "      <td>2</td>\n",
              "      <td>2017</td>\n",
              "      <td>10</td>\n",
              "      <td>5</td>\n",
              "      <td>GB</td>\n",
              "      <td>UM7</td>\n",
              "      <td>2016</td>\n",
              "      <td>0.0</td>\n",
              "      <td>359.0</td>\n",
              "      <td>0.0</td>\n",
              "      <td>0.0</td>\n",
              "      <td>1.0</td>\n",
              "      <td>0</td>\n",
              "      <td>1</td>\n",
              "      <td>Bastille</td>\n",
              "      <td>1</td>\n",
              "      <td>lyricist_missing</td>\n",
              "      <td>2</td>\n",
              "      <td>Dan Smith</td>\n",
              "    </tr>\n",
              "    <tr>\n",
              "      <th>1</th>\n",
              "      <td>Xumu+NIjS6QYVxDS4/t3SawvJ7viT9hPKXmf0RtLNx8=</td>\n",
              "      <td>bhp/MpSNoqoxOIB+/l8WPqu6jldth4DIpCm3ayXnJqM=</td>\n",
              "      <td>my library</td>\n",
              "      <td>Local playlist more</td>\n",
              "      <td>local-playlist</td>\n",
              "      <td>1</td>\n",
              "      <td>13</td>\n",
              "      <td>24.000000</td>\n",
              "      <td>female</td>\n",
              "      <td>9</td>\n",
              "      <td>2011-05-25</td>\n",
              "      <td>2017-09-11</td>\n",
              "      <td>284584.0</td>\n",
              "      <td>1259</td>\n",
              "      <td>Various Artists</td>\n",
              "      <td>composer_missing</td>\n",
              "      <td>lyricist_missing</td>\n",
              "      <td>52.0</td>\n",
              "      <td>Lords of Cardboard</td>\n",
              "      <td>US3C69910183</td>\n",
              "      <td>5</td>\n",
              "      <td>2301</td>\n",
              "      <td>2011</td>\n",
              "      <td>5</td>\n",
              "      <td>25</td>\n",
              "      <td>2017</td>\n",
              "      <td>9</td>\n",
              "      <td>11</td>\n",
              "      <td>US</td>\n",
              "      <td>3C6</td>\n",
              "      <td>1999</td>\n",
              "      <td>0.0</td>\n",
              "      <td>1259.0</td>\n",
              "      <td>0.0</td>\n",
              "      <td>0.0</td>\n",
              "      <td>1.0</td>\n",
              "      <td>0</td>\n",
              "      <td>1</td>\n",
              "      <td>Various Artists</td>\n",
              "      <td>1</td>\n",
              "      <td>lyricist_missing</td>\n",
              "      <td>1</td>\n",
              "      <td>composer_missing</td>\n",
              "    </tr>\n",
              "    <tr>\n",
              "      <th>2</th>\n",
              "      <td>Xumu+NIjS6QYVxDS4/t3SawvJ7viT9hPKXmf0RtLNx8=</td>\n",
              "      <td>JNWfrrC7zNN7BdMpsISKa4Mw+xVJYNnxXh3/Epw7QgY=</td>\n",
              "      <td>my library</td>\n",
              "      <td>Local playlist more</td>\n",
              "      <td>local-playlist</td>\n",
              "      <td>1</td>\n",
              "      <td>13</td>\n",
              "      <td>24.000000</td>\n",
              "      <td>female</td>\n",
              "      <td>9</td>\n",
              "      <td>2011-05-25</td>\n",
              "      <td>2017-09-11</td>\n",
              "      <td>225396.0</td>\n",
              "      <td>1259</td>\n",
              "      <td>Nas</td>\n",
              "      <td>N. Jones、W. Adams、J. Lordan、D. Ingle</td>\n",
              "      <td>lyricist_missing</td>\n",
              "      <td>52.0</td>\n",
              "      <td>Hip Hop Is Dead(Album Version (Edited))</td>\n",
              "      <td>USUM70618761</td>\n",
              "      <td>4</td>\n",
              "      <td>2301</td>\n",
              "      <td>2011</td>\n",
              "      <td>5</td>\n",
              "      <td>25</td>\n",
              "      <td>2017</td>\n",
              "      <td>9</td>\n",
              "      <td>11</td>\n",
              "      <td>US</td>\n",
              "      <td>UM7</td>\n",
              "      <td>2006</td>\n",
              "      <td>0.0</td>\n",
              "      <td>1259.0</td>\n",
              "      <td>0.0</td>\n",
              "      <td>0.0</td>\n",
              "      <td>1.0</td>\n",
              "      <td>0</td>\n",
              "      <td>1</td>\n",
              "      <td>Nas</td>\n",
              "      <td>1</td>\n",
              "      <td>lyricist_missing</td>\n",
              "      <td>1</td>\n",
              "      <td>N. Jones、W. Adams、J. Lordan、D. Ingle</td>\n",
              "    </tr>\n",
              "    <tr>\n",
              "      <th>3</th>\n",
              "      <td>Xumu+NIjS6QYVxDS4/t3SawvJ7viT9hPKXmf0RtLNx8=</td>\n",
              "      <td>2A87tzfnJTSWqD7gIZHisolhe4DMdzkbd6LzO1KHjNs=</td>\n",
              "      <td>my library</td>\n",
              "      <td>Local playlist more</td>\n",
              "      <td>local-playlist</td>\n",
              "      <td>1</td>\n",
              "      <td>13</td>\n",
              "      <td>24.000000</td>\n",
              "      <td>female</td>\n",
              "      <td>9</td>\n",
              "      <td>2011-05-25</td>\n",
              "      <td>2017-09-11</td>\n",
              "      <td>255512.0</td>\n",
              "      <td>1019</td>\n",
              "      <td>Soundway</td>\n",
              "      <td>Kwadwo Donkoh</td>\n",
              "      <td>lyricist_missing</td>\n",
              "      <td>-1.0</td>\n",
              "      <td>Disco Africa</td>\n",
              "      <td>GBUQH1000063</td>\n",
              "      <td>4</td>\n",
              "      <td>2301</td>\n",
              "      <td>2011</td>\n",
              "      <td>5</td>\n",
              "      <td>25</td>\n",
              "      <td>2017</td>\n",
              "      <td>9</td>\n",
              "      <td>11</td>\n",
              "      <td>GB</td>\n",
              "      <td>UQH</td>\n",
              "      <td>2010</td>\n",
              "      <td>0.0</td>\n",
              "      <td>1019.0</td>\n",
              "      <td>0.0</td>\n",
              "      <td>0.0</td>\n",
              "      <td>1.0</td>\n",
              "      <td>0</td>\n",
              "      <td>1</td>\n",
              "      <td>Soundway</td>\n",
              "      <td>1</td>\n",
              "      <td>lyricist_missing</td>\n",
              "      <td>1</td>\n",
              "      <td>Kwadwo Donkoh</td>\n",
              "    </tr>\n",
              "    <tr>\n",
              "      <th>4</th>\n",
              "      <td>FGtllVqz18RPiwJj/edr2gV78zirAiY/9SmYvia+kCg=</td>\n",
              "      <td>3qm6XTZ6MOCU11x8FIVbAGH5l5uMkT3/ZalWG1oo2Gc=</td>\n",
              "      <td>explore</td>\n",
              "      <td>Explore</td>\n",
              "      <td>online-playlist</td>\n",
              "      <td>1</td>\n",
              "      <td>1</td>\n",
              "      <td>17.602686</td>\n",
              "      <td>gender_missing</td>\n",
              "      <td>7</td>\n",
              "      <td>2012-01-02</td>\n",
              "      <td>2017-10-05</td>\n",
              "      <td>187802.0</td>\n",
              "      <td>1011</td>\n",
              "      <td>Brett Young</td>\n",
              "      <td>Brett Young| Kelly Archer| Justin Ebach</td>\n",
              "      <td>lyricist_missing</td>\n",
              "      <td>52.0</td>\n",
              "      <td>Sleep Without You</td>\n",
              "      <td>QM3E21606003</td>\n",
              "      <td>3</td>\n",
              "      <td>2103</td>\n",
              "      <td>2012</td>\n",
              "      <td>1</td>\n",
              "      <td>2</td>\n",
              "      <td>2017</td>\n",
              "      <td>10</td>\n",
              "      <td>5</td>\n",
              "      <td>QM</td>\n",
              "      <td>3E2</td>\n",
              "      <td>2016</td>\n",
              "      <td>0.0</td>\n",
              "      <td>1011.0</td>\n",
              "      <td>0.0</td>\n",
              "      <td>0.0</td>\n",
              "      <td>1.0</td>\n",
              "      <td>0</td>\n",
              "      <td>1</td>\n",
              "      <td>Brett Young</td>\n",
              "      <td>1</td>\n",
              "      <td>lyricist_missing</td>\n",
              "      <td>3</td>\n",
              "      <td>Brett Young</td>\n",
              "    </tr>\n",
              "  </tbody>\n",
              "</table>\n",
              "</div>"
            ],
            "text/plain": [
              "                                           msno  ...                        first_composer\n",
              "0  FGtllVqz18RPiwJj/edr2gV78zirAiY/9SmYvia+kCg=  ...                             Dan Smith\n",
              "1  Xumu+NIjS6QYVxDS4/t3SawvJ7viT9hPKXmf0RtLNx8=  ...                      composer_missing\n",
              "2  Xumu+NIjS6QYVxDS4/t3SawvJ7viT9hPKXmf0RtLNx8=  ...  N. Jones、W. Adams、J. Lordan、D. Ingle\n",
              "3  Xumu+NIjS6QYVxDS4/t3SawvJ7viT9hPKXmf0RtLNx8=  ...                         Kwadwo Donkoh\n",
              "4  FGtllVqz18RPiwJj/edr2gV78zirAiY/9SmYvia+kCg=  ...                           Brett Young\n",
              "\n",
              "[5 rows x 43 columns]"
            ]
          },
          "metadata": {
            "tags": []
          },
          "execution_count": 67
        }
      ]
    },
    {
      "cell_type": "code",
      "metadata": {
        "id": "_P2Z4nV_Qmzk"
      },
      "source": [
        "#https://www.kaggle.com/asmitavikas/feature-engineered-0-68310\n",
        "\n",
        "def song_lang_boolean(x):\n",
        "    '''Function to add language boolean feature'''\n",
        "\n",
        "    if 17.0 == str(x) or 45.0 == str(x):\n",
        "        return 1\n",
        "    else:\n",
        "        return 0\n",
        "    \n",
        "mean_song_length = np.mean(train_split['song_length'])\n",
        "\n",
        "def smaller_song(x):\n",
        "    '''Function to add song_size boolean feature'''\n",
        "    \n",
        "    if x < mean_song_length:\n",
        "        return 1\n",
        "    else:\n",
        "        return 0"
      ],
      "execution_count": null,
      "outputs": []
    },
    {
      "cell_type": "code",
      "metadata": {
        "id": "eeyxrMGZQmrO"
      },
      "source": [
        "def calculate_language_features(df):\n",
        "    df['song_lang_boolean'] = df['language'].apply(song_lang_boolean).astype(np.int8)\n",
        "    df['song_size_boolean'] = df['song_length'].apply(smaller_song).astype(np.int8)\n",
        "    return df"
      ],
      "execution_count": null,
      "outputs": []
    },
    {
      "cell_type": "code",
      "metadata": {
        "id": "VO5cnLESQmkW",
        "colab": {
          "base_uri": "https://localhost:8080/"
        },
        "outputId": "366250ad-1ed7-4ce8-9ce2-8bc7572939af"
      },
      "source": [
        "train_split = calculate_language_features(train_split)\n",
        "val_split = calculate_language_features(val_split)"
      ],
      "execution_count": null,
      "outputs": [
        {
          "output_type": "stream",
          "text": [
            "/usr/local/lib/python3.6/dist-packages/ipykernel_launcher.py:2: SettingWithCopyWarning: \n",
            "A value is trying to be set on a copy of a slice from a DataFrame.\n",
            "Try using .loc[row_indexer,col_indexer] = value instead\n",
            "\n",
            "See the caveats in the documentation: https://pandas.pydata.org/pandas-docs/stable/user_guide/indexing.html#returning-a-view-versus-a-copy\n",
            "  \n",
            "/usr/local/lib/python3.6/dist-packages/ipykernel_launcher.py:3: SettingWithCopyWarning: \n",
            "A value is trying to be set on a copy of a slice from a DataFrame.\n",
            "Try using .loc[row_indexer,col_indexer] = value instead\n",
            "\n",
            "See the caveats in the documentation: https://pandas.pydata.org/pandas-docs/stable/user_guide/indexing.html#returning-a-view-versus-a-copy\n",
            "  This is separate from the ipykernel package so we can avoid doing imports until\n"
          ],
          "name": "stderr"
        }
      ]
    },
    {
      "cell_type": "code",
      "metadata": {
        "colab": {
          "base_uri": "https://localhost:8080/",
          "height": 343
        },
        "id": "fG66CRGKj2b5",
        "outputId": "312c4d39-058e-4e73-9e67-9562e38d1baf"
      },
      "source": [
        "train_split.head()"
      ],
      "execution_count": null,
      "outputs": [
        {
          "output_type": "execute_result",
          "data": {
            "text/html": [
              "<div>\n",
              "<style scoped>\n",
              "    .dataframe tbody tr th:only-of-type {\n",
              "        vertical-align: middle;\n",
              "    }\n",
              "\n",
              "    .dataframe tbody tr th {\n",
              "        vertical-align: top;\n",
              "    }\n",
              "\n",
              "    .dataframe thead th {\n",
              "        text-align: right;\n",
              "    }\n",
              "</style>\n",
              "<table border=\"1\" class=\"dataframe\">\n",
              "  <thead>\n",
              "    <tr style=\"text-align: right;\">\n",
              "      <th></th>\n",
              "      <th>msno</th>\n",
              "      <th>song_id</th>\n",
              "      <th>source_system_tab</th>\n",
              "      <th>source_screen_name</th>\n",
              "      <th>source_type</th>\n",
              "      <th>target</th>\n",
              "      <th>city</th>\n",
              "      <th>bd</th>\n",
              "      <th>gender</th>\n",
              "      <th>registered_via</th>\n",
              "      <th>registration_init_time</th>\n",
              "      <th>expiration_date</th>\n",
              "      <th>song_length</th>\n",
              "      <th>genre_ids</th>\n",
              "      <th>artist_name</th>\n",
              "      <th>composer</th>\n",
              "      <th>lyricist</th>\n",
              "      <th>language</th>\n",
              "      <th>name</th>\n",
              "      <th>isrc</th>\n",
              "      <th>song_duration_minutes</th>\n",
              "      <th>membership_days_left</th>\n",
              "      <th>registration_year</th>\n",
              "      <th>registration_month</th>\n",
              "      <th>registration_day</th>\n",
              "      <th>expiration_year</th>\n",
              "      <th>expiration_month</th>\n",
              "      <th>expiration_day</th>\n",
              "      <th>country_code</th>\n",
              "      <th>registration_code</th>\n",
              "      <th>song_year</th>\n",
              "      <th>isrc_missing</th>\n",
              "      <th>first_genre_id</th>\n",
              "      <th>second_genre_id</th>\n",
              "      <th>third_genre_id</th>\n",
              "      <th>genre_ids_count</th>\n",
              "      <th>is_featured</th>\n",
              "      <th>artist_count</th>\n",
              "      <th>artist_first_name</th>\n",
              "      <th>lyricist_count</th>\n",
              "      <th>first_lyricist</th>\n",
              "      <th>composer_count</th>\n",
              "      <th>first_composer</th>\n",
              "      <th>song_lang_boolean</th>\n",
              "      <th>song_size_boolean</th>\n",
              "    </tr>\n",
              "  </thead>\n",
              "  <tbody>\n",
              "    <tr>\n",
              "      <th>0</th>\n",
              "      <td>FGtllVqz18RPiwJj/edr2gV78zirAiY/9SmYvia+kCg=</td>\n",
              "      <td>BBzumQNXUHKdEBOB7mAJuzok+IJA1c2Ryg/yzTF6tik=</td>\n",
              "      <td>explore</td>\n",
              "      <td>Explore</td>\n",
              "      <td>online-playlist</td>\n",
              "      <td>1</td>\n",
              "      <td>1</td>\n",
              "      <td>17.602686</td>\n",
              "      <td>gender_missing</td>\n",
              "      <td>7</td>\n",
              "      <td>2012-01-02</td>\n",
              "      <td>2017-10-05</td>\n",
              "      <td>206471.0</td>\n",
              "      <td>359</td>\n",
              "      <td>Bastille</td>\n",
              "      <td>Dan Smith| Mark Crew</td>\n",
              "      <td>lyricist_missing</td>\n",
              "      <td>52.0</td>\n",
              "      <td>Good Grief</td>\n",
              "      <td>GBUM71602854</td>\n",
              "      <td>3</td>\n",
              "      <td>2103</td>\n",
              "      <td>2012</td>\n",
              "      <td>1</td>\n",
              "      <td>2</td>\n",
              "      <td>2017</td>\n",
              "      <td>10</td>\n",
              "      <td>5</td>\n",
              "      <td>GB</td>\n",
              "      <td>UM7</td>\n",
              "      <td>2016</td>\n",
              "      <td>0.0</td>\n",
              "      <td>359.0</td>\n",
              "      <td>0.0</td>\n",
              "      <td>0.0</td>\n",
              "      <td>1.0</td>\n",
              "      <td>0</td>\n",
              "      <td>1</td>\n",
              "      <td>Bastille</td>\n",
              "      <td>1</td>\n",
              "      <td>lyricist_missing</td>\n",
              "      <td>2</td>\n",
              "      <td>Dan Smith</td>\n",
              "      <td>0</td>\n",
              "      <td>1</td>\n",
              "    </tr>\n",
              "    <tr>\n",
              "      <th>1</th>\n",
              "      <td>Xumu+NIjS6QYVxDS4/t3SawvJ7viT9hPKXmf0RtLNx8=</td>\n",
              "      <td>bhp/MpSNoqoxOIB+/l8WPqu6jldth4DIpCm3ayXnJqM=</td>\n",
              "      <td>my library</td>\n",
              "      <td>Local playlist more</td>\n",
              "      <td>local-playlist</td>\n",
              "      <td>1</td>\n",
              "      <td>13</td>\n",
              "      <td>24.000000</td>\n",
              "      <td>female</td>\n",
              "      <td>9</td>\n",
              "      <td>2011-05-25</td>\n",
              "      <td>2017-09-11</td>\n",
              "      <td>284584.0</td>\n",
              "      <td>1259</td>\n",
              "      <td>Various Artists</td>\n",
              "      <td>composer_missing</td>\n",
              "      <td>lyricist_missing</td>\n",
              "      <td>52.0</td>\n",
              "      <td>Lords of Cardboard</td>\n",
              "      <td>US3C69910183</td>\n",
              "      <td>5</td>\n",
              "      <td>2301</td>\n",
              "      <td>2011</td>\n",
              "      <td>5</td>\n",
              "      <td>25</td>\n",
              "      <td>2017</td>\n",
              "      <td>9</td>\n",
              "      <td>11</td>\n",
              "      <td>US</td>\n",
              "      <td>3C6</td>\n",
              "      <td>1999</td>\n",
              "      <td>0.0</td>\n",
              "      <td>1259.0</td>\n",
              "      <td>0.0</td>\n",
              "      <td>0.0</td>\n",
              "      <td>1.0</td>\n",
              "      <td>0</td>\n",
              "      <td>1</td>\n",
              "      <td>Various Artists</td>\n",
              "      <td>1</td>\n",
              "      <td>lyricist_missing</td>\n",
              "      <td>1</td>\n",
              "      <td>composer_missing</td>\n",
              "      <td>0</td>\n",
              "      <td>0</td>\n",
              "    </tr>\n",
              "    <tr>\n",
              "      <th>2</th>\n",
              "      <td>Xumu+NIjS6QYVxDS4/t3SawvJ7viT9hPKXmf0RtLNx8=</td>\n",
              "      <td>JNWfrrC7zNN7BdMpsISKa4Mw+xVJYNnxXh3/Epw7QgY=</td>\n",
              "      <td>my library</td>\n",
              "      <td>Local playlist more</td>\n",
              "      <td>local-playlist</td>\n",
              "      <td>1</td>\n",
              "      <td>13</td>\n",
              "      <td>24.000000</td>\n",
              "      <td>female</td>\n",
              "      <td>9</td>\n",
              "      <td>2011-05-25</td>\n",
              "      <td>2017-09-11</td>\n",
              "      <td>225396.0</td>\n",
              "      <td>1259</td>\n",
              "      <td>Nas</td>\n",
              "      <td>N. Jones、W. Adams、J. Lordan、D. Ingle</td>\n",
              "      <td>lyricist_missing</td>\n",
              "      <td>52.0</td>\n",
              "      <td>Hip Hop Is Dead(Album Version (Edited))</td>\n",
              "      <td>USUM70618761</td>\n",
              "      <td>4</td>\n",
              "      <td>2301</td>\n",
              "      <td>2011</td>\n",
              "      <td>5</td>\n",
              "      <td>25</td>\n",
              "      <td>2017</td>\n",
              "      <td>9</td>\n",
              "      <td>11</td>\n",
              "      <td>US</td>\n",
              "      <td>UM7</td>\n",
              "      <td>2006</td>\n",
              "      <td>0.0</td>\n",
              "      <td>1259.0</td>\n",
              "      <td>0.0</td>\n",
              "      <td>0.0</td>\n",
              "      <td>1.0</td>\n",
              "      <td>0</td>\n",
              "      <td>1</td>\n",
              "      <td>Nas</td>\n",
              "      <td>1</td>\n",
              "      <td>lyricist_missing</td>\n",
              "      <td>1</td>\n",
              "      <td>N. Jones、W. Adams、J. Lordan、D. Ingle</td>\n",
              "      <td>0</td>\n",
              "      <td>1</td>\n",
              "    </tr>\n",
              "    <tr>\n",
              "      <th>3</th>\n",
              "      <td>Xumu+NIjS6QYVxDS4/t3SawvJ7viT9hPKXmf0RtLNx8=</td>\n",
              "      <td>2A87tzfnJTSWqD7gIZHisolhe4DMdzkbd6LzO1KHjNs=</td>\n",
              "      <td>my library</td>\n",
              "      <td>Local playlist more</td>\n",
              "      <td>local-playlist</td>\n",
              "      <td>1</td>\n",
              "      <td>13</td>\n",
              "      <td>24.000000</td>\n",
              "      <td>female</td>\n",
              "      <td>9</td>\n",
              "      <td>2011-05-25</td>\n",
              "      <td>2017-09-11</td>\n",
              "      <td>255512.0</td>\n",
              "      <td>1019</td>\n",
              "      <td>Soundway</td>\n",
              "      <td>Kwadwo Donkoh</td>\n",
              "      <td>lyricist_missing</td>\n",
              "      <td>-1.0</td>\n",
              "      <td>Disco Africa</td>\n",
              "      <td>GBUQH1000063</td>\n",
              "      <td>4</td>\n",
              "      <td>2301</td>\n",
              "      <td>2011</td>\n",
              "      <td>5</td>\n",
              "      <td>25</td>\n",
              "      <td>2017</td>\n",
              "      <td>9</td>\n",
              "      <td>11</td>\n",
              "      <td>GB</td>\n",
              "      <td>UQH</td>\n",
              "      <td>2010</td>\n",
              "      <td>0.0</td>\n",
              "      <td>1019.0</td>\n",
              "      <td>0.0</td>\n",
              "      <td>0.0</td>\n",
              "      <td>1.0</td>\n",
              "      <td>0</td>\n",
              "      <td>1</td>\n",
              "      <td>Soundway</td>\n",
              "      <td>1</td>\n",
              "      <td>lyricist_missing</td>\n",
              "      <td>1</td>\n",
              "      <td>Kwadwo Donkoh</td>\n",
              "      <td>0</td>\n",
              "      <td>0</td>\n",
              "    </tr>\n",
              "    <tr>\n",
              "      <th>4</th>\n",
              "      <td>FGtllVqz18RPiwJj/edr2gV78zirAiY/9SmYvia+kCg=</td>\n",
              "      <td>3qm6XTZ6MOCU11x8FIVbAGH5l5uMkT3/ZalWG1oo2Gc=</td>\n",
              "      <td>explore</td>\n",
              "      <td>Explore</td>\n",
              "      <td>online-playlist</td>\n",
              "      <td>1</td>\n",
              "      <td>1</td>\n",
              "      <td>17.602686</td>\n",
              "      <td>gender_missing</td>\n",
              "      <td>7</td>\n",
              "      <td>2012-01-02</td>\n",
              "      <td>2017-10-05</td>\n",
              "      <td>187802.0</td>\n",
              "      <td>1011</td>\n",
              "      <td>Brett Young</td>\n",
              "      <td>Brett Young| Kelly Archer| Justin Ebach</td>\n",
              "      <td>lyricist_missing</td>\n",
              "      <td>52.0</td>\n",
              "      <td>Sleep Without You</td>\n",
              "      <td>QM3E21606003</td>\n",
              "      <td>3</td>\n",
              "      <td>2103</td>\n",
              "      <td>2012</td>\n",
              "      <td>1</td>\n",
              "      <td>2</td>\n",
              "      <td>2017</td>\n",
              "      <td>10</td>\n",
              "      <td>5</td>\n",
              "      <td>QM</td>\n",
              "      <td>3E2</td>\n",
              "      <td>2016</td>\n",
              "      <td>0.0</td>\n",
              "      <td>1011.0</td>\n",
              "      <td>0.0</td>\n",
              "      <td>0.0</td>\n",
              "      <td>1.0</td>\n",
              "      <td>0</td>\n",
              "      <td>1</td>\n",
              "      <td>Brett Young</td>\n",
              "      <td>1</td>\n",
              "      <td>lyricist_missing</td>\n",
              "      <td>3</td>\n",
              "      <td>Brett Young</td>\n",
              "      <td>0</td>\n",
              "      <td>1</td>\n",
              "    </tr>\n",
              "  </tbody>\n",
              "</table>\n",
              "</div>"
            ],
            "text/plain": [
              "                                           msno  ... song_size_boolean\n",
              "0  FGtllVqz18RPiwJj/edr2gV78zirAiY/9SmYvia+kCg=  ...                 1\n",
              "1  Xumu+NIjS6QYVxDS4/t3SawvJ7viT9hPKXmf0RtLNx8=  ...                 0\n",
              "2  Xumu+NIjS6QYVxDS4/t3SawvJ7viT9hPKXmf0RtLNx8=  ...                 1\n",
              "3  Xumu+NIjS6QYVxDS4/t3SawvJ7viT9hPKXmf0RtLNx8=  ...                 0\n",
              "4  FGtllVqz18RPiwJj/edr2gV78zirAiY/9SmYvia+kCg=  ...                 1\n",
              "\n",
              "[5 rows x 45 columns]"
            ]
          },
          "metadata": {
            "tags": []
          },
          "execution_count": 72
        }
      ]
    },
    {
      "cell_type": "code",
      "metadata": {
        "colab": {
          "base_uri": "https://localhost:8080/"
        },
        "id": "0DawRuhOozlG",
        "outputId": "55849156-9a32-43d3-e879-184f892ac980"
      },
      "source": [
        "train_split.shape"
      ],
      "execution_count": null,
      "outputs": [
        {
          "output_type": "execute_result",
          "data": {
            "text/plain": [
              "(5901934, 45)"
            ]
          },
          "metadata": {
            "tags": []
          },
          "execution_count": 73
        }
      ]
    },
    {
      "cell_type": "code",
      "metadata": {
        "colab": {
          "base_uri": "https://localhost:8080/"
        },
        "id": "mJWdIRbrS7Yp",
        "outputId": "5abb0bb2-f575-4de6-830f-eff0b203f503"
      },
      "source": [
        "train_split.columns"
      ],
      "execution_count": null,
      "outputs": [
        {
          "output_type": "execute_result",
          "data": {
            "text/plain": [
              "Index(['msno', 'song_id', 'source_system_tab', 'source_screen_name',\n",
              "       'source_type', 'target', 'city', 'bd', 'gender', 'registered_via',\n",
              "       'registration_init_time', 'expiration_date', 'song_length', 'genre_ids',\n",
              "       'artist_name', 'composer', 'lyricist', 'language', 'name', 'isrc',\n",
              "       'song_duration_minutes', 'membership_days_left', 'registration_year',\n",
              "       'registration_month', 'registration_day', 'expiration_year',\n",
              "       'expiration_month', 'expiration_day', 'country_code',\n",
              "       'registration_code', 'song_year', 'isrc_missing', 'first_genre_id',\n",
              "       'second_genre_id', 'third_genre_id', 'genre_ids_count', 'is_featured',\n",
              "       'artist_count', 'artist_first_name', 'lyricist_count', 'first_lyricist',\n",
              "       'composer_count', 'first_composer', 'song_lang_boolean',\n",
              "       'song_size_boolean'],\n",
              "      dtype='object')"
            ]
          },
          "metadata": {
            "tags": []
          },
          "execution_count": 74
        }
      ]
    },
    {
      "cell_type": "code",
      "metadata": {
        "id": "sEus8kahTDLW"
      },
      "source": [
        "def calculate_groupby_features(df):\n",
        "  '''Function to calculate group by features on dataframe '''\n",
        "  # song count for each user\n",
        "  member_song_count = df.groupby('msno').count()['song_id'].to_dict()\n",
        "  df['member_song_count'] = df['msno'].apply(lambda x: member_song_count[x])\n",
        "\n",
        "  # song count for each artist\n",
        "  artist_song_count = df.groupby('artist_first_name').count()['song_id'].to_dict()\n",
        "  df['artist_song_count'] = df['artist_first_name'].apply(lambda x: artist_song_count[x])\n",
        "\n",
        "  # song count for each composer\n",
        "  composer_song_count = df.groupby('first_composer').count()['song_id'].to_dict()\n",
        "  df['composer_song_count'] = df['first_composer'].apply(lambda x: composer_song_count[x])\n",
        "\n",
        "  # song count for each lyricist\n",
        "  lyricist_song_count = df.groupby('first_lyricist').count()['song_id'].to_dict()\n",
        "  df['lyricist_song_count'] = df['first_lyricist'].apply(lambda x: lyricist_song_count[x])\n",
        "\n",
        "  # song count for each genre_id\n",
        "  first_genre_id_song_count = df.groupby('first_genre_id').count()['song_id'].to_dict()\n",
        "  df['genre_song_count'] = df['first_genre_id'].apply(lambda x: first_genre_id_song_count[x])\n",
        "\n",
        "  # song count for each lanugage\n",
        "  lang_song_count = df.groupby('language').count()['song_id'].to_dict()\n",
        "  df['lang_song_count'] = df['language'].apply(lambda x: lang_song_count[x])\n",
        "\n",
        "  # user count for each song\n",
        "  song_member_count = df.groupby('song_id').count()['msno'].to_dict()\n",
        "  df['song_member_count'] = df['song_id'].apply(lambda x: song_member_count[x])\n",
        "\n",
        "  # We can add group by  wrt 'age'\n",
        "  age_song_count = df.groupby('bd').count()['song_id'].to_dict()\n",
        "  df['age_song_count'] = df['bd'].apply(lambda x: age_song_count[x])\n",
        " \n",
        "  return df"
      ],
      "execution_count": null,
      "outputs": []
    },
    {
      "cell_type": "code",
      "metadata": {
        "colab": {
          "base_uri": "https://localhost:8080/"
        },
        "id": "T8-bCP2JmGID",
        "outputId": "6ef62975-b8e9-4b86-fb7b-94c843ba6732"
      },
      "source": [
        "train_split.isnull().sum()"
      ],
      "execution_count": null,
      "outputs": [
        {
          "output_type": "execute_result",
          "data": {
            "text/plain": [
              "msno                         0\n",
              "song_id                      0\n",
              "source_system_tab            0\n",
              "source_screen_name           0\n",
              "source_type                  0\n",
              "target                       0\n",
              "city                         0\n",
              "bd                           0\n",
              "gender                       0\n",
              "registered_via               0\n",
              "registration_init_time       0\n",
              "expiration_date              0\n",
              "song_length                  0\n",
              "genre_ids                    0\n",
              "artist_name                  0\n",
              "composer                     0\n",
              "lyricist                     0\n",
              "language                  1049\n",
              "name                         0\n",
              "isrc                         0\n",
              "song_duration_minutes        0\n",
              "membership_days_left         0\n",
              "registration_year            0\n",
              "registration_month           0\n",
              "registration_day             0\n",
              "expiration_year              0\n",
              "expiration_month             0\n",
              "expiration_day               0\n",
              "country_code                 0\n",
              "registration_code            0\n",
              "song_year                    0\n",
              "isrc_missing                 0\n",
              "first_genre_id               0\n",
              "second_genre_id              0\n",
              "third_genre_id               0\n",
              "genre_ids_count              0\n",
              "is_featured                  0\n",
              "artist_count                 0\n",
              "artist_first_name            0\n",
              "lyricist_count               0\n",
              "first_lyricist               0\n",
              "composer_count               0\n",
              "first_composer               0\n",
              "song_lang_boolean            0\n",
              "song_size_boolean            0\n",
              "dtype: int64"
            ]
          },
          "metadata": {
            "tags": []
          },
          "execution_count": 76
        }
      ]
    },
    {
      "cell_type": "code",
      "metadata": {
        "colab": {
          "base_uri": "https://localhost:8080/"
        },
        "id": "N3vQR5QabZfV",
        "outputId": "a9412b58-e314-4865-e8d6-77ec0b365e3e"
      },
      "source": [
        "train_split['language'].replace(np.nan, train_split['language'].median())\n",
        "val_split['language'].replace(np.nan, val_split['language'].median())"
      ],
      "execution_count": null,
      "outputs": [
        {
          "output_type": "execute_result",
          "data": {
            "text/plain": [
              "5901934     3.0\n",
              "5901935     3.0\n",
              "5901936    52.0\n",
              "5901937    52.0\n",
              "5901938     3.0\n",
              "           ... \n",
              "7377413    52.0\n",
              "7377414    52.0\n",
              "7377415     3.0\n",
              "7377416    52.0\n",
              "7377417    52.0\n",
              "Name: language, Length: 1475484, dtype: float64"
            ]
          },
          "metadata": {
            "tags": []
          },
          "execution_count": 77
        }
      ]
    },
    {
      "cell_type": "code",
      "metadata": {
        "colab": {
          "base_uri": "https://localhost:8080/"
        },
        "id": "aTG4EybWbmCf",
        "outputId": "c6ee6325-a7f1-498a-a144-d39cc3893f79"
      },
      "source": [
        "train_split['language'].isnull().sum()"
      ],
      "execution_count": null,
      "outputs": [
        {
          "output_type": "execute_result",
          "data": {
            "text/plain": [
              "1049"
            ]
          },
          "metadata": {
            "tags": []
          },
          "execution_count": 79
        }
      ]
    },
    {
      "cell_type": "code",
      "metadata": {
        "id": "rII39mq9d4a_",
        "colab": {
          "base_uri": "https://localhost:8080/"
        },
        "outputId": "55ada7f7-84e9-4515-da64-2d5e6888f59f"
      },
      "source": [
        "train_split['language'].fillna('no_language', inplace=True)\n",
        "val_split['language'].fillna('no_language', inplace=True)"
      ],
      "execution_count": null,
      "outputs": [
        {
          "output_type": "stream",
          "text": [
            "/usr/local/lib/python3.6/dist-packages/pandas/core/series.py:4536: SettingWithCopyWarning: \n",
            "A value is trying to be set on a copy of a slice from a DataFrame\n",
            "\n",
            "See the caveats in the documentation: https://pandas.pydata.org/pandas-docs/stable/user_guide/indexing.html#returning-a-view-versus-a-copy\n",
            "  downcast=downcast,\n"
          ],
          "name": "stderr"
        }
      ]
    },
    {
      "cell_type": "code",
      "metadata": {
        "colab": {
          "base_uri": "https://localhost:8080/"
        },
        "id": "XPhmSlQZmS1X",
        "outputId": "f62308ac-e446-4705-da1a-a35a6f9cbd47"
      },
      "source": [
        "train_split['language'].isnull().sum()"
      ],
      "execution_count": null,
      "outputs": [
        {
          "output_type": "execute_result",
          "data": {
            "text/plain": [
              "0"
            ]
          },
          "metadata": {
            "tags": []
          },
          "execution_count": 81
        }
      ]
    },
    {
      "cell_type": "code",
      "metadata": {
        "id": "vTXh4fq5aMeM",
        "colab": {
          "base_uri": "https://localhost:8080/"
        },
        "outputId": "e1b2f819-ed7a-476d-8857-dd01f098882f"
      },
      "source": [
        "train_split = calculate_groupby_features(train_split)\n",
        "val_split = calculate_groupby_features(val_split)"
      ],
      "execution_count": null,
      "outputs": [
        {
          "output_type": "stream",
          "text": [
            "/usr/local/lib/python3.6/dist-packages/ipykernel_launcher.py:5: SettingWithCopyWarning: \n",
            "A value is trying to be set on a copy of a slice from a DataFrame.\n",
            "Try using .loc[row_indexer,col_indexer] = value instead\n",
            "\n",
            "See the caveats in the documentation: https://pandas.pydata.org/pandas-docs/stable/user_guide/indexing.html#returning-a-view-versus-a-copy\n",
            "  \"\"\"\n",
            "/usr/local/lib/python3.6/dist-packages/ipykernel_launcher.py:9: SettingWithCopyWarning: \n",
            "A value is trying to be set on a copy of a slice from a DataFrame.\n",
            "Try using .loc[row_indexer,col_indexer] = value instead\n",
            "\n",
            "See the caveats in the documentation: https://pandas.pydata.org/pandas-docs/stable/user_guide/indexing.html#returning-a-view-versus-a-copy\n",
            "  if __name__ == '__main__':\n",
            "/usr/local/lib/python3.6/dist-packages/ipykernel_launcher.py:13: SettingWithCopyWarning: \n",
            "A value is trying to be set on a copy of a slice from a DataFrame.\n",
            "Try using .loc[row_indexer,col_indexer] = value instead\n",
            "\n",
            "See the caveats in the documentation: https://pandas.pydata.org/pandas-docs/stable/user_guide/indexing.html#returning-a-view-versus-a-copy\n",
            "  del sys.path[0]\n",
            "/usr/local/lib/python3.6/dist-packages/ipykernel_launcher.py:17: SettingWithCopyWarning: \n",
            "A value is trying to be set on a copy of a slice from a DataFrame.\n",
            "Try using .loc[row_indexer,col_indexer] = value instead\n",
            "\n",
            "See the caveats in the documentation: https://pandas.pydata.org/pandas-docs/stable/user_guide/indexing.html#returning-a-view-versus-a-copy\n",
            "/usr/local/lib/python3.6/dist-packages/ipykernel_launcher.py:21: SettingWithCopyWarning: \n",
            "A value is trying to be set on a copy of a slice from a DataFrame.\n",
            "Try using .loc[row_indexer,col_indexer] = value instead\n",
            "\n",
            "See the caveats in the documentation: https://pandas.pydata.org/pandas-docs/stable/user_guide/indexing.html#returning-a-view-versus-a-copy\n",
            "/usr/local/lib/python3.6/dist-packages/ipykernel_launcher.py:25: SettingWithCopyWarning: \n",
            "A value is trying to be set on a copy of a slice from a DataFrame.\n",
            "Try using .loc[row_indexer,col_indexer] = value instead\n",
            "\n",
            "See the caveats in the documentation: https://pandas.pydata.org/pandas-docs/stable/user_guide/indexing.html#returning-a-view-versus-a-copy\n",
            "/usr/local/lib/python3.6/dist-packages/ipykernel_launcher.py:29: SettingWithCopyWarning: \n",
            "A value is trying to be set on a copy of a slice from a DataFrame.\n",
            "Try using .loc[row_indexer,col_indexer] = value instead\n",
            "\n",
            "See the caveats in the documentation: https://pandas.pydata.org/pandas-docs/stable/user_guide/indexing.html#returning-a-view-versus-a-copy\n",
            "/usr/local/lib/python3.6/dist-packages/ipykernel_launcher.py:33: SettingWithCopyWarning: \n",
            "A value is trying to be set on a copy of a slice from a DataFrame.\n",
            "Try using .loc[row_indexer,col_indexer] = value instead\n",
            "\n",
            "See the caveats in the documentation: https://pandas.pydata.org/pandas-docs/stable/user_guide/indexing.html#returning-a-view-versus-a-copy\n"
          ],
          "name": "stderr"
        }
      ]
    },
    {
      "cell_type": "code",
      "metadata": {
        "colab": {
          "base_uri": "https://localhost:8080/"
        },
        "id": "Uh47ksu2muIM",
        "outputId": "55df9cc6-9124-418e-dd1f-c5d0ee701e61"
      },
      "source": [
        "train_split.shape"
      ],
      "execution_count": null,
      "outputs": [
        {
          "output_type": "execute_result",
          "data": {
            "text/plain": [
              "(5901934, 53)"
            ]
          },
          "metadata": {
            "tags": []
          },
          "execution_count": 83
        }
      ]
    },
    {
      "cell_type": "code",
      "metadata": {
        "colab": {
          "base_uri": "https://localhost:8080/"
        },
        "id": "tJND6Z6Vmu9l",
        "outputId": "53e9a4d9-0897-487a-a8de-cde3a1c248cb"
      },
      "source": [
        "train_split.columns"
      ],
      "execution_count": null,
      "outputs": [
        {
          "output_type": "execute_result",
          "data": {
            "text/plain": [
              "Index(['msno', 'song_id', 'source_system_tab', 'source_screen_name',\n",
              "       'source_type', 'target', 'city', 'bd', 'gender', 'registered_via',\n",
              "       'registration_init_time', 'expiration_date', 'song_length', 'genre_ids',\n",
              "       'artist_name', 'composer', 'lyricist', 'language', 'name', 'isrc',\n",
              "       'song_duration_minutes', 'membership_days_left', 'registration_year',\n",
              "       'registration_month', 'registration_day', 'expiration_year',\n",
              "       'expiration_month', 'expiration_day', 'country_code',\n",
              "       'registration_code', 'song_year', 'isrc_missing', 'first_genre_id',\n",
              "       'second_genre_id', 'third_genre_id', 'genre_ids_count', 'is_featured',\n",
              "       'artist_count', 'artist_first_name', 'lyricist_count', 'first_lyricist',\n",
              "       'composer_count', 'first_composer', 'song_lang_boolean',\n",
              "       'song_size_boolean', 'member_song_count', 'artist_song_count',\n",
              "       'composer_song_count', 'lyricist_song_count', 'genre_song_count',\n",
              "       'lang_song_count', 'song_member_count', 'age_song_count'],\n",
              "      dtype='object')"
            ]
          },
          "metadata": {
            "tags": []
          },
          "execution_count": 84
        }
      ]
    },
    {
      "cell_type": "code",
      "metadata": {
        "colab": {
          "base_uri": "https://localhost:8080/"
        },
        "id": "SEAwb5rYl_Dl",
        "outputId": "d0f0eb9d-06e9-45e2-f75b-e78e76727852"
      },
      "source": [
        "train_split.isnull().any()"
      ],
      "execution_count": null,
      "outputs": [
        {
          "output_type": "execute_result",
          "data": {
            "text/plain": [
              "msno                      False\n",
              "song_id                   False\n",
              "source_system_tab         False\n",
              "source_screen_name        False\n",
              "source_type               False\n",
              "target                    False\n",
              "city                      False\n",
              "bd                        False\n",
              "gender                    False\n",
              "registered_via            False\n",
              "registration_init_time    False\n",
              "expiration_date           False\n",
              "song_length               False\n",
              "genre_ids                 False\n",
              "artist_name               False\n",
              "composer                  False\n",
              "lyricist                  False\n",
              "language                  False\n",
              "name                      False\n",
              "isrc                      False\n",
              "song_duration_minutes     False\n",
              "membership_days_left      False\n",
              "registration_year         False\n",
              "registration_month        False\n",
              "registration_day          False\n",
              "expiration_year           False\n",
              "expiration_month          False\n",
              "expiration_day            False\n",
              "country_code              False\n",
              "registration_code         False\n",
              "song_year                 False\n",
              "isrc_missing              False\n",
              "first_genre_id            False\n",
              "second_genre_id           False\n",
              "third_genre_id            False\n",
              "genre_ids_count           False\n",
              "is_featured               False\n",
              "artist_count              False\n",
              "artist_first_name         False\n",
              "lyricist_count            False\n",
              "first_lyricist            False\n",
              "composer_count            False\n",
              "first_composer            False\n",
              "song_lang_boolean         False\n",
              "song_size_boolean         False\n",
              "member_song_count         False\n",
              "artist_song_count         False\n",
              "composer_song_count       False\n",
              "lyricist_song_count       False\n",
              "genre_song_count          False\n",
              "lang_song_count           False\n",
              "song_member_count         False\n",
              "age_song_count            False\n",
              "dtype: bool"
            ]
          },
          "metadata": {
            "tags": []
          },
          "execution_count": 85
        }
      ]
    },
    {
      "cell_type": "code",
      "metadata": {
        "colab": {
          "base_uri": "https://localhost:8080/"
        },
        "id": "veaE_EAtatua",
        "outputId": "abca3473-414f-4575-e8ac-0381aa49e6f3"
      },
      "source": [
        "train_split.to_csv('train_split_fe.csv')\n",
        "!cp train_split_fe.csv \"/content/gdrive/My Drive/Kaggle_KKBoxMusic\"\n",
        "\n",
        "val_split.to_csv('val_split_fe.csv')\n",
        "!cp val_split_fe.csv \"/content/gdrive/My Drive/Kaggle_KKBoxMusic\"\n",
        "\n",
        "print(\"Uploading Completed!\")"
      ],
      "execution_count": null,
      "outputs": [
        {
          "output_type": "stream",
          "text": [
            "cp: 'train_split_fe.csv' and '/content/gdrive/My Drive/Kaggle_KKBoxMusic/train_split_fe.csv' are the same file\n",
            "cp: 'val_split_fe.csv' and '/content/gdrive/My Drive/Kaggle_KKBoxMusic/val_split_fe.csv' are the same file\n",
            "Uploading Completed!\n"
          ],
          "name": "stdout"
        }
      ]
    },
    {
      "cell_type": "markdown",
      "metadata": {
        "id": "lK6hTYCSLzkw"
      },
      "source": [
        "### 4.2 Final Feature Engineering & Handling Missing Values"
      ]
    },
    {
      "cell_type": "code",
      "metadata": {
        "id": "NqlyCYxdNU8u"
      },
      "source": [
        "# importing necessary libraries\r\n",
        "import time\r\n",
        "import numpy as np\r\n",
        "import pandas as pd\r\n",
        "import os\r\n",
        "from sklearn.preprocessing import LabelEncoder\r\n",
        "from scipy import sparse\r\n",
        "from scipy.sparse.linalg import svds\r\n",
        "from collections import defaultdict"
      ],
      "execution_count": null,
      "outputs": []
    },
    {
      "cell_type": "code",
      "metadata": {
        "colab": {
          "base_uri": "https://localhost:8080/"
        },
        "id": "5_HOH8HxzVzD",
        "outputId": "d5f22b82-c272-404c-e69f-5a9ac89e5dbb"
      },
      "source": [
        "from google.colab import drive\n",
        "drive.mount('/content/gdrive')"
      ],
      "execution_count": null,
      "outputs": [
        {
          "output_type": "stream",
          "text": [
            "Drive already mounted at /content/gdrive; to attempt to forcibly remount, call drive.mount(\"/content/gdrive\", force_remount=True).\n"
          ],
          "name": "stdout"
        }
      ]
    },
    {
      "cell_type": "code",
      "metadata": {
        "colab": {
          "base_uri": "https://localhost:8080/"
        },
        "id": "pGm-NI0D0Fkf",
        "outputId": "c9986980-d5d4-4ab7-ac74-49f8342c8d65"
      },
      "source": [
        "%cd /content/gdrive/My Drive/KKBox_MusicRecommendation/source_data"
      ],
      "execution_count": null,
      "outputs": [
        {
          "output_type": "stream",
          "text": [
            "/content/gdrive/My Drive/KKBox_MusicRecommendation/source_data\n"
          ],
          "name": "stdout"
        }
      ]
    },
    {
      "cell_type": "code",
      "metadata": {
        "colab": {
          "base_uri": "https://localhost:8080/"
        },
        "id": "-igjkE5I0GN7",
        "outputId": "0a92b98f-e3c6-4d67-aa67-917eb9ac5fa4"
      },
      "source": [
        "!pwd"
      ],
      "execution_count": null,
      "outputs": [
        {
          "output_type": "stream",
          "text": [
            "/content/gdrive/My Drive/KKBox_MusicRecommendation/source_data\n"
          ],
          "name": "stdout"
        }
      ]
    },
    {
      "cell_type": "code",
      "metadata": {
        "colab": {
          "base_uri": "https://localhost:8080/",
          "height": 35
        },
        "id": "Ih7PEVNQ8lZ9",
        "outputId": "7fcb4402-04b7-42f3-d41d-fb039fba95ec"
      },
      "source": [
        "import os\n",
        "os.getcwd()"
      ],
      "execution_count": null,
      "outputs": [
        {
          "output_type": "execute_result",
          "data": {
            "application/vnd.google.colaboratory.intrinsic+json": {
              "type": "string"
            },
            "text/plain": [
              "'/content/gdrive/My Drive/KKBox_MusicRecommendation/source_data'"
            ]
          },
          "metadata": {
            "tags": []
          },
          "execution_count": 6
        }
      ]
    },
    {
      "cell_type": "code",
      "metadata": {
        "colab": {
          "base_uri": "https://localhost:8080/"
        },
        "id": "GNwwzMgT0Izl",
        "outputId": "d89a1b01-0253-4254-a970-ea50358823bf"
      },
      "source": [
        "!ls"
      ],
      "execution_count": null,
      "outputs": [
        {
          "output_type": "stream",
          "text": [
            "kaggle.json  members.csv  song_extra_info.csv  songs.csv  test.csv  train.csv\n"
          ],
          "name": "stdout"
        }
      ]
    },
    {
      "cell_type": "code",
      "metadata": {
        "id": "kwulP0FrPOjf"
      },
      "source": [
        "## load the data\r\n",
        "members = pd.read_csv('../source_data/members.csv')\r\n",
        "songs = pd.read_csv('../source_data/songs.csv')\r\n",
        "songs_extra = pd.read_csv('../source_data/song_extra_info.csv')\r\n",
        "train = pd.read_csv('../source_data/train.csv')\r\n",
        "test = pd.read_csv('../source_data/test.csv')"
      ],
      "execution_count": null,
      "outputs": []
    },
    {
      "cell_type": "code",
      "metadata": {
        "colab": {
          "base_uri": "https://localhost:8080/"
        },
        "id": "T4jr9SFSTsKC",
        "outputId": "044dd4fe-9a4a-4626-a519-051fbe4e2cf9"
      },
      "source": [
        "print(\"Shapes of dataframes:\\n\")\r\n",
        "\r\n",
        "print(\"train: \", train.shape)\r\n",
        "print(\"members: \", members.shape)\r\n",
        "print(\"songs: \", songs.shape)\r\n",
        "print(\"songs_extra: \", songs_extra.shape)\r\n",
        "print(\"test: \", test.shape)"
      ],
      "execution_count": null,
      "outputs": [
        {
          "output_type": "stream",
          "text": [
            "Shapes of dataframes:\n",
            "\n",
            "train:  (7377418, 6)\n",
            "members:  (34403, 7)\n",
            "songs:  (2296320, 7)\n",
            "songs_extra:  (2295971, 3)\n",
            "test:  (2556790, 6)\n"
          ],
          "name": "stdout"
        }
      ]
    },
    {
      "cell_type": "code",
      "metadata": {
        "colab": {
          "base_uri": "https://localhost:8080/"
        },
        "id": "K8Qd0F5UUYjJ",
        "outputId": "e09264d4-c3f9-4097-c635-8500092371b4"
      },
      "source": [
        "print(\"train: \", train.columns)\r\n",
        "print(\"\\nmembers: \", members.columns)\r\n",
        "print(\"\\nsongs: \", songs.columns)\r\n",
        "print(\"\\nsongs_extra: \", songs_extra.columns)\r\n",
        "print(\"\\ntest: \", test.columns)"
      ],
      "execution_count": null,
      "outputs": [
        {
          "output_type": "stream",
          "text": [
            "train:  Index(['msno', 'song_id', 'source_system_tab', 'source_screen_name',\n",
            "       'source_type', 'target'],\n",
            "      dtype='object')\n",
            "\n",
            "members:  Index(['msno', 'city', 'bd', 'gender', 'registered_via',\n",
            "       'registration_init_time', 'expiration_date'],\n",
            "      dtype='object')\n",
            "\n",
            "songs:  Index(['song_id', 'song_length', 'genre_ids', 'artist_name', 'composer',\n",
            "       'lyricist', 'language'],\n",
            "      dtype='object')\n",
            "\n",
            "songs_extra:  Index(['song_id', 'name', 'isrc'], dtype='object')\n",
            "\n",
            "test:  Index(['id', 'msno', 'song_id', 'source_system_tab', 'source_screen_name',\n",
            "       'source_type'],\n",
            "      dtype='object')\n"
          ],
          "name": "stdout"
        }
      ]
    },
    {
      "cell_type": "code",
      "metadata": {
        "colab": {
          "base_uri": "https://localhost:8080/"
        },
        "id": "bkUKySQ5PVJf",
        "outputId": "e536dcfc-baa8-4fd3-ea8a-e6a40ddf9e09"
      },
      "source": [
        "# taking all given songs in a set\r\n",
        "song_ids_set = set(train['song_id'].append(test['song_id']))\r\n",
        "\r\n",
        "# putting the appeared songs in songs dataframe\r\n",
        "songs['appeared'] = songs['song_id'].apply(lambda x: True if x in song_ids_set else False)\r\n",
        "songs = songs[songs.appeared]\r\n",
        "songs.drop('appeared', axis=1, inplace=True)\r\n",
        "\r\n",
        "# putting the appeared songs in songs dataframe\r\n",
        "songs_extra['appeared'] = songs_extra['song_id'].apply(lambda x: True if x in song_ids_set else False)\r\n",
        "songs_extra = songs_extra[songs_extra.appeared]\r\n",
        "songs_extra.drop('appeared', axis=1, inplace=True)\r\n",
        "\r\n",
        "# taking all given msno in a set\r\n",
        "msno_set = set(train['msno'].append(test['msno']))\r\n",
        "\r\n",
        "# putting the appeared songs in members dataframe\r\n",
        "members['appeared'] = members['msno'].apply(lambda x: True if x in msno_set else False)\r\n",
        "members = members[members.appeared]\r\n",
        "members.drop('appeared', axis=1, inplace=True)\r\n",
        "\r\n",
        "print('Data loaded.')"
      ],
      "execution_count": null,
      "outputs": [
        {
          "output_type": "stream",
          "text": [
            "Data loaded.\n"
          ],
          "name": "stdout"
        }
      ]
    },
    {
      "cell_type": "code",
      "metadata": {
        "colab": {
          "base_uri": "https://localhost:8080/"
        },
        "id": "AQqZctILPcfg",
        "outputId": "7346c48a-4166-4d1d-dfbf-bf70c54a03bc"
      },
      "source": [
        "## preprocess msno and song_id\r\n",
        "msno_enc = LabelEncoder()\r\n",
        "msno_enc.fit(members['msno'].values)\r\n",
        "members['msno'] = msno_enc.transform(members['msno'])\r\n",
        "train['msno'] = msno_enc.transform(train['msno'])\r\n",
        "test['msno'] = msno_enc.transform(test['msno'])\r\n",
        "\r\n",
        "print('MSNO done.')\r\n",
        "\r\n",
        "song_id_enc = LabelEncoder()\r\n",
        "song_id_enc.fit(train['song_id'].append(test['song_id']))\r\n",
        "songs['song_id'] = song_id_enc.transform(songs['song_id'])\r\n",
        "songs_extra['song_id'] = song_id_enc.transform(songs_extra['song_id'])\r\n",
        "train['song_id'] = song_id_enc.transform(train['song_id'])\r\n",
        "test['song_id'] = song_id_enc.transform(test['song_id'])\r\n",
        "\r\n",
        "print('Song_id done.')\r\n",
        "\r\n",
        "## preprocess the features in train.csv & test.csv\r\n",
        "columns = ['source_system_tab', 'source_screen_name', 'source_type']\r\n",
        "for column in columns:\r\n",
        "    column_enc = LabelEncoder()\r\n",
        "    column_enc.fit((train[column].fillna('0')).append(test[column]).fillna('0'))\r\n",
        "    train[column] = column_enc.transform(train[column].fillna('0'))\r\n",
        "    test[column] = column_enc.transform(test[column].fillna('0'))\r\n",
        "\r\n",
        "print('Source information done.')\r\n",
        "\r\n",
        "## preprocess the features in members.csv\r\n",
        "columns = ['city', 'gender', 'registered_via']\r\n",
        "for column in columns:\r\n",
        "    column_enc = LabelEncoder()\r\n",
        "    column_enc.fit(members[column].fillna('0'))\r\n",
        "    members[column] = column_enc.transform(members[column].fillna('0'))\r\n",
        "\r\n",
        "members['registration_init_time'] = members['registration_init_time'].apply(lambda x: \\\r\n",
        "        time.mktime(time.strptime(str(x),'%Y%m%d')))\r\n",
        "members['expiration_date'] = members['expiration_date'].apply(lambda x: \\\r\n",
        "        time.mktime(time.strptime(str(x),'%Y%m%d')))\r\n",
        "\r\n",
        "print('Members information done.')"
      ],
      "execution_count": null,
      "outputs": [
        {
          "output_type": "stream",
          "text": [
            "MSNO done.\n",
            "Song_id done.\n",
            "Source information done.\n",
            "Members information done.\n"
          ],
          "name": "stdout"
        }
      ]
    },
    {
      "cell_type": "code",
      "metadata": {
        "id": "KlJQM4NIPi7O"
      },
      "source": [
        "# as we have seen in the exploratory data analysis, a lot of songs have\r\n",
        "# multiple genres\r\n",
        "\r\n",
        "genre_id = np.zeros((len(songs), 4))\r\n",
        "for i in range(len(songs)):\r\n",
        "    if not isinstance(songs['genre_ids'].values[i], str):\r\n",
        "        continue\r\n",
        "    ids = str(songs['genre_ids'].values[i]).split('|')\r\n",
        "    if len(ids) > 2:\r\n",
        "        genre_id[i, 0] = int(ids[0])\r\n",
        "        genre_id[i, 1] = int(ids[1])\r\n",
        "        genre_id[i, 2] = int(ids[2])\r\n",
        "    elif len(ids) > 1:\r\n",
        "        genre_id[i, 0] = int(ids[0])\r\n",
        "        genre_id[i, 1] = int(ids[1])\r\n",
        "    elif len(ids) == 1:\r\n",
        "        genre_id[i, 0] = int(ids[0])\r\n",
        "    genre_id[i, 3] = len(ids)\r\n",
        "songs['first_genre_id'] = genre_id[:, 0]\r\n",
        "songs['second_genre_id'] = genre_id[:, 1]\r\n",
        "songs['third_genre_id'] = genre_id[:, 2]\r\n",
        "songs['genre_id_cnt'] = genre_id[:, 3]\r\n",
        "\r\n",
        "genre_enc = LabelEncoder()\r\n",
        "genre_enc.fit((songs.first_genre_id.append(songs.second_genre_id)).append(songs.third_genre_id))\r\n",
        "songs['first_genre_id'] = genre_enc.transform(songs['first_genre_id'])\r\n",
        "songs['second_genre_id'] = genre_enc.transform(songs['second_genre_id'])\r\n",
        "songs['third_genre_id'] = genre_enc.transform(songs['third_genre_id'])\r\n",
        "songs.drop('genre_ids', axis=1, inplace=True)"
      ],
      "execution_count": null,
      "outputs": []
    },
    {
      "cell_type": "code",
      "metadata": {
        "id": "nSAKj792PrKA"
      },
      "source": [
        "# as seen in explorarory data analysis, some features have multiple values\r\n",
        "# split by 'and', ',', 'feat' or '&'\r\n",
        "# Thus, extracting those values\r\n",
        "\r\n",
        "def artist_count(x):\r\n",
        "    return x.count('and') + x.count(',') + x.count(' feat') + x.count('&') + 1"
      ],
      "execution_count": null,
      "outputs": []
    },
    {
      "cell_type": "code",
      "metadata": {
        "id": "DV07jHseQPLX"
      },
      "source": [
        "songs['artist_cnt'] = songs['artist_name'].apply(artist_count).astype(np.int8)"
      ],
      "execution_count": null,
      "outputs": []
    },
    {
      "cell_type": "code",
      "metadata": {
        "id": "9krjMTFrPr1y"
      },
      "source": [
        "# as seen in explorarory data analysis, some features have multiple values\r\n",
        "# split by '|', '/', '\\\\' or ';'\r\n",
        "# Thus, extracting those values\r\n",
        "\r\n",
        "def get_count(x):\r\n",
        "    try:\r\n",
        "        return sum(map(x.count, ['|', '/', '\\\\', ';'])) + 1\r\n",
        "    except:\r\n",
        "        return 0"
      ],
      "execution_count": null,
      "outputs": []
    },
    {
      "cell_type": "code",
      "metadata": {
        "id": "Seds848OQRCc"
      },
      "source": [
        "songs['lyricist_cnt'] = songs['lyricist'].apply(get_count).astype(np.int8)\r\n",
        "songs['composer_cnt'] = songs['composer'].apply(get_count).astype(np.int8)"
      ],
      "execution_count": null,
      "outputs": []
    },
    {
      "cell_type": "code",
      "metadata": {
        "id": "LQTDh-tuQR7x"
      },
      "source": [
        "songs['is_featured'] = songs['artist_name'].apply(lambda x: 1 if ' feat' \\\r\n",
        "        in str(x) else 0).astype(np.int8)"
      ],
      "execution_count": null,
      "outputs": []
    },
    {
      "cell_type": "code",
      "metadata": {
        "id": "aUesLSQCQX_Q"
      },
      "source": [
        "# as seen in explorarory data analysis, some features have multiple values\r\n",
        "# split by '|', '/', '\\\\' or ';'\r\n",
        "# Thus, extracting those values\r\n",
        "\r\n",
        "def get_first_artist(x):\r\n",
        "    # split by 'and'\r\n",
        "    if x.count('and') > 0:\r\n",
        "        x = x.split('and')[0]\r\n",
        "    # split by ','\r\n",
        "    if x.count(',') > 0:\r\n",
        "        x = x.split(',')[0]\r\n",
        "    # split by 'feat'\r\n",
        "    if x.count(' feat') > 0:\r\n",
        "        x = x.split(' feat')[0]\r\n",
        "    # split by '&'\r\n",
        "    if x.count('&') > 0:\r\n",
        "        x = x.split('&')[0]\r\n",
        "    return x.strip()"
      ],
      "execution_count": null,
      "outputs": []
    },
    {
      "cell_type": "code",
      "metadata": {
        "id": "drxUZ9UyQcKN"
      },
      "source": [
        "songs['artist_name'] = songs['artist_name'].apply(get_first_artist)"
      ],
      "execution_count": null,
      "outputs": []
    },
    {
      "cell_type": "code",
      "metadata": {
        "id": "KMnKivPOQcsO"
      },
      "source": [
        "# as seen in explorarory data analysis, some features have multiple values\r\n",
        "# split by '|', '/', '\\\\' or ';'\r\n",
        "# Thus, extracting those values\r\n",
        "\r\n",
        "def get_first_term(x):\r\n",
        "    try:\r\n",
        "        # split by '|'\r\n",
        "        if x.count('|') > 0:\r\n",
        "            x = x.split('|')[0]\r\n",
        "        # split by '/'\r\n",
        "        if x.count('/') > 0:\r\n",
        "            x = x.split('/')[0]\r\n",
        "        # split by '\\\\'\r\n",
        "        if x.count('\\\\') > 0:\r\n",
        "            x = x.split('\\\\')[0]\r\n",
        "        # split by ';'\r\n",
        "        if x.count(';') > 0:\r\n",
        "            x = x.split(';')[0]\r\n",
        "        return x.strip()\r\n",
        "    except:\r\n",
        "        return x"
      ],
      "execution_count": null,
      "outputs": []
    },
    {
      "cell_type": "code",
      "metadata": {
        "id": "d7JPB_NGQf-p"
      },
      "source": [
        "songs['lyricist'] = songs['lyricist'].apply(get_first_term)\r\n",
        "songs['composer'] = songs['composer'].apply(get_first_term) "
      ],
      "execution_count": null,
      "outputs": []
    },
    {
      "cell_type": "code",
      "metadata": {
        "id": "D1j02U08QiO_"
      },
      "source": [
        "songs['language'] = songs['language'].fillna(-1)\r\n",
        "columns = ['artist_name', 'lyricist', 'composer', 'language']\r\n",
        "for column in columns:\r\n",
        "    column_enc = LabelEncoder()\r\n",
        "    column_enc.fit(songs[column].fillna('0'))\r\n",
        "    songs[column] = column_enc.transform(songs[column].fillna('0'))"
      ],
      "execution_count": null,
      "outputs": []
    },
    {
      "cell_type": "code",
      "metadata": {
        "id": "7cKHSpxpU9Rg",
        "colab": {
          "base_uri": "https://localhost:8080/"
        },
        "outputId": "227cd1f3-5675-46e0-821a-856c944ae996"
      },
      "source": [
        "%cd /content/gdrive/My Drive/KKBox_MusicRecommendation/temporal_data"
      ],
      "execution_count": null,
      "outputs": [
        {
          "output_type": "stream",
          "text": [
            "/content/gdrive/My Drive/KKBox_MusicRecommendation/temporal_data\n"
          ],
          "name": "stdout"
        }
      ]
    },
    {
      "cell_type": "code",
      "metadata": {
        "id": "mcMJSDq1HKWr"
      },
      "source": [
        "## save files\r\n",
        "members.to_csv('../temporal_data/members_id.csv', index=False)\r\n",
        "songs.to_csv('../temporal_data/songs_id.csv', index=False)\r\n",
        "songs_extra.to_csv('../temporal_data/songs_extra_id.csv', index=False)\r\n",
        "train.to_csv('../temporal_data/train_id.csv', index=False)\r\n",
        "test.to_csv('../temporal_data/test_id.csv', index=False)"
      ],
      "execution_count": null,
      "outputs": []
    },
    {
      "cell_type": "markdown",
      "metadata": {
        "id": "PinFhlT9EfOr"
      },
      "source": [
        "Loading back data..."
      ]
    },
    {
      "cell_type": "code",
      "metadata": {
        "id": "o84gkllJI6QN"
      },
      "source": [
        "train = pd.read_csv('../temporal_data/train_id.csv')\r\n",
        "test = pd.read_csv('../temporal_data/test_id.csv')\r\n",
        "member = pd.read_csv('../temporal_data/members_id.csv')\r\n",
        "song_origin = pd.read_csv('../temporal_data/songs_id.csv')\r\n",
        "song_extra = pd.read_csv('../temporal_data/songs_extra_id.csv')"
      ],
      "execution_count": null,
      "outputs": []
    },
    {
      "cell_type": "code",
      "metadata": {
        "id": "yxK4NGIMH0ik"
      },
      "source": [
        "song = pd.DataFrame({'song_id': range(max(train.song_id.max(), test.song_id.max())+1)})\r\n",
        "song = song.merge(song_origin, on='song_id', how='left')\r\n",
        "song = song.merge(song_extra, on='song_id', how='left')"
      ],
      "execution_count": null,
      "outputs": []
    },
    {
      "cell_type": "code",
      "metadata": {
        "id": "lxiUpkq7H5C5"
      },
      "source": [
        "data = train[['msno', 'song_id']].append(test[['msno', 'song_id']])"
      ],
      "execution_count": null,
      "outputs": []
    },
    {
      "cell_type": "code",
      "metadata": {
        "id": "5g2LPDkcH96c"
      },
      "source": [
        "# song member count\r\n",
        "mem_rec_cnt = data.groupby(by='msno').count()['song_id'].to_dict()\r\n",
        "member['msno_rec_cnt'] = member['msno'].apply(lambda x: mem_rec_cnt[x])\r\n",
        "\r\n",
        "# processing ages less than 0 or greater than 75 years of age\r\n",
        "member['bd'] = member['bd'].apply(lambda x: np.nan if x <= 0 or x >= 75 else x)\r\n",
        "\r\n",
        "# artist song count\r\n",
        "artist_song_cnt = song.groupby(by='artist_name').count()['song_id'].to_dict()\r\n",
        "song['artist_song_cnt'] = song['artist_name'].apply(lambda x: artist_song_cnt[x] if not np.isnan(x) else np.nan)"
      ],
      "execution_count": null,
      "outputs": []
    },
    {
      "cell_type": "code",
      "metadata": {
        "id": "0fUE7iOoH_Sp"
      },
      "source": [
        "# composer song count\r\n",
        "composer_song_cnt = song.groupby(by='composer').count()['song_id'].to_dict()\r\n",
        "composer_song_cnt[0] = np.nan\r\n",
        "song['composer_song_cnt'] = song['composer'].apply(lambda x: composer_song_cnt[x] if not np.isnan(x) else np.nan)\r\n",
        "\r\n",
        "# lyricist song count\r\n",
        "lyricist_song_cnt = song.groupby(by='lyricist').count()['song_id'].to_dict()\r\n",
        "lyricist_song_cnt[0] = np.nan\r\n",
        "song['lyricist_song_cnt'] = song['lyricist'].apply(lambda x: lyricist_song_cnt[x] if not np.isnan(x) else np.nan)\r\n",
        "\r\n",
        "# genre song count\r\n",
        "genre_song_cnt = song.groupby(by='first_genre_id').count()['song_id'].to_dict()\r\n",
        "genre_song_cnt[0] = np.nan\r\n",
        "song['genre_song_cnt'] = song['first_genre_id'].apply(lambda x: genre_song_cnt[x] if not np.isnan(x) else np.nan)\r\n",
        "\r\n",
        "data = data.merge(song, on='song_id', how='left')\r\n",
        "\r\n",
        "# member song count\r\n",
        "song_rec_cnt = data.groupby(by='song_id').count()['msno'].to_dict()\r\n",
        "song['song_rec_cnt'] = song['song_id'].apply(lambda x: song_rec_cnt[x] if not np.isnan(x) else np.nan)\r\n",
        "\r\n",
        "# artist member count\r\n",
        "artist_rec_cnt = data.groupby(by='artist_name').count()['msno'].to_dict()\r\n",
        "song['artist_rec_cnt'] = song['artist_name'].apply(lambda x: artist_rec_cnt[x] if not np.isnan(x) else np.nan)\r\n",
        "\r\n",
        "# composer member count\r\n",
        "composer_rec_cnt = data.groupby(by='composer').count()['msno'].to_dict()\r\n",
        "composer_rec_cnt[0] = np.nan\r\n",
        "song['composer_rec_cnt'] = song['composer'].apply(lambda x: composer_rec_cnt[x] if not np.isnan(x) else np.nan)\r\n",
        "\r\n",
        "# lyricist member count\r\n",
        "lyricist_rec_cnt = data.groupby(by='lyricist').count()['msno'].to_dict()\r\n",
        "lyricist_rec_cnt[0] = np.nan\r\n",
        "song['lyricist_rec_cnt'] = song['lyricist'].apply(lambda x: lyricist_rec_cnt[x] if not np.isnan(x) else np.nan)\r\n",
        "\r\n",
        "# genre member count\r\n",
        "genre_rec_cnt = data.groupby(by='first_genre_id').count()['msno'].to_dict()\r\n",
        "genre_rec_cnt[0] = np.nan\r\n",
        "song['genre_rec_cnt'] = song['first_genre_id'].apply(lambda x: genre_rec_cnt[x] if not np.isnan(x) else np.nan)"
      ],
      "execution_count": null,
      "outputs": []
    },
    {
      "cell_type": "code",
      "metadata": {
        "id": "XxxRtF_pIGKs"
      },
      "source": [
        "## msno context features\r\n",
        "dummy_features = ['source_system_tab', 'source_screen_name', 'source_type']\r\n",
        "concat = train.drop('target', axis=1).append(test.drop('id', axis=1))\r\n",
        "\r\n",
        "for dumfeat in dummy_features:\r\n",
        "    feat_dummies = pd.get_dummies(concat[dumfeat])\r\n",
        "    feat_dummies.columns = ['msno_%s_'%dumfeat + '%s'%col for col in feat_dummies.columns]\r\n",
        "    feat_dummies['msno'] = concat['msno'].values\r\n",
        "    feat_dummies = feat_dummies.groupby('msno').mean()\r\n",
        "    member = member.merge(feat_dummies, on='msno', how='left')"
      ],
      "execution_count": null,
      "outputs": []
    },
    {
      "cell_type": "code",
      "metadata": {
        "id": "Etc5D3ExILyV"
      },
      "source": [
        "train_temp = train.merge(member, on='msno', how='left')\r\n",
        "test_temp = test.merge(member, on='msno', how='left')"
      ],
      "execution_count": null,
      "outputs": []
    },
    {
      "cell_type": "code",
      "metadata": {
        "id": "5GYV2mwLIP9y",
        "colab": {
          "base_uri": "https://localhost:8080/"
        },
        "outputId": "6bbf8989-6354-4397-96ae-0e464df09cd1"
      },
      "source": [
        "%%time\r\n",
        "\r\n",
        "train['msno_source_system_tab_prob'] = train_temp[[col for col in train_temp.columns if 'source_system_tab' in col]].apply(lambda x: \\\r\n",
        "        x['msno_source_system_tab_%d'%x['source_system_tab']], axis=1)\r\n",
        "test['msno_source_system_tab_prob'] = test_temp[[col for col in test_temp.columns if 'source_system_tab' in col]].apply(lambda x: \\\r\n",
        "        x['msno_source_system_tab_%d'%x['source_system_tab']], axis=1)\r\n",
        "print(\"'msno_source_system_tab_prob' done.\")\r\n",
        "\r\n",
        "train['msno_source_screen_name_prob'] = train_temp[[col for col in train_temp.columns if 'source_screen_name' in col]].apply(lambda x: \\\r\n",
        "        x['msno_source_screen_name_%d'%x['source_screen_name']], axis=1)\r\n",
        "test['msno_source_screen_name_prob'] = test_temp[[col for col in test_temp.columns if 'source_screen_name' in col]].apply(lambda x: \\\r\n",
        "        x['msno_source_screen_name_%d'%x['source_screen_name']], axis=1)\r\n",
        "print(\"'msno_source_screen_name_prob' done.\")\r\n",
        "\r\n",
        "train['msno_source_type_prob'] = train_temp[[col for col in train_temp.columns if 'source_type' in col]].apply(lambda x: \\\r\n",
        "        x['msno_source_type_%d'%x['source_type']], axis=1)\r\n",
        "test['msno_source_type_prob'] = test_temp[[col for col in test_temp.columns if 'source_type' in col]].apply(lambda x: \\\r\n",
        "        x['msno_source_type_%d'%x['source_type']], axis=1)\r\n",
        "print(\"'msno_source_type_prob' done.\")"
      ],
      "execution_count": null,
      "outputs": [
        {
          "output_type": "stream",
          "text": [
            "'msno_source_system_tab_prob' done.\n",
            "'msno_source_screen_name_prob' done.\n",
            "'msno_source_type_prob' done.\n",
            "CPU times: user 5min 27s, sys: 3.1 s, total: 5min 30s\n",
            "Wall time: 5min 30s\n"
          ],
          "name": "stdout"
        }
      ]
    },
    {
      "cell_type": "code",
      "metadata": {
        "id": "j7HuNbbGVpzn",
        "colab": {
          "base_uri": "https://localhost:8080/"
        },
        "outputId": "d151e1fe-47f9-491d-aa61-81b9d9e921f7"
      },
      "source": [
        "%cd /content/gdrive/My Drive/KKBox_MusicRecommendation/temporal_data"
      ],
      "execution_count": null,
      "outputs": [
        {
          "output_type": "stream",
          "text": [
            "/content/gdrive/My Drive/KKBox_MusicRecommendation/temporal_data\n"
          ],
          "name": "stdout"
        }
      ]
    },
    {
      "cell_type": "code",
      "metadata": {
        "id": "Iqn7UvhYOGi6"
      },
      "source": [
        "features_lst = ['msno_rec_cnt']\r\n",
        "for feat in features_lst:\r\n",
        "    # https://numpy.org/doc/stable/reference/generated/numpy.log1p.html\r\n",
        "    # https://stackoverflow.com/questions/49538185/what-is-the-purpose-of-numpy-log1p\r\n",
        "    member[feat] = np.log1p(member[feat])\r\n",
        "member.to_csv('../temporal_data/members_id_cnt.csv', index=False)\r\n",
        "\r\n",
        "# list features\r\n",
        "features_lst = ['song_length', 'song_rec_cnt', 'artist_song_cnt', 'composer_song_cnt', \\\r\n",
        "                'lyricist_song_cnt', 'genre_song_cnt', 'artist_rec_cnt', \\\r\n",
        "                'composer_rec_cnt', 'lyricist_rec_cnt', 'genre_rec_cnt']\r\n",
        "for feat in features_lst:\r\n",
        "    song[feat] = np.log1p(song[feat])\r\n",
        "song.to_csv('../temporal_data/songs_id_cnt.csv', index=False)\r\n",
        "\r\n",
        "train.to_csv('../temporal_data/train_id_cnt.csv', index=False)\r\n",
        "test.to_csv('../temporal_data/test_id_cnt.csv', index=False)"
      ],
      "execution_count": null,
      "outputs": []
    },
    {
      "cell_type": "code",
      "metadata": {
        "id": "3VF8g5N4Om9B",
        "colab": {
          "base_uri": "https://localhost:8080/"
        },
        "outputId": "7a1b25ab-d125-4f40-f6f3-ca85bd237479"
      },
      "source": [
        "## load the data\r\n",
        "train = pd.read_csv('../temporal_data/train_id.csv')\r\n",
        "test = pd.read_csv('../temporal_data/test_id.csv')\r\n",
        "song = pd.read_csv('../temporal_data/songs_id_cnt.csv')\r\n",
        "\r\n",
        "# taking msno and song_id in data\r\n",
        "data = train[['msno', 'song_id']].append(test[['msno', 'song_id']])\r\n",
        "\r\n",
        "print('Data loaded.')"
      ],
      "execution_count": null,
      "outputs": [
        {
          "output_type": "stream",
          "text": [
            "Data loaded.\n"
          ],
          "name": "stdout"
        }
      ]
    },
    {
      "cell_type": "code",
      "metadata": {
        "id": "uXzFljQkSwDC",
        "colab": {
          "base_uri": "https://localhost:8080/",
          "height": 284
        },
        "outputId": "6e538d7b-739b-4b5c-c0d8-37ba9ac166b3"
      },
      "source": [
        "song.head(2)"
      ],
      "execution_count": null,
      "outputs": [
        {
          "output_type": "execute_result",
          "data": {
            "text/html": [
              "<div>\n",
              "<style scoped>\n",
              "    .dataframe tbody tr th:only-of-type {\n",
              "        vertical-align: middle;\n",
              "    }\n",
              "\n",
              "    .dataframe tbody tr th {\n",
              "        vertical-align: top;\n",
              "    }\n",
              "\n",
              "    .dataframe thead th {\n",
              "        text-align: right;\n",
              "    }\n",
              "</style>\n",
              "<table border=\"1\" class=\"dataframe\">\n",
              "  <thead>\n",
              "    <tr style=\"text-align: right;\">\n",
              "      <th></th>\n",
              "      <th>song_id</th>\n",
              "      <th>song_length</th>\n",
              "      <th>artist_name</th>\n",
              "      <th>composer</th>\n",
              "      <th>lyricist</th>\n",
              "      <th>language</th>\n",
              "      <th>first_genre_id</th>\n",
              "      <th>second_genre_id</th>\n",
              "      <th>third_genre_id</th>\n",
              "      <th>genre_id_cnt</th>\n",
              "      <th>artist_cnt</th>\n",
              "      <th>lyricist_cnt</th>\n",
              "      <th>composer_cnt</th>\n",
              "      <th>is_featured</th>\n",
              "      <th>name</th>\n",
              "      <th>isrc</th>\n",
              "      <th>artist_song_cnt</th>\n",
              "      <th>composer_song_cnt</th>\n",
              "      <th>lyricist_song_cnt</th>\n",
              "      <th>genre_song_cnt</th>\n",
              "      <th>song_rec_cnt</th>\n",
              "      <th>artist_rec_cnt</th>\n",
              "      <th>composer_rec_cnt</th>\n",
              "      <th>lyricist_rec_cnt</th>\n",
              "      <th>genre_rec_cnt</th>\n",
              "    </tr>\n",
              "  </thead>\n",
              "  <tbody>\n",
              "    <tr>\n",
              "      <th>0</th>\n",
              "      <td>0</td>\n",
              "      <td>12.319053</td>\n",
              "      <td>37769.0</td>\n",
              "      <td>6828.0</td>\n",
              "      <td>14998.0</td>\n",
              "      <td>7.0</td>\n",
              "      <td>77.0</td>\n",
              "      <td>0.0</td>\n",
              "      <td>0.0</td>\n",
              "      <td>1.0</td>\n",
              "      <td>1.0</td>\n",
              "      <td>2.0</td>\n",
              "      <td>1.0</td>\n",
              "      <td>0.0</td>\n",
              "      <td>หัวใจให้เธอ</td>\n",
              "      <td>THBEW1500086</td>\n",
              "      <td>5.659482</td>\n",
              "      <td>1.098612</td>\n",
              "      <td>1.098612</td>\n",
              "      <td>9.800070</td>\n",
              "      <td>0.693147</td>\n",
              "      <td>5.891644</td>\n",
              "      <td>1.098612</td>\n",
              "      <td>1.098612</td>\n",
              "      <td>13.322739</td>\n",
              "    </tr>\n",
              "    <tr>\n",
              "      <th>1</th>\n",
              "      <td>1</td>\n",
              "      <td>12.510992</td>\n",
              "      <td>35250.0</td>\n",
              "      <td>35.0</td>\n",
              "      <td>13.0</td>\n",
              "      <td>8.0</td>\n",
              "      <td>41.0</td>\n",
              "      <td>0.0</td>\n",
              "      <td>0.0</td>\n",
              "      <td>1.0</td>\n",
              "      <td>1.0</td>\n",
              "      <td>0.0</td>\n",
              "      <td>0.0</td>\n",
              "      <td>0.0</td>\n",
              "      <td>Belle (Thème De \"Notre Dame De Paris\" - La Com...</td>\n",
              "      <td>FR0W61001657</td>\n",
              "      <td>1.386294</td>\n",
              "      <td>12.114856</td>\n",
              "      <td>12.665887</td>\n",
              "      <td>11.976081</td>\n",
              "      <td>1.386294</td>\n",
              "      <td>2.079442</td>\n",
              "      <td>14.646188</td>\n",
              "      <td>15.297888</td>\n",
              "      <td>15.437397</td>\n",
              "    </tr>\n",
              "  </tbody>\n",
              "</table>\n",
              "</div>"
            ],
            "text/plain": [
              "   song_id  song_length  ...  lyricist_rec_cnt  genre_rec_cnt\n",
              "0        0    12.319053  ...          1.098612      13.322739\n",
              "1        1    12.510992  ...         15.297888      15.437397\n",
              "\n",
              "[2 rows x 25 columns]"
            ]
          },
          "metadata": {
            "tags": []
          },
          "execution_count": 47
        }
      ]
    },
    {
      "cell_type": "code",
      "metadata": {
        "id": "z4M_-o79O8IL"
      },
      "source": [
        "# https://isrc.ifpi.org/en/isrc-standard/code-syntax\r\n",
        "\r\n",
        "# isrc process\r\n",
        "isrc = song['isrc']\r\n",
        "\r\n",
        "# Country Code – two characters issued by the ISRC Agency\r\n",
        "song['cc'] = isrc.str.slice(0, 2)\r\n",
        "# Registrant Code – a three-character alpha-numeric code issued by the ISRC Agency\r\n",
        "song['xxx'] = isrc.str.slice(2, 5)\r\n",
        "# Year of Reference – the last two digits of the year in which the ISRC is assigned\r\n",
        "# to the track – allocated by the Registrant\r\n",
        "song['yy'] = isrc.str.slice(5, 7).astype(float)\r\n",
        "song['yy'] = song['yy'].apply(lambda x: 2000+x if x < 18 else 1900+x)\r\n",
        "\r\n",
        "song['cc'] = LabelEncoder().fit_transform(song['cc'].fillna('0'))\r\n",
        "song['xxx'] = LabelEncoder().fit_transform(song['xxx'].fillna('0'))\r\n",
        "song['isrc_missing'] = (song['cc'] == 0) * 1.0"
      ],
      "execution_count": null,
      "outputs": []
    },
    {
      "cell_type": "code",
      "metadata": {
        "id": "ENM-LwBYPBXi"
      },
      "source": [
        "# song country code count\r\n",
        "song_cc_cnt = song.groupby(by='cc').count()['song_id'].to_dict()\r\n",
        "song_cc_cnt[0] = None\r\n",
        "song['cc_song_cnt'] = song['cc'].apply(lambda x: song_cc_cnt[x] if not np.isnan(x) else None)\r\n",
        "\r\n",
        "# song registrant code count\r\n",
        "song_xxx_cnt = song.groupby(by='xxx').count()['song_id'].to_dict()\r\n",
        "song_xxx_cnt[0] = None\r\n",
        "song['xxx_song_cnt'] = song['xxx'].apply(lambda x: song_xxx_cnt[x] if not np.isnan(x) else None)\r\n",
        "\r\n",
        "# song year count\r\n",
        "song_yy_cnt = song.groupby(by='yy').count()['song_id'].to_dict()\r\n",
        "song_yy_cnt[0] = None\r\n",
        "song['yy_song_cnt'] = song['yy'].apply(lambda x: song_yy_cnt[x] if not np.isnan(x) else None)\r\n",
        "\r\n",
        "data = data.merge(song, on='song_id', how='left')\r\n",
        "\r\n",
        "song_cc_cnt = data.groupby(by='cc').count()['msno'].to_dict()\r\n",
        "song_cc_cnt[0] = None\r\n",
        "song['cc_rec_cnt'] = song['cc'].apply(lambda x: song_cc_cnt[x] if not np.isnan(x) else None)\r\n",
        "\r\n",
        "song_xxx_cnt = data.groupby(by='xxx').count()['msno'].to_dict()\r\n",
        "song_xxx_cnt[0] = None\r\n",
        "song['xxx_rec_cnt'] = song['xxx'].apply(lambda x: song_xxx_cnt[x] if not np.isnan(x) else None)\r\n",
        "\r\n",
        "song_yy_cnt = data.groupby(by='yy').count()['msno'].to_dict()\r\n",
        "song_yy_cnt[0] = None\r\n",
        "song['yy_rec_cnt'] = song['yy'].apply(lambda x: song_yy_cnt[x] if not np.isnan(x) else None)"
      ],
      "execution_count": null,
      "outputs": []
    },
    {
      "cell_type": "code",
      "metadata": {
        "id": "bIuI6d1BPGSd"
      },
      "source": [
        "features_lst = ['cc_song_cnt', 'xxx_song_cnt', 'yy_song_cnt', 'cc_rec_cnt', \\\r\n",
        "                'xxx_rec_cnt', 'yy_rec_cnt']\r\n",
        "\r\n",
        "for feat in features_lst:\r\n",
        "    song[feat] = np.log1p(song[feat])\r\n",
        "\r\n",
        "song.drop(['name', 'isrc'], axis=1, inplace=True)\r\n",
        "song.to_csv('../temporal_data/songs_id_cnt_isrc.csv', index=False)"
      ],
      "execution_count": null,
      "outputs": []
    },
    {
      "cell_type": "code",
      "metadata": {
        "id": "HZS2b-OuVkKg",
        "colab": {
          "base_uri": "https://localhost:8080/"
        },
        "outputId": "c57139d8-f478-49ea-cb0c-ce0cda59a703"
      },
      "source": [
        "%cd /content/gdrive/My Drive/KKBox_MusicRecommendation/temporal_data"
      ],
      "execution_count": null,
      "outputs": [
        {
          "output_type": "stream",
          "text": [
            "/content/gdrive/My Drive/KKBox_MusicRecommendation/temporal_data\n"
          ],
          "name": "stdout"
        }
      ]
    },
    {
      "cell_type": "code",
      "metadata": {
        "id": "di1WpxJOPXYu"
      },
      "source": [
        "# load the data\r\n",
        "tr = pd.read_csv('../temporal_data/train_id_cnt.csv')\r\n",
        "te = pd.read_csv('../temporal_data/test_id_cnt.csv')\r\n",
        "member = pd.read_csv('../temporal_data/members_id_cnt.csv')\r\n",
        "song = pd.read_csv('../temporal_data/songs_id_cnt_isrc.csv')\r\n",
        "\r\n",
        "concat = tr[['msno', 'song_id']].append(te[['msno', 'song_id']])\r\n",
        "member_cnt = concat['msno'].max() + 1\r\n",
        "song_cnt = concat['song_id'].max() + 1\r\n",
        "artist_cnt = int(song['artist_name'].max() + 1)"
      ],
      "execution_count": null,
      "outputs": []
    },
    {
      "cell_type": "code",
      "metadata": {
        "id": "FOs1LkatPvbQ",
        "colab": {
          "base_uri": "https://localhost:8080/"
        },
        "outputId": "4b87d59f-f2a1-44bf-cbad-97e0d69c9c8d"
      },
      "source": [
        "# svd for user-song pairs\r\n",
        "n_components = 48\r\n",
        "\r\n",
        "print(len(concat))\r\n",
        "\r\n",
        "data = np.ones(len(concat))\r\n",
        "msno = concat['msno'].values\r\n",
        "song_id = concat['song_id'].values\r\n",
        "\r\n",
        "rating = sparse.coo_matrix((data, (msno, song_id)))\r\n",
        "rating = (rating > 0) * 1.0\r\n",
        "\r\n",
        "[u, s, vt] = svds(rating, k=n_components)\r\n",
        "print(s[::-1])\r\n",
        "s_song = np.diag(s[::-1])\r\n",
        "\r\n",
        "members_topics = pd.DataFrame(u[:, ::-1])\r\n",
        "members_topics.columns = ['member_component_%d'%i for i in range(n_components)]\r\n",
        "members_topics['msno'] = range(member_cnt)\r\n",
        "member = member.merge(members_topics, on='msno', how='right')\r\n",
        "\r\n",
        "song_topics = pd.DataFrame(vt.transpose()[:, ::-1])\r\n",
        "song_topics.columns = ['song_component_%d'%i for i in range(n_components)]\r\n",
        "song_topics['song_id'] = range(song_cnt)\r\n",
        "song = song.merge(song_topics, on='song_id', how='right')"
      ],
      "execution_count": null,
      "outputs": [
        {
          "output_type": "stream",
          "text": [
            "9934208\n",
            "[1079.09701569  402.36101388  342.15015604  290.25766789  267.48502621\n",
            "  209.99166484  201.41980994  186.60844183  176.48011044  171.87019751\n",
            "  166.79121794  164.30979427  159.6872633   152.93042253  148.44190296\n",
            "  146.07344883  138.47712124  136.88805245  132.59873434  132.02263033\n",
            "  130.96092559  129.04862187  125.54538462  124.33609337  121.7514836\n",
            "  120.57790438  119.51483604  117.37102969  116.98083352  115.27806765\n",
            "  113.75112337  112.84448524  109.47369206  108.56299432  106.69113104\n",
            "  106.64203013  105.20102045  102.78250425  101.55658569  100.48101846\n",
            "  100.1085423    98.3309683    98.05062556   97.82077495   97.20829481\n",
            "   96.1850887    95.76546976   95.22900134]\n"
          ],
          "name": "stdout"
        }
      ]
    },
    {
      "cell_type": "code",
      "metadata": {
        "id": "cqmTbDdkPwB6",
        "colab": {
          "base_uri": "https://localhost:8080/"
        },
        "outputId": "fb2161f1-19e8-48a3-c3ec-7c2c34a84c42"
      },
      "source": [
        "# svd for user-artist pairs\r\n",
        "n_components = 16\r\n",
        "\r\n",
        "concat = concat.merge(song[['song_id', 'artist_name']], on='song_id', how='left')\r\n",
        "concat = concat[concat['artist_name'] >= 0]\r\n",
        "msno = concat['msno'].values\r\n",
        "artist = concat['artist_name'].values.astype(int)\r\n",
        "\r\n",
        "print(len(concat))\r\n",
        "data = np.ones(len(concat))\r\n",
        "rating_tmp = sparse.coo_matrix((data, (msno, artist)))\r\n",
        "\r\n",
        "rating = np.log1p(rating_tmp) * 0.3 + (rating_tmp > 0) * 1.0\r\n",
        "\r\n",
        "[u, s, vt] = svds(rating, k=n_components)\r\n",
        "print(s[::-1])\r\n",
        "s_artist = np.diag(s[::-1])\r\n",
        "\r\n",
        "members_topics = pd.DataFrame(u[:, ::-1])\r\n",
        "members_topics.columns = ['member_artist_component_%d'%i for i in range(n_components)]\r\n",
        "members_topics['msno'] = range(member_cnt)\r\n",
        "member = member.merge(members_topics, on='msno', how='left')\r\n",
        "\r\n",
        "\r\n",
        "artist_topics = pd.DataFrame(vt.transpose()[:, ::-1])\r\n",
        "artist_topics.columns = ['artist_component_%d'%i for i in range(n_components)]\r\n",
        "artist_topics['artist_name'] = range(artist_cnt)\r\n",
        "song = song.merge(artist_topics, on='artist_name', how='left')"
      ],
      "execution_count": null,
      "outputs": [
        {
          "output_type": "stream",
          "text": [
            "9934069\n",
            "[1408.36398716  455.73519615  338.21892276  322.67571439  277.07120791\n",
            "  243.03345467  197.06733078  193.43869496  177.60460117  168.79532564\n",
            "  165.20992676  162.26970943  154.00695384  151.47375268  150.00775276\n",
            "  140.89518947]\n"
          ],
          "name": "stdout"
        }
      ]
    },
    {
      "cell_type": "code",
      "metadata": {
        "id": "cFXqHjBlP5M5"
      },
      "source": [
        "# dot features\r\n",
        "member = member.sort_values(by='msno')\r\n",
        "song = song.sort_values(by='song_id')\r\n",
        "\r\n",
        "mem_cols = ['member_component_%d'%i for i in range(48)]\r\n",
        "song_cols = ['song_component_%d'%i for i in range(48)]\r\n",
        "\r\n",
        "member_embeddings = member[mem_cols].values\r\n",
        "song_embeddings = song[song_cols].values\r\n",
        "\r\n",
        "mem_cols = ['member_artist_component_%d'%i for i in range(16)]\r\n",
        "song_cols = ['artist_component_%d'%i for i in range(16)]\r\n",
        "\r\n",
        "member_artist_embeddings = member[mem_cols].values\r\n",
        "song_artist_embeddings = song[song_cols].values\r\n",
        "\r\n",
        "train_dot = np.zeros((len(tr), 2))\r\n",
        "test_dot = np.zeros((len(te), 2))"
      ],
      "execution_count": null,
      "outputs": []
    },
    {
      "cell_type": "code",
      "metadata": {
        "id": "JZNBZUGyP8tO"
      },
      "source": [
        "for i in range(len(tr)):\r\n",
        "    msno_idx = tr['msno'].values[i]\r\n",
        "    song_idx = tr['song_id'].values[i]\r\n",
        "    \r\n",
        "    train_dot[i, 0] = np.dot(member_embeddings[msno_idx], np.dot(s_song, song_embeddings[song_idx]))\r\n",
        "    train_dot[i, 1] = np.dot(member_artist_embeddings[msno_idx], np.dot(s_artist, song_artist_embeddings[song_idx]))\r\n",
        "\r\n",
        "for i in range(len(te)):\r\n",
        "    msno_idx = te['msno'].values[i]\r\n",
        "    song_idx = te['song_id'].values[i]\r\n",
        "    \r\n",
        "    test_dot[i, 0] = np.dot(member_embeddings[msno_idx], np.dot(s_song, song_embeddings[song_idx]))\r\n",
        "    test_dot[i, 1] = np.dot(member_artist_embeddings[msno_idx], np.dot(s_artist, song_artist_embeddings[song_idx]))\r\n",
        "\r\n",
        "tr['song_embeddings_dot'] = train_dot[:, 0]\r\n",
        "tr['artist_embeddings_dot'] = train_dot[:, 1]\r\n",
        "\r\n",
        "te['song_embeddings_dot'] = test_dot[:, 0]\r\n",
        "te['artist_embeddings_dot'] = test_dot[:, 1]"
      ],
      "execution_count": null,
      "outputs": []
    },
    {
      "cell_type": "code",
      "metadata": {
        "id": "BI-6f7jWVuiV",
        "colab": {
          "base_uri": "https://localhost:8080/"
        },
        "outputId": "ed48025c-1155-4f1e-f97b-d2d09fda150f"
      },
      "source": [
        "%cd /content/gdrive/My Drive/KKBox_MusicRecommendation/temporal_data"
      ],
      "execution_count": null,
      "outputs": [
        {
          "output_type": "stream",
          "text": [
            "/content/gdrive/My Drive/KKBox_MusicRecommendation/temporal_data\n"
          ],
          "name": "stdout"
        }
      ]
    },
    {
      "cell_type": "code",
      "metadata": {
        "id": "oZPWve_iQMKc"
      },
      "source": [
        "tr.to_csv('../temporal_data/train_id_cnt_svd.csv', index=False)\r\n",
        "te.to_csv('../temporal_data/test_id_cnt_svd.csv', index=False)\r\n",
        "member.to_csv('../temporal_data/members_id_cnt_svd.csv', index=False)\r\n",
        "song.to_csv('../temporal_data/songs_id_cnt_isrc_svd.csv', index=False)"
      ],
      "execution_count": null,
      "outputs": []
    },
    {
      "cell_type": "markdown",
      "metadata": {
        "id": "BaDdm5CwFLBT"
      },
      "source": [
        "Loading back data..."
      ]
    },
    {
      "cell_type": "code",
      "metadata": {
        "id": "XaKoEmvAa7Uc"
      },
      "source": [
        "## load the data\r\n",
        "tr = pd.read_csv('../temporal_data/train_id_cnt_svd.csv')\r\n",
        "te = pd.read_csv('../temporal_data/test_id_cnt_svd.csv')\r\n",
        "mem = pd.read_csv('../temporal_data/members_id_cnt_svd.csv')\r\n",
        "song = pd.read_csv('../temporal_data/songs_id_cnt_isrc_svd.csv')"
      ],
      "execution_count": null,
      "outputs": []
    },
    {
      "cell_type": "code",
      "metadata": {
        "id": "ioRP7GC7bjLC"
      },
      "source": [
        "# continuous index\r\n",
        "concat = tr[['msno', 'song_id']].append(te[['msno', 'song_id']])\r\n",
        "concat['timestamp'] = range(len(concat))\r\n",
        "\r\n",
        "# windows_based count\r\n",
        "my_window_sizes = [10, 25, 500, 5000, 10000, 50000]\r\n",
        "\r\n",
        "msno_list = concat['msno'].values\r\n",
        "song_list = concat['song_id'].values"
      ],
      "execution_count": null,
      "outputs": []
    },
    {
      "cell_type": "code",
      "metadata": {
        "id": "AK4gZu9GblYU"
      },
      "source": [
        "def get_window_cnt(values, idx, window_size):\r\n",
        "    lower = max(0, idx-window_size)\r\n",
        "    upper = min(len(values), idx+window_size)\r\n",
        "    return (values[lower:idx] == values[idx]).sum(), (values[idx:upper] == values[idx]).sum()"
      ],
      "execution_count": null,
      "outputs": []
    },
    {
      "cell_type": "code",
      "metadata": {
        "id": "TInoGIqlbn1_",
        "colab": {
          "base_uri": "https://localhost:8080/"
        },
        "outputId": "25de6b7e-fe66-40d6-fcda-cadc1a435296"
      },
      "source": [
        "%%time\r\n",
        "\r\n",
        "for window_size in my_window_sizes:\r\n",
        "    msno_before_cnt = np.zeros(len(concat))\r\n",
        "    song_before_cnt = np.zeros(len(concat))\r\n",
        "    msno_after_cnt = np.zeros(len(concat))\r\n",
        "    song_after_cnt = np.zeros(len(concat))\r\n",
        "\r\n",
        "    for i in range(len(concat)):\r\n",
        "        msno_before_cnt[i], msno_after_cnt[i] = get_window_cnt(msno_list, i, window_size)\r\n",
        "        song_before_cnt[i], song_after_cnt[i] = get_window_cnt(song_list, i, window_size)\r\n",
        "        \r\n",
        "    concat['msno_%d_before_cnt'%window_size] = msno_before_cnt\r\n",
        "    concat['song_%d_before_cnt'%window_size] = song_before_cnt\r\n",
        "    concat['msno_%d_after_cnt'%window_size] = msno_after_cnt\r\n",
        "    concat['song_%d_after_cnt'%window_size] = song_after_cnt\r\n",
        "    \r\n",
        "    print('Window size for %d done.'%window_size)"
      ],
      "execution_count": null,
      "outputs": [
        {
          "output_type": "stream",
          "text": [
            "Window size for 10 done.\n",
            "Window size for 25 done.\n",
            "Window size for 500 done.\n",
            "Window size for 5000 done.\n",
            "Window size for 10000 done.\n",
            "Window size for 50000 done.\n"
          ],
          "name": "stdout"
        }
      ]
    },
    {
      "cell_type": "code",
      "metadata": {
        "id": "jijbf-Uvbszj",
        "colab": {
          "base_uri": "https://localhost:8080/"
        },
        "outputId": "fb3c6b74-a380-4bf0-f16d-1c44584b111e"
      },
      "source": [
        "# till_now count\r\n",
        "msno_dict = defaultdict(lambda: 0)\r\n",
        "song_dict = defaultdict(lambda: 0)\r\n",
        "\r\n",
        "msno_till_now_cnt = np.zeros(len(concat))\r\n",
        "song_till_now_cnt = np.zeros(len(concat))\r\n",
        "for i in range(len(concat)):\r\n",
        "    msno_till_now_cnt[i] = msno_dict[msno_list[i]]\r\n",
        "    msno_dict[msno_list[i]] += 1\r\n",
        "    \r\n",
        "    song_till_now_cnt[i] = song_dict[song_list[i]]\r\n",
        "    song_dict[song_list[i]] += 1\r\n",
        "\r\n",
        "concat['msno_till_now_cnt'] = msno_till_now_cnt\r\n",
        "concat['song_till_now_cnt'] = song_till_now_cnt\r\n",
        "\r\n",
        "print('Till-now count done.')"
      ],
      "execution_count": null,
      "outputs": [
        {
          "output_type": "stream",
          "text": [
            "Till-now count done.\n"
          ],
          "name": "stdout"
        }
      ]
    },
    {
      "cell_type": "code",
      "metadata": {
        "id": "Q4okgNv-bwUt",
        "colab": {
          "base_uri": "https://localhost:8080/"
        },
        "outputId": "4ff9974c-cef3-43c9-d7dd-6ace9f234726"
      },
      "source": [
        "# variance\r\n",
        "def timestamp_map(x):\r\n",
        "    if x < 7377418:\r\n",
        "        x = (x - 0.0) / (7377417.0 - 0.0) * (1484236800.0 - 1471190400.0) + 1471190400.0\r\n",
        "    else:\r\n",
        "        x = (x - 7377417.0) / (9934207.0 - 7377417.0) * (1488211200.0 - 1484236800.0) + 1484236800.0\r\n",
        "\r\n",
        "    return x\r\n",
        "    \r\n",
        "concat['timestamp'] = concat['timestamp'].apply(timestamp_map)\r\n",
        "\r\n",
        "msno_mean = concat.groupby(by='msno').mean()['timestamp'].to_dict()\r\n",
        "mem['msno_timestamp_mean'] = mem['msno'].apply(lambda x: msno_mean[x])\r\n",
        "\r\n",
        "msno_std = concat.groupby(by='msno').std()['timestamp'].to_dict()\r\n",
        "mem['msno_timestamp_std'] = mem['msno'].apply(lambda x: msno_std[x])\r\n",
        "\r\n",
        "song_mean = concat.groupby(by='song_id').mean()['timestamp'].to_dict()\r\n",
        "song['song_timestamp_mean'] = song['song_id'].apply(lambda x: song_mean[x])\r\n",
        "\r\n",
        "song_std = concat.groupby(by='song_id').std()['timestamp'].to_dict()\r\n",
        "song['song_timestamp_std'] = song['song_id'].apply(lambda x: song_std[x])\r\n",
        "\r\n",
        "print('Variance done.')"
      ],
      "execution_count": null,
      "outputs": [
        {
          "output_type": "stream",
          "text": [
            "Variance done.\n"
          ],
          "name": "stdout"
        }
      ]
    },
    {
      "cell_type": "code",
      "metadata": {
        "id": "70hOgf2ndvKt",
        "colab": {
          "base_uri": "https://localhost:8080/"
        },
        "outputId": "edc685ac-f24e-4e89-c1db-3ec2c939cf0f"
      },
      "source": [
        "%cd /content/gdrive/My Drive/KKBox_MusicRecommendation/temporal_data"
      ],
      "execution_count": null,
      "outputs": [
        {
          "output_type": "stream",
          "text": [
            "/content/gdrive/My Drive/KKBox_MusicRecommendation/temporal_data\n"
          ],
          "name": "stdout"
        }
      ]
    },
    {
      "cell_type": "code",
      "metadata": {
        "id": "FI-zK27Sb0VA"
      },
      "source": [
        "## save to files\r\n",
        "features = ['msno_till_now_cnt', 'song_till_now_cnt']\r\n",
        "for window_size in my_window_sizes:\r\n",
        "    features += ['msno_%d_before_cnt'%window_size, 'song_%d_before_cnt'%window_size, \\\r\n",
        "            'msno_%d_after_cnt'%window_size, 'song_%d_after_cnt'%window_size]\r\n",
        "for feat in features:\r\n",
        "    concat[feat] = np.log1p(concat[feat])\r\n",
        "\r\n",
        "features = ['timestamp'] + features\r\n",
        "\r\n",
        "data = concat[features].values\r\n",
        "for i in range(len(features)):\r\n",
        "    tr[features[i]] = data[:len(tr), i]\r\n",
        "    te[features[i]] = data[len(tr):, i]\r\n",
        "\r\n",
        "tr.to_csv('../temporal_data/train_id_cnt_svd_stamp.csv', index=False)\r\n",
        "te.to_csv('../temporal_data/test_id_cnt_svd_stamp.csv', index=False)\r\n",
        "mem.to_csv('../temporal_data/members_id_cnt_svd_stamp.csv', index=False)\r\n",
        "song.to_csv('../temporal_data/songs_id_cnt_isrc_svd_stamp.csv', index=False)"
      ],
      "execution_count": null,
      "outputs": []
    },
    {
      "cell_type": "markdown",
      "metadata": {
        "id": "7AouYJt4Gged"
      },
      "source": [
        "Loading back data..."
      ]
    },
    {
      "cell_type": "code",
      "metadata": {
        "id": "stpg-w6adsWG"
      },
      "source": [
        "## load data\r\n",
        "tr = pd.read_csv('../temporal_data/train_id_cnt_svd_stamp.csv')\r\n",
        "te = pd.read_csv('../temporal_data/test_id_cnt_svd_stamp.csv')\r\n",
        "\r\n",
        "print('data loaded.')\r\n",
        "print(len(tr))\r\n",
        "print(len(te))"
      ],
      "execution_count": null,
      "outputs": []
    },
    {
      "cell_type": "code",
      "metadata": {
        "id": "_4UgOQhFdzos"
      },
      "source": [
        "# continuous index\r\n",
        "concat = tr[['msno', 'song_id', 'source_type', 'source_screen_name', 'timestamp']].append(te[['msno', \\\r\n",
        "             'song_id', 'source_type', 'source_screen_name', 'timestamp']])"
      ],
      "execution_count": null,
      "outputs": []
    },
    {
      "cell_type": "code",
      "metadata": {
        "id": "ZgRZOTN3d2ys"
      },
      "source": [
        "# before data\r\n",
        "song_dict = defaultdict(lambda: None)\r\n",
        "type_dict = defaultdict(lambda: None)\r\n",
        "name_dict = defaultdict(lambda: None)\r\n",
        "time_dict = defaultdict(lambda: None)\r\n",
        "\r\n",
        "before_data = np.zeros((len(concat), 4))\r\n",
        "for i in range(len(concat)):\r\n",
        "    msno = concat['msno'].values[i]\r\n",
        "    \r\n",
        "    if(song_dict[msno] == None):\r\n",
        "        before_data[i] = concat[['song_id', 'source_type', 'source_screen_name', 'timestamp']].values[i]\r\n",
        "        before_data[i, 3] = np.nan\r\n",
        "    else:\r\n",
        "        before_data[i, 0] = song_dict[msno]\r\n",
        "        before_data[i, 1] = type_dict[msno]\r\n",
        "        before_data[i, 2] = name_dict[msno]\r\n",
        "        before_data[i, 3] = time_dict[msno]\r\n",
        "\r\n",
        "    song_dict[msno] = concat['song_id'].values[i]\r\n",
        "    type_dict[msno] = concat['source_type'].values[i]\r\n",
        "    name_dict[msno] = concat['source_screen_name'].values[i]\r\n",
        "    time_dict[msno] = concat['timestamp'].values[i]\r\n",
        "\r\n",
        "print('data before done.')"
      ],
      "execution_count": null,
      "outputs": []
    },
    {
      "cell_type": "code",
      "metadata": {
        "id": "4FPf24izd5pn"
      },
      "source": [
        "# after data\r\n",
        "song_dict = defaultdict(lambda: None)\r\n",
        "type_dict = defaultdict(lambda: None)\r\n",
        "name_dict = defaultdict(lambda: None)\r\n",
        "time_dict = defaultdict(lambda: None)\r\n",
        "\r\n",
        "after_data = np.zeros((len(concat), 4))\r\n",
        "for i in range(len(concat))[::-1]:\r\n",
        "    msno = concat['msno'].values[i]\r\n",
        "    \r\n",
        "    if(song_dict[msno] == None):\r\n",
        "        after_data[i] = concat[['song_id', 'source_type', 'source_screen_name', 'timestamp']].values[i]\r\n",
        "        after_data[i, 3] = np.nan\r\n",
        "    else:\r\n",
        "        after_data[i, 0] = song_dict[msno]\r\n",
        "        after_data[i, 1] = type_dict[msno]\r\n",
        "        after_data[i, 2] = name_dict[msno]\r\n",
        "        after_data[i, 3] = time_dict[msno]\r\n",
        "\r\n",
        "    song_dict[msno] = concat['song_id'].values[i]\r\n",
        "    type_dict[msno] = concat['source_type'].values[i]\r\n",
        "    name_dict[msno] = concat['source_screen_name'].values[i]\r\n",
        "    time_dict[msno] = concat['timestamp'].values[i]\r\n",
        "\r\n",
        "print('data after done.')"
      ],
      "execution_count": null,
      "outputs": []
    },
    {
      "cell_type": "code",
      "metadata": {
        "id": "c1llR5E5d_h1"
      },
      "source": [
        "%cd /content/gdrive/My Drive/KKBox_MusicRecommendation/temporal_data"
      ],
      "execution_count": null,
      "outputs": []
    },
    {
      "cell_type": "code",
      "metadata": {
        "id": "qMWo3GLLd9BJ"
      },
      "source": [
        "idx = 0\r\n",
        "for i in ['song_id', 'source_type', 'source_screen_name', 'timestamp']:\r\n",
        "    tr['before_'+i] = before_data[:len(tr), idx]\r\n",
        "    tr['after_'+i] = after_data[:len(tr), idx]\r\n",
        "    \r\n",
        "    te['before_'+i] = before_data[len(tr):, idx]\r\n",
        "    te['after_'+i] = after_data[len(tr):, idx]\r\n",
        "    \r\n",
        "    idx += 1\r\n",
        "\r\n",
        "for i in ['song_id', 'source_type', 'source_screen_name']:\r\n",
        "    tr['before_'+i] = tr['before_'+i].astype(int)\r\n",
        "    te['before_'+i] = te['before_'+i].astype(int)\r\n",
        "    tr['after_'+i] = tr['after_'+i].astype(int)\r\n",
        "    te['after_'+i] = te['after_'+i].astype(int)\r\n",
        "\r\n",
        "tr['before_timestamp'] = np.log1p(tr['timestamp'] - tr['before_timestamp'])\r\n",
        "te['before_timestamp'] = np.log1p(te['timestamp'] - te['before_timestamp'])\r\n",
        "\r\n",
        "tr['after_timestamp'] = np.log1p(tr['after_timestamp'] - tr['timestamp'])\r\n",
        "te['after_timestamp'] = np.log1p(te['after_timestamp'] - te['timestamp'])\r\n",
        "\r\n",
        "tr['before_timestamp'].fillna(np.nanmean(tr['before_timestamp']), inplace=True)\r\n",
        "te['before_timestamp'].fillna(np.nanmean(te['before_timestamp']), inplace=True)\r\n",
        "tr['after_timestamp'].fillna(np.nanmean(tr['after_timestamp']), inplace=True)\r\n",
        "te['after_timestamp'].fillna(np.nanmean(te['after_timestamp']), inplace=True)\r\n",
        "\r\n",
        "tr.to_csv('../temporal_data/train_id_cnt_svd_stamp_before_after.csv', index=False)\r\n",
        "te.to_csv('../temporal_data/test_id_cnt_svd_stamp_before_after.csv', index=False)"
      ],
      "execution_count": null,
      "outputs": []
    },
    {
      "cell_type": "markdown",
      "metadata": {
        "id": "Rx3T3R6iFVMp"
      },
      "source": [
        "Loading back data..."
      ]
    },
    {
      "cell_type": "code",
      "metadata": {
        "id": "PSOWjn-beG2L"
      },
      "source": [
        "# load the data\r\n",
        "train = pd.read_csv('../temporal_data/train_id_cnt_svd_stamp_before_after.csv')\r\n",
        "test = pd.read_csv('../temporal_data/test_id_cnt_svd_stamp_before_after.csv')\r\n",
        "member = pd.read_csv('../temporal_data/members_id_cnt_svd_stamp.csv')\r\n",
        "song = pd.read_csv('../temporal_data/songs_id_cnt_isrc_svd_stamp.csv')"
      ],
      "execution_count": null,
      "outputs": []
    },
    {
      "cell_type": "code",
      "metadata": {
        "id": "faCsI5_GeSKa"
      },
      "source": [
        "# prepare data for train & test\r\n",
        "train.to_csv('../train.csv', index=False, float_format='%.6f')\r\n",
        "test.to_csv('../test.csv', index=False, float_format='%.6f')\r\n",
        "\r\n",
        "train['iid'] = train['song_id'] * 100000 + train['msno']\r\n",
        "test['iid'] = test['song_id'] * 100000 + test['msno']\r\n",
        "\r\n",
        "iid_set = set(test['iid'].values)\r\n",
        "train['appeared'] = train['iid'].apply(lambda x: x in iid_set)\r\n",
        "train = train[train['appeared'] == False]\r\n",
        "\r\n",
        "train.drop(['iid', 'appeared'], axis=1, inplace=True)\r\n",
        "train.to_csv('../train_part.csv', index=False, float_format='%.6f')"
      ],
      "execution_count": null,
      "outputs": []
    },
    {
      "cell_type": "code",
      "metadata": {
        "id": "BghQcS8GeZG0"
      },
      "source": [
        "# prepare data for member & song for GBDT\r\n",
        "member.to_csv('../members_gbdt.csv', index=False)\r\n",
        "\r\n",
        "columns = ['composer', 'lyricist', 'language', 'first_genre_id', 'second_genre_id', 'third_genre_id']\r\n",
        "for col in columns:\r\n",
        "    song[col].fillna(0, inplace=True)\r\n",
        "    song[col] = song[col].astype(int)\r\n",
        "song['artist_name'].fillna(np.max(song['artist_name'])+1, inplace=True)\r\n",
        "song['artist_name'] = song['artist_name'].astype(int)\r\n",
        "song['isrc_missing'] = song['isrc_missing'].astype(int)\r\n",
        "song.to_csv('../songs_gbdt.csv', index=False)"
      ],
      "execution_count": null,
      "outputs": []
    },
    {
      "cell_type": "code",
      "metadata": {
        "id": "gHIYhHevehBn"
      },
      "source": [
        "member['bd_missing'] = np.isnan(member['bd'].values) * 1\r\n",
        "\r\n",
        "columns = ['bd']\r\n",
        "for col in columns:\r\n",
        "    member[col].fillna(np.nanmean(member[col]), inplace=True)\r\n",
        "\r\n",
        "member['msno_timestamp_std'].fillna(np.nanmin(member['msno_timestamp_std']), inplace=True)\r\n",
        "\r\n",
        "song['song_id_missing'] = np.isnan(song['song_length'].values) * 1\r\n",
        "\r\n",
        "columns = ['song_length', 'genre_id_cnt', 'artist_song_cnt', 'composer_song_cnt', \\\r\n",
        "       'lyricist_song_cnt', 'genre_song_cnt', 'song_rec_cnt', \\\r\n",
        "       'artist_rec_cnt', 'composer_rec_cnt', 'lyricist_rec_cnt', \\\r\n",
        "       'genre_rec_cnt', 'yy', 'cc_song_cnt', \\\r\n",
        "       'xxx_song_cnt', 'yy_song_cnt', 'cc_rec_cnt', 'xxx_rec_cnt', \\\r\n",
        "       'yy_rec_cnt', 'song_timestamp_std', 'artist_cnt', 'lyricist_cnt', \\\r\n",
        "       'composer_cnt', 'is_featured'] + ['artist_component_%d'%i for i in range(16)]\r\n",
        "for col in columns:\r\n",
        "    song[col].fillna(np.nanmean(song[col]), inplace=True)"
      ],
      "execution_count": null,
      "outputs": []
    },
    {
      "cell_type": "code",
      "metadata": {
        "id": "57OP_p-2e0rE"
      },
      "source": [
        "%cd /content/gdrive/My Drive/KKBox_MusicRecommendation/temporal_data"
      ],
      "execution_count": null,
      "outputs": []
    },
    {
      "cell_type": "markdown",
      "metadata": {
        "id": "QIhnc_3JGNdi"
      },
      "source": [
        "Loading back data..."
      ]
    },
    {
      "cell_type": "code",
      "metadata": {
        "id": "abkaUpbReykF"
      },
      "source": [
        "tr = pd.read_csv('../train_part.csv')\r\n",
        "te = pd.read_csv('../test.csv')"
      ],
      "execution_count": null,
      "outputs": []
    },
    {
      "cell_type": "code",
      "metadata": {
        "id": "XVapqLU9e36g"
      },
      "source": [
        "concat = tr[['msno', 'song_id', 'source_system_tab', 'source_screen_name', \\\r\n",
        "        'source_type']].append(te[['msno', 'song_id', 'source_system_tab', \\\r\n",
        "        'source_screen_name', 'source_type']])\r\n",
        "concat = concat.merge(song[['song_id', 'song_length', 'artist_name', 'first_genre_id', \\\r\n",
        "        'artist_rec_cnt', 'song_rec_cnt', 'artist_song_cnt', 'xxx', 'yy', \\\r\n",
        "        'language']], on='song_id', how='left')\r\n",
        "\r\n",
        "concat['source'] = concat['source_system_tab'] * 10000 + concat['source_screen_name'] * 100 + \\\r\n",
        "        concat['source_type']\r\n",
        "from sklearn.preprocessing import LabelEncoder\r\n",
        "concat['source'] = LabelEncoder().fit_transform(concat['source'].values)"
      ],
      "execution_count": null,
      "outputs": []
    },
    {
      "cell_type": "code",
      "metadata": {
        "id": "jmzYWM1Ae7L4"
      },
      "source": [
        "# member features\r\n",
        "\r\n",
        "mem_add = pd.DataFrame({'msno': range(concat['msno'].max()+1)})\r\n",
        "data_avg = concat[['msno', 'song_length', 'artist_song_cnt', \\\r\n",
        "                   'artist_rec_cnt', 'song_rec_cnt', 'yy']].groupby('msno').mean()\r\n",
        "data_avg.columns = ['msno_'+i+'_mean' for i in data_avg.columns]\r\n",
        "data_avg['msno'] = data_avg.index.values\r\n",
        "mem_add = mem_add.merge(data_avg, on='msno', how='left')\r\n",
        "\r\n",
        "data_std = concat[['msno', 'song_length', 'artist_song_cnt', \\\r\n",
        "                   'artist_rec_cnt', 'song_rec_cnt', 'yy']].groupby('msno').std()\r\n",
        "data_std.columns = ['msno_'+i+'_std' for i in data_std.columns]\r\n",
        "data_std['msno'] = data_std.index.values\r\n",
        "mem_add = mem_add.merge(data_std, on='msno', how='left')\r\n",
        "\r\n",
        "artist_msno = concat[['msno', 'artist_name']].groupby('msno').apply(lambda x: len(set(x['artist_name'].values)))\r\n",
        "mem_add['artist_msno_cnt'] = artist_msno\r\n",
        "mem_add['artist_msno_cnt'] = np.log1p(mem_add['artist_msno_cnt'])\r\n",
        "\r\n",
        "language_dummy = pd.get_dummies(concat['language'])\r\n",
        "language_dummy['msno'] = concat['msno'].values\r\n",
        "language_prob = language_dummy.groupby('msno').mean()\r\n",
        "language_prob.columns = ['msno_language_%d'%i for i in language_prob.columns]\r\n",
        "language_prob['msno'] = language_prob.index\r\n",
        "mem_add = mem_add.merge(language_prob, on='msno', how='left')\r\n",
        "\r\n",
        "mem_add.to_csv('../members_add.csv', index=False)"
      ],
      "execution_count": null,
      "outputs": []
    },
    {
      "cell_type": "code",
      "metadata": {
        "id": "7voWxpEUe-MW"
      },
      "source": [
        "# train & test features\r\n",
        "\r\n",
        "col = ['artist_name', 'first_genre_id', 'xxx', 'language', 'yy', 'source']\r\n",
        "for feat in col:\r\n",
        "    concat['id'] = concat['msno'] * 100000 + concat[feat]\r\n",
        "    id_cnt = concat[['msno', 'id']].groupby('id').count().to_dict()['msno']\r\n",
        "    concat['msno_'+feat+'_cnt'] = concat['id'].apply(lambda x: id_cnt[x])\r\n",
        "\r\n",
        "msno_cnt = concat[['msno', 'song_id']].groupby('msno').count().to_dict()['song_id']\r\n",
        "concat['msno_cnt'] = concat['msno'].apply(lambda x: msno_cnt[x])\r\n",
        "for feat in col:\r\n",
        "    concat['msno_'+feat+'_prob'] = concat['msno_'+feat+'_cnt'] / concat['msno_cnt']\r\n",
        "\r\n",
        "cols = ['source_system_tab', 'source_screen_name', 'source_type']\r\n",
        "for col in cols:\r\n",
        "    concat['id'] = concat['song_id'] * 10000 + concat[col]\r\n",
        "    id_cnt = concat[['msno', 'id']].groupby('id').count().to_dict()['msno']\r\n",
        "    concat['song_'+col+'_cnt'] = concat['id'].apply(lambda x: id_cnt[x])\r\n",
        "\r\n",
        "song_cnt = concat[['msno', 'song_id']].groupby('song_id').count().to_dict()['msno']\r\n",
        "concat['song_cnt'] = concat['song_id'].apply(lambda x: song_cnt[x])\r\n",
        "\r\n",
        "for col in cols:\r\n",
        "    concat['song_'+col+'_prob'] = concat['song_'+col+'_cnt'] / concat['song_cnt']\r\n",
        "\r\n",
        "result = concat[['msno_artist_name_prob', 'msno_first_genre_id_prob', 'msno_xxx_prob', \\\r\n",
        "                 'msno_language_prob', 'msno_yy_prob', 'song_source_system_tab_prob', \\\r\n",
        "                 'song_source_screen_name_prob', 'song_source_type_prob', 'source', 'msno_source_prob']]\r\n",
        "\r\n",
        "result[:len(tr)].to_csv('../train_part_add.csv', index=False)\r\n",
        "result[len(tr):].to_csv('../test_add.csv', index=False)"
      ],
      "execution_count": null,
      "outputs": []
    }
  ]
}